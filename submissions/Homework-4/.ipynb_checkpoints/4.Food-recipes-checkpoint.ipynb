{
 "metadata": {
  "name": "",
  "signature": "sha256:81ce2d29967c8c1bca72e0fb77fea6c6e3620fafb571860b2807ec85264decff"
 },
 "nbformat": 3,
 "nbformat_minor": 0,
 "worksheets": [
  {
   "cells": [
    {
     "cell_type": "markdown",
     "metadata": {},
     "source": [
      "(In order to load the stylesheet of this notebook, execute the last code cell in this notebook)"
     ]
    },
    {
     "cell_type": "heading",
     "level": 1,
     "metadata": {},
     "source": [
      "Clustering food recipes from around the world"
     ]
    },
    {
     "cell_type": "markdown",
     "metadata": {},
     "source": [
      "In this assignment, you are expected to hierarchically cluster food recipes. We will be using YY Ahn's dataset \"[Recipe datasets with cuisines](http://yongyeol.com/data/scirep-cuisines-detail.zip)\", which for each recipe provides a list of ingredients and the country of origin, scraped from popular recipe websites. He also provides an [ingredient and compounds dataset](http://yongyeol.com/data/ingr_comp.zip), which you could potentially also make use of, if you find it interesting.\n",
      "\n",
      "You will be graded as follow:\n",
      "* Data parsing and representation **(20 pts)**\n",
      "* Clustering **(30 pts)**\n",
      "* Visualization **(30 pts)**\n",
      "* Short (datailed) analysis of specific cluster **(20 pts)**\n",
      "\n",
      "---------------------------"
     ]
    },
    {
     "cell_type": "code",
     "collapsed": false,
     "input": [
      "import pandas as pd\n",
      "import seaborn as sns\n",
      "from matplotlib import pyplot as plt\n",
      "%matplotlib inline\n",
      "import numpy as np\n",
      "import sklearn.metrics as metrics\n",
      "from sklearn.cluster import KMeans\n",
      "from sklearn.preprocessing import StandardScaler\n",
      "import scipy.sparse.linalg as linalg\n",
      "import scipy.cluster.hierarchy as hr\n",
      "import sklearn.cluster as cluster\n",
      "from sklearn.decomposition import TruncatedSVD\n",
      "from scipy.spatial.distance import pdist, squareform"
     ],
     "language": "python",
     "metadata": {},
     "outputs": [],
     "prompt_number": 2
    },
    {
     "cell_type": "heading",
     "level": 2,
     "metadata": {},
     "source": [
      "Data parsing and representation"
     ]
    },
    {
     "cell_type": "markdown",
     "metadata": {},
     "source": [
      "I need to read in and combine 3 separate datasets.\n",
      "\n",
      "Initially, I need 2 columns: origin of recipe and ingredients.\n",
      "The ingredients column will contain a list of ingredient delimited by spaces.\n",
      "\n",
      "Before reading in text files, I will modify them so that origin and ingredients are separated by a comma."
     ]
    },
    {
     "cell_type": "code",
     "collapsed": false,
     "input": [
      "#Open first file\n",
      "allr = open('allr_commas.txt', 'w')\n",
      "\n",
      "#Iterate through each line in file\n",
      "#Find first space in line, add a ','\n",
      "\n",
      "with open('scirep-cuisines-detail/allr_recipes.txt', 'r') as f:\n",
      "    data = f.readlines()\n",
      "    for line in data:\n",
      "        words = line.split('\\t', 1)\n",
      "        edited = words[0]+','+words[1]\n",
      "        allr.write(edited.replace('\\t', ' '))\n",
      "\n",
      "      #Repeat for the next 2 files\n",
      "     \n",
      "epic = open('epic_commas.txt', 'w')\n",
      "    \n",
      "with open('scirep-cuisines-detail/epic_recipes.txt', 'r') as f:\n",
      "    data = f.readlines()\n",
      "    for line in data:\n",
      "        words = line.split('\\t', 1)\n",
      "        edited = words[0]+','+words[1]\n",
      "        epic.write(edited.replace('\\t', ' '))\n",
      "\n",
      "menu = open('menu_commas.txt', 'w')\n",
      "      \n",
      "with open('scirep-cuisines-detail/menu_recipes.txt', 'r') as f:\n",
      "    data = f.readlines()\n",
      "    for line in data:\n",
      "        words = line.split('\\t', 1)\n",
      "        edited = words[0]+','+words[1]\n",
      "        menu.write(edited.replace('\\t', ' '))"
     ],
     "language": "python",
     "metadata": {},
     "outputs": [],
     "prompt_number": 3
    },
    {
     "cell_type": "code",
     "collapsed": false,
     "input": [
      "#Create dataframes\n",
      "allr = pd.read_csv('allr_commas.txt', names=['ORIGIN', 'INGREDIENTS'])\n",
      "      \n",
      "epic = pd.read_csv('epic_commas.txt', names=['ORIGIN', 'INGREDIENTS'])\n",
      "\n",
      "menu = pd.read_csv('menu_commas.txt', names=['ORIGIN', 'INGREDIENTS'])\n",
      "\n",
      "#Create master dataframe with all three combined\n",
      "recipes = pd.concat([allr, epic, menu])\n",
      "print recipes.head()\n",
      "print recipes.size\n",
      "\n",
      "#Read in map.txt\n",
      "maps = pd.read_csv('scirep-cuisines-detail/map.txt', names = ['ORIGIN','REGION'], delimiter='\\\\t')\n",
      "print maps.head()\n",
      "print maps.size"
     ],
     "language": "python",
     "metadata": {},
     "outputs": [
      {
       "output_type": "stream",
       "stream": "stdout",
       "text": [
        "   ORIGIN                                        INGREDIENTS\n",
        "0  Canada                          egg yeast wheat milk lard\n",
        "1  Canada                       pork carrot pea onion potato\n",
        "2  Canada                                        maple_syrup\n",
        "3  Canada  wheat yeast almond honey oat date vegetable_oi...\n",
        "4  Canada  butter lovage clam wheat onion thyme potato ye...\n",
        "115198\n",
        "       ORIGIN         REGION\n",
        "0      Canada  NorthAmerican\n",
        "1      Turkey  MiddleEastern\n",
        "2  east_asian      EastAsian\n",
        "3   Caribbean  LatinAmerican\n",
        "4  Bangladesh     SouthAsian"
       ]
      },
      {
       "output_type": "stream",
       "stream": "stdout",
       "text": [
        "\n",
        "138\n"
       ]
      },
      {
       "output_type": "stream",
       "stream": "stderr",
       "text": [
        "/Users/Akumi/anaconda/lib/python2.7/site-packages/pandas/io/parsers.py:639: ParserWarning: Falling back to the 'python' engine because the 'c' engine does not support regex separators; you can avoid this warning by specifying engine='python'.\n",
        "  ParserWarning)\n"
       ]
      }
     ],
     "prompt_number": 4
    },
    {
     "cell_type": "markdown",
     "metadata": {},
     "source": [
      "Exploring dataset"
     ]
    },
    {
     "cell_type": "code",
     "collapsed": false,
     "input": [
      "print recipes.ORIGIN.value_counts()\n",
      "print maps.ORIGIN.value_counts()\n",
      "print maps.REGION.value_counts()"
     ],
     "language": "python",
     "metadata": {},
     "outputs": [
      {
       "output_type": "stream",
       "stream": "stdout",
       "text": [
        "American              40150\n",
        "Mexico                 1754\n",
        "Italian                1715\n",
        "Italy                  1461\n",
        "Asian                  1176\n",
        "French                  996\n",
        "east_asian              951\n",
        "Canada                  774\n",
        "korean                  767\n",
        "Mexican                 622\n",
        "western                 450\n",
        "Southern_SoulFood       346\n",
        "India                   324\n",
        "Jewish                  320\n",
        "Spanish_Portuguese      291\n",
        "...\n",
        "Austria          21\n",
        "Iran             21\n",
        "Switzerland      20\n",
        "Pakistan         19\n",
        "Malaysia         18\n",
        "asian            17\n",
        "South-African    16\n",
        "Turkey           16\n",
        "mexico           14\n",
        "West-African     13\n",
        "Indonesia        12\n",
        "Belgium          11\n",
        "East-African     11\n",
        "Israel            9\n",
        "Bangladesh        4\n",
        "Length: 69, dtype: int64\n",
        "italian                  1\n",
        "Pakistan                 1\n",
        "Italy                    1\n",
        "Jewish                   1\n",
        "South-African            1\n",
        "Cajun_Creole             1\n",
        "UK-and-Ireland           1\n",
        "French                   1\n",
        "Central_SouthAmerican    1\n",
        "Netherlands              1\n",
        "Germany                  1\n",
        "Belgium                  1\n",
        "Thailand                 1\n",
        "Thai                     1\n",
        "South-America            1\n",
        "...\n",
        "Italian                    1\n",
        "EasternEuropean_Russian    1\n",
        "Mediterranean              1\n",
        "MiddleEastern              1\n",
        "African                    1\n",
        "western                    1\n",
        "Vietnam                    1\n",
        "American                   1\n",
        "Greek                      1\n",
        "Scandinavian               1\n",
        "East-African               1\n",
        "Indonesia                  1\n",
        "Philippines                1\n",
        "India                      1\n",
        "Canada                     1\n",
        "Length: 69, dtype: int64\n",
        "WesternEuropean     12\n",
        "EastAsian            9\n",
        "SouthernEuropean     8\n",
        "SoutheastAsian       7\n",
        "LatinAmerican        6\n",
        "MiddleEastern        6\n",
        "African              6\n",
        "NorthAmerican        5\n",
        "SouthAsian           4\n",
        "EasternEuropean      2\n",
        "NorthernEuropean     2\n",
        "dtype: int64\n"
       ]
      }
     ],
     "prompt_number": 5
    },
    {
     "cell_type": "markdown",
     "metadata": {},
     "source": [
      "Add a region column to the dataset."
     ]
    },
    {
     "cell_type": "code",
     "collapsed": false,
     "input": [
      "region_recipes = pd.DataFrame()\n",
      "for origin, origin_data in recipes.groupby('ORIGIN'):\n",
      "    #print origin\n",
      "    maps_row = maps[(maps.ORIGIN == origin)]\n",
      "    region = maps_row.values[0,1]\n",
      "    if (region):\n",
      "        origin_data['REGION'] = region\n",
      "    else:\n",
      "        origin_data['REGION'] = origin\n",
      "    \n",
      "    #print origin_data \n",
      "    region_recipes = pd.concat([region_recipes, origin_data])\n",
      "\n",
      "    #Then concat() origin_data to df"
     ],
     "language": "python",
     "metadata": {},
     "outputs": [
      {
       "output_type": "stream",
       "stream": "stderr",
       "text": [
        "-c:7: SettingWithCopyWarning: \n",
        "A value is trying to be set on a copy of a slice from a DataFrame.\n",
        "Try using .loc[row_indexer,col_indexer] = value instead\n",
        "\n",
        "See the the caveats in the documentation: http://pandas.pydata.org/pandas-docs/stable/indexing.html#indexing-view-versus-copy\n",
        "-c:9: SettingWithCopyWarning: \n",
        "A value is trying to be set on a copy of a slice from a DataFrame.\n",
        "Try using .loc[row_indexer,col_indexer] = value instead\n",
        "\n",
        "See the the caveats in the documentation: http://pandas.pydata.org/pandas-docs/stable/indexing.html#indexing-view-versus-copy\n"
       ]
      }
     ],
     "prompt_number": 6
    },
    {
     "cell_type": "markdown",
     "metadata": {},
     "source": [
      "Add a combined region and ingredients column to give to vectorizer. \n",
      "This will later ease identifying which ingredient cluster belongs to what region."
     ]
    },
    {
     "cell_type": "code",
     "collapsed": false,
     "input": [
      "#region_recipes['REG_ING'] = region_recipes.REGION + ' ' + region_recipes.INGREDIENTS\n",
      "\n",
      "region_recipes.head()"
     ],
     "language": "python",
     "metadata": {},
     "outputs": [
      {
       "html": [
        "<div style=\"max-height:1000px;max-width:1500px;overflow:auto;\">\n",
        "<table border=\"1\" class=\"dataframe\">\n",
        "  <thead>\n",
        "    <tr style=\"text-align: right;\">\n",
        "      <th></th>\n",
        "      <th>ORIGIN</th>\n",
        "      <th>INGREDIENTS</th>\n",
        "      <th>REGION</th>\n",
        "    </tr>\n",
        "  </thead>\n",
        "  <tbody>\n",
        "    <tr>\n",
        "      <th>7802</th>\n",
        "      <td> African</td>\n",
        "      <td> butter raisin almond cayenne mace saffron hone...</td>\n",
        "      <td> African</td>\n",
        "    </tr>\n",
        "    <tr>\n",
        "      <th>7803</th>\n",
        "      <td> African</td>\n",
        "      <td> coriander olive_oil lemon_juice onion black_pe...</td>\n",
        "      <td> African</td>\n",
        "    </tr>\n",
        "    <tr>\n",
        "      <th>7804</th>\n",
        "      <td> African</td>\n",
        "      <td> coriander fenugreek pepper lemon_juice onion c...</td>\n",
        "      <td> African</td>\n",
        "    </tr>\n",
        "    <tr>\n",
        "      <th>7805</th>\n",
        "      <td> African</td>\n",
        "      <td>                   quince lemon_juice garlic onion</td>\n",
        "      <td> African</td>\n",
        "    </tr>\n",
        "    <tr>\n",
        "      <th>7806</th>\n",
        "      <td> African</td>\n",
        "      <td> olive_oil lemon_juice lemon shallot cayenne pa...</td>\n",
        "      <td> African</td>\n",
        "    </tr>\n",
        "  </tbody>\n",
        "</table>\n",
        "</div>"
       ],
       "metadata": {},
       "output_type": "pyout",
       "prompt_number": 8,
       "text": [
        "       ORIGIN                                        INGREDIENTS   REGION\n",
        "7802  African  butter raisin almond cayenne mace saffron hone...  African\n",
        "7803  African  coriander olive_oil lemon_juice onion black_pe...  African\n",
        "7804  African  coriander fenugreek pepper lemon_juice onion c...  African\n",
        "7805  African                    quince lemon_juice garlic onion  African\n",
        "7806  African  olive_oil lemon_juice lemon shallot cayenne pa...  African"
       ]
      }
     ],
     "prompt_number": 8
    },
    {
     "cell_type": "heading",
     "level": 2,
     "metadata": {},
     "source": [
      "Clustering"
     ]
    },
    {
     "cell_type": "markdown",
     "metadata": {},
     "source": [
      "**Goal: **I will attempt to cluster ingredients for recipies to see which frequently occur together. I expect that clustered recipes will tend to have originated from the same regions. We may also find that some recipe clusters may have originated from various regions in close geographical or cultural proximity. "
     ]
    },
    {
     "cell_type": "markdown",
     "metadata": {},
     "source": [
      "Regions represented in data set:"
     ]
    },
    {
     "cell_type": "code",
     "collapsed": false,
     "input": [
      "region_recipes.REGION.value_counts()"
     ],
     "language": "python",
     "metadata": {},
     "outputs": [
      {
       "metadata": {},
       "output_type": "pyout",
       "prompt_number": 9,
       "text": [
        "NorthAmerican       41494\n",
        "SouthernEuropean     4148\n",
        "LatinAmerican        2917\n",
        "WesternEuropean      2659\n",
        "EastAsian            2482\n",
        "Asian                1176\n",
        "MiddleEastern         645\n",
        "SouthAsian            621\n",
        "SoutheastAsian        457\n",
        "EasternEuropean       381\n",
        "African               352\n",
        "NorthernEuropean      250\n",
        "asian                  17\n",
        "dtype: int64"
       ]
      }
     ],
     "prompt_number": 9
    },
    {
     "cell_type": "markdown",
     "metadata": {},
     "source": [
      "Size of the data set.\n",
      "***Important:*** Data set is too large to hierarchically cluster in a reasonable period of time. I will select a subset of dataset."
     ]
    },
    {
     "cell_type": "code",
     "collapsed": false,
     "input": [
      "region_recipes.shape"
     ],
     "language": "python",
     "metadata": {},
     "outputs": [
      {
       "metadata": {},
       "output_type": "pyout",
       "prompt_number": 7,
       "text": [
        "(57599, 3)"
       ]
      }
     ],
     "prompt_number": 7
    },
    {
     "cell_type": "markdown",
     "metadata": {},
     "source": [
      "I decided to use the most distinct regions, so \"Asian, \"Southeast Asian\" will be excluded due to possible regional overlap.\n",
      "In total 10 regions. I am picking an equal amount of recipies from each region at random to speed up clustering process."
     ]
    },
    {
     "cell_type": "code",
     "collapsed": false,
     "input": [
      "select_recipes = pd.DataFrame()\n",
      "\n",
      "region_list = ['NorthAmerican', 'SouthernEuropean', 'LatinAmerican', 'WesternEuropean', 'EastAsian', 'MiddleEastern', 'SouthAsian', 'EasternEuropean', 'African', 'NorthernEuropean']\n",
      "\n",
      "recipe_number = 100\n",
      "\n",
      "for i in range (0, len(region_list)):\n",
      "    select_recipes = select_recipes.append(region_recipes[(region_recipes.REGION == region_list[i])].head(recipe_number))\n"
     ],
     "language": "python",
     "metadata": {},
     "outputs": [],
     "prompt_number": 194
    },
    {
     "cell_type": "markdown",
     "metadata": {},
     "source": [
      "Vectorize data:"
     ]
    },
    {
     "cell_type": "code",
     "collapsed": false,
     "input": [
      "from sklearn.feature_extraction.text import TfidfVectorizer\n",
      "\n",
      "#Increase min_df, decreasing dimensionality of data\n",
      "vectorizer = TfidfVectorizer(stop_words='english', min_df=4, max_df=0.8)\n",
      "\n",
      "tfid_ingredients = vectorizer.fit_transform(select_recipes.INGREDIENTS)"
     ],
     "language": "python",
     "metadata": {},
     "outputs": [],
     "prompt_number": 195
    },
    {
     "cell_type": "markdown",
     "metadata": {},
     "source": [
      "Exploring the vectorizer output reveals that rows corresponds to data points/ recipes.\n",
      "The columns corresponds to distinct ingredients."
     ]
    },
    {
     "cell_type": "code",
     "collapsed": false,
     "input": [
      "print tfid_ingredients.shape\n",
      "#print tfid_ingredients\n",
      "#print len(vectorizer.get_feature_names())\n",
      "\n",
      "print vectorizer.get_feature_names()"
     ],
     "language": "python",
     "metadata": {},
     "outputs": [
      {
       "output_type": "stream",
       "stream": "stdout",
       "text": [
        "(1000, 190)\n",
        "[u'almond', u'apple', u'apricot', u'asparagus', u'avocado', u'bacon', u'banana', u'barley', u'basil', u'bay', u'bean', u'beef', u'beef_broth', u'beer', u'beet', u'bell_pepper', u'black_bean', u'black_pepper', u'black_tea', u'brandy', u'bread', u'broccoli', u'brown_rice', u'butter', u'buttermilk', u'cabbage', u'cane_molasses', u'caraway', u'cardamom', u'carrot', u'cashew', u'cauliflower', u'cayenne', u'celery', u'celery_oil', u'cheddar_cheese', u'cheese', u'cherry', u'chicken', u'chicken_broth', u'chickpea', u'chive', u'cider', u'cilantro', u'cinnamon', u'citrus', u'cocoa', u'coconut', u'cod', u'coffee', u'coriander', u'corn', u'cottage_cheese', u'crab', u'cranberry', u'cream', u'cream_cheese', u'cucumber', u'cumin', u'cured_pork', u'currant', u'date', u'dill', u'egg', u'egg_noodle', u'fennel', u'fenugreek', u'feta_cheese', u'fish', u'fruit', u'garlic', u'gelatin', u'ginger', u'grape_juice', u'green_bell_pepper', u'ham', u'hazelnut', u'honey', u'horseradish', u'lamb', u'lard', u'leek', u'lemon', u'lemon_juice', u'lemon_peel', u'lentil', u'lettuce', u'lime', u'lime_juice', u'lobster', u'macaroni', u'mace', u'mango', u'maple_syrup', u'marjoram', u'meat', u'milk', u'milk_fat', u'mint', u'mozzarella_cheese', u'mushroom', u'mustard', u'nut', u'nutmeg', u'oat', u'okra', u'olive', u'olive_oil', u'onion', u'orange', u'orange_juice', u'orange_peel', u'oregano', u'oyster', u'parmesan_cheese', u'parsley', u'pea', u'peanut', u'peanut_butter', u'peanut_oil', u'pecan', u'pepper', u'pineapple', u'pistachio', u'plum', u'pork', u'pork_sausage', u'potato', u'pumpkin', u'radish', u'raisin', u'raspberry', u'red_wine', u'rice', u'roasted_beef', u'roasted_peanut', u'roasted_pork', u'rose', u'rosemary', u'rum', u'rye_flour', u'saffron', u'sage', u'sake', u'salmon', u'sauerkraut', u'scallion', u'scallop', u'seed', u'sesame_oil', u'sesame_seed', u'shallot', u'sherry', u'shiitake', u'shrimp', u'smoke', u'smoked_sausage', u'soy_sauce', u'soybean', u'squash', u'star_anise', u'starch', u'strawberry', u'sweet_potato', u'swiss_cheese', u'tabasco_pepper', u'tamarind', u'tarragon', u'tea', u'thyme', u'tomato', u'tuna', u'turkey', u'turmeric', u'turnip', u'vanilla', u'veal', u'vegetable', u'vegetable_oil', u'vinegar', u'walnut', u'wheat', u'whiskey', u'white_bread', u'white_wine', u'whole_grain_wheat_flour', u'wine', u'yeast', u'yogurt', u'zucchini']\n"
       ]
      }
     ],
     "prompt_number": 196
    },
    {
     "cell_type": "code",
     "collapsed": false,
     "input": [
      "#It is necessary to convert sparse matrix to dense in order to use pdist\n",
      "#distanceMatrix = pdist(tfid_ingredients.todense(),'euclidean')"
     ],
     "language": "python",
     "metadata": {},
     "outputs": [],
     "prompt_number": 197
    },
    {
     "cell_type": "code",
     "collapsed": false,
     "input": [
      "Z = hr.linkage(tfid_ingredients.todense(), method='ward', metric='euclidean')\n",
      "print Z.shape\n",
      "\n",
      "print 'Clustering complete!'"
     ],
     "language": "python",
     "metadata": {},
     "outputs": [
      {
       "output_type": "stream",
       "stream": "stdout",
       "text": [
        "(999, 4)\n",
        "Clustering complete!\n"
       ]
      }
     ],
     "prompt_number": 198
    },
    {
     "cell_type": "heading",
     "level": 3,
     "metadata": {},
     "source": [
      "Visualization"
     ]
    },
    {
     "cell_type": "markdown",
     "metadata": {},
     "source": [
      "Must see dendrogram to evaluate cluster number and error."
     ]
    },
    {
     "cell_type": "code",
     "collapsed": false,
     "input": [
      "#Full dendrogram\n",
      "fig = plt.figure(figsize=(10,10))\n",
      "T = hr.dendrogram(Z, color_threshold=0.4, leaf_font_size=4)\n",
      "fig.show()"
     ],
     "language": "python",
     "metadata": {},
     "outputs": [
      {
       "metadata": {},
       "output_type": "display_data",
       "png": "[encoded data removed]",
       "text": [
        "<matplotlib.figure.Figure at 0x1c9a4ab10>"
       ]
      }
     ],
     "prompt_number": 199
    },
    {
     "cell_type": "markdown",
     "metadata": {},
     "source": [
      "Based on the above dendrogram, I have chosen to get flat clusters at threshold : 3.5"
     ]
    },
    {
     "cell_type": "code",
     "collapsed": false,
     "input": [
      "#Cut at y = .3.5, error\n",
      "\n",
      "#ck is composed of labels for the distance matrix\n",
      "ck = hr.fcluster(hr.linkage(tfid_ingredients.todense(), method='ward'), 3.5,'distance')\n",
      "#print ck\n",
      "#print ck.shape"
     ],
     "language": "python",
     "metadata": {},
     "outputs": [],
     "prompt_number": 200
    },
    {
     "cell_type": "code",
     "collapsed": false,
     "input": [
      "print ck"
     ],
     "language": "python",
     "metadata": {},
     "outputs": [
      {
       "output_type": "stream",
       "stream": "stdout",
       "text": [
        "[8 2 4 7 8 4 4 2 8 4 2 2 4 4 4 4 4 4 2 2 4 4 2 2 2 7 4 2 2 2 7 8 4 8 2 7 8\n",
        " 8 2 2 8 5 9 8 8 8 8 2 2 8 8 8 8 2 8 8 7 5 7 8 8 5 8 8 4 8 4 2 2 8 2 8 4 7\n",
        " 4 2 8 2 2 8 7 8 8 2 9 8 8 7 8 8 8 9 8 7 2 9 7 8 4 8 7 7 7 8 9 7 7 7 2 8 8\n",
        " 7 2 7 8 7 8 7 7 2 7 7 7 7 7 7 4 7 2 8 7 7 7 7 7 2 8 7 7 7 2 7 7 8 2 7 7 7\n",
        " 7 8 2 7 8 7 7 7 8 7 7 7 7 7 8 7 7 7 7 7 7 8 7 7 7 9 7 7 6 2 7 7 4 7 7 2 7\n",
        " 7 7 7 7 9 2 8 7 7 7 2 7 8 7 7 7 9 7 7 2 9 7 8 8 9 5 2 2 8 8 5 8 8 4 8 9 4\n",
        " 8 8 8 8 2 5 2 9 7 8 8 8 8 8 8 7 2 7 2 9 9 5 8 7 8 7 7 2 7 9 8 8 9 2 5 8 7\n",
        " 9 8 7 8 2 8 8 8 8 8 8 7 8 7 8 8 7 4 2 8 8 2 7 9 7 7 8 8 2 8 2 8 7 2 7 2 7\n",
        " 7 7 7 9 4 3 4 2 4 8 4 2 2 4 2 4 8 8 8 2 2 4 4 4 2 3 2 3 1 4 8 4 8 8 8 2 8\n",
        " 2 8 8 2 8 7 2 7 4 4 2 8 2 8 4 2 4 4 8 8 8 2 8 8 4 4 2 4 4 2 2 4 8 8 8 4 4\n",
        " 4 8 2 4 2 4 1 2 2 4 2 2 2 8 2 2 6 4 4 2 4 4 8 2 2 2 2 8 8 7 8 8 6 6 8 6 7\n",
        " 6 6 8 1 8 6 6 6 6 8 6 6 8 6 6 6 8 2 6 6 2 8 8 8 6 6 5 6 6 6 6 2 8 6 2 6 6\n",
        " 6 6 6 9 6 6 6 6 6 6 6 6 2 6 9 6 8 6 8 6 6 6 2 6 6 6 8 6 6 8 9 3 8 4 9 6 2\n",
        " 6 6 9 2 6 6 6 6 6 8 6 6 6 6 6 6 6 6 6 7 2 7 7 2 7 7 2 9 2 8 7 2 8 7 5 7 7\n",
        " 9 7 9 2 7 9 7 2 2 4 4 2 8 2 8 4 2 4 2 4 2 7 9 7 8 8 7 2 4 8 2 7 9 7 2 8 2\n",
        " 8 2 2 7 8 8 5 7 9 2 8 1 4 5 7 8 2 1 4 8 8 2 4 4 8 2 4 2 2 4 2 7 8 5 4 5 7\n",
        " 2 1 8 8 7 8 4 4 9 9 9 9 9 5 2 9 5 9 5 5 9 4 5 9 7 9 9 5 5 5 5 5 2 9 8 5 8\n",
        " 5 5 5 2 5 5 5 7 5 8 7 4 5 5 9 9 2 7 2 9 5 8 9 8 9 5 5 9 7 5 5 2 5 9 2 5 9\n",
        " 5 5 5 5 7 9 5 9 8 8 9 9 5 9 9 9 9 5 9 1 5 9 9 5 9 2 9 9 9 8 7 7 5 8 8 8 2\n",
        " 4 9 7 8 7 8 4 7 8 8 1 8 8 8 8 8 1 8 4 8 7 8 7 7 2 1 4 8 2 8 2 8 4 8 2 7 8\n",
        " 8 8 8 8 7 1 8 2 2 4 8 8 4 8 8 8 8 8 7 8 2 1 8 8 8 2 4 4 7 1 8 8 4 8 1 1 4\n",
        " 8 8 8 8 2 2 2 8 8 4 8 2 8 7 4 1 7 8 2 2 8 8 2 9 7 5 7 7 7 9 9 7 5 4 9 8 2\n",
        " 7 9 9 7 9 5 4 9 9 8 9 7 7 7 7 1 7 7 5 9 7 7 9 2 7 7 7 9 9 7 2 8 7 9 9 7 8\n",
        " 7 7 7 7 7 7 7 5 9 7 5 7 9 7 9 9 5 7 8 7 9 9 7 9 9 7 9 5 7 5 7 7 9 9 9 7 7\n",
        " 8 4 8 7 5 7 5 7 7 7 8 9 2 4 2 4 8 7 3 4 8 2 4 8 4 1 2 3 4 2 4 4 7 3 4 2 2\n",
        " 2 7 3 1 8 8 3 3 8 2 2 8 9 3 2 8 2 8 1 3 3 4 2 3 8 2 9 4 2 1 4 3 3 8 9 2 2\n",
        " 4 1 2 8 8 2 3 2 4 8 4 9 8 8 3 1 7 4 2 4 1 3 2 1 1 4 3 4 2 2 8 1 1 9 9 4 2\n",
        " 8]\n"
       ]
      }
     ],
     "prompt_number": 201
    },
    {
     "cell_type": "code",
     "collapsed": false,
     "input": [
      "#Convert condensed matrix to format that seaborn can map\n",
      "fullDistanceMatrix = squareform(distanceMatrix)"
     ],
     "language": "python",
     "metadata": {},
     "outputs": [],
     "prompt_number": 202
    },
    {
     "cell_type": "code",
     "collapsed": false,
     "input": [
      "#Seaborn dendogram/heatmap\n",
      "cg = sns.clustermap(tfid_ingredients.toarray(), method=\"ward\", figsize=(13,13), xticklabels=False)\n",
      "print cg.dendrogram_col.reordered_ind"
     ],
     "language": "python",
     "metadata": {},
     "outputs": [
      {
       "output_type": "stream",
       "stream": "stdout",
       "text": [
        "[174, 189, 61, 71, 151, 81, 84, 8, 138, 152, 16, 158, 40, 60, 69, 111, 119, 163, 177, 124, 162, 6, 131, 137, 166, 145, 52, 64, 2, 97, 154, 79, 141, 102, 35, 185, 90, 114, 27, 140, 86, 65, 186, 120, 87, 139, 37, 122, 76, 150, 92, 95, 143, 172, 134, 93, 129, 156, 4, 7, 89, 59, 99, 128, 153, 123, 147, 135, 136, 75, 155, 34, 14, 126, 165, 21, 113, 183, 12, 94, 13, 31, 30, 104, 22, 118, 48, 117, 53, 105, 168, 19, 91, 49, 42, 167, 3, 171, 78, 176, 142, 41, 73, 18, 160, 164, 159, 45, 182, 54, 85, 144, 63, 23, 181, 178, 0, 96, 55, 175, 130, 101, 1, 77, 24, 103, 62, 188, 25, 161, 29, 39, 116, 57, 67, 98, 66, 149, 109, 110, 33, 10, 100, 68, 88, 169, 9, 184, 106, 112, 132, 74, 5, 51, 148, 47, 36, 56, 70, 108, 17, 107, 44, 38, 32, 72, 121, 170, 127, 82, 83, 187, 26, 179, 15, 43, 11, 20, 115, 58, 50, 173, 80, 28, 46, 180, 146, 157, 125, 133]\n"
       ]
      },
      {
       "metadata": {},
       "output_type": "display_data",
       "png": "[encoded data removed]",
       "text": [
        "<matplotlib.figure.Figure at 0x2a30c9250>"
       ]
      }
     ],
     "prompt_number": 203
    },
    {
     "cell_type": "markdown",
     "metadata": {},
     "source": [
      "Create dataframe with labels, ingredients and regions to see if my hypothesis is correct. There were 9 clusters identified and 10 total regions included in the data, which so far suggests the hypothesis is valid. "
     ]
    },
    {
     "cell_type": "code",
     "collapsed": false,
     "input": [
      "#Get labels\n",
      "hr_labels = ck\n",
      "\n",
      "#Get all terms\n",
      "terms = vectorizer.get_feature_names()\n",
      "\n",
      "#Create term df with labels for display\n",
      "clustered_recipes = pd.DataFrame()\n",
      "\n",
      "#print len(hr_labels)\n",
      "#print len(terms)\n",
      "\n",
      "#Get recipes\n",
      "print tfid_ingredients.toarray()\n",
      "recipes = vectorizer.inverse_transform(tfid_ingredients)\n",
      "\n",
      "print len(recipes)\n",
      "\n",
      "clustered_recipes['LABEL'] = hr_labels\n",
      "clustered_recipes['INGREDIENTS'] = recipes\n",
      "clustered_recipes['REGION'] = select_recipes.REGION.tolist()\n",
      "\n",
      "print clustered_recipes.head()\n"
     ],
     "language": "python",
     "metadata": {},
     "outputs": [
      {
       "output_type": "stream",
       "stream": "stdout",
       "text": [
        "[[ 0.          0.          0.         ...,  0.          0.          0.        ]\n",
        " [ 0.          0.          0.         ...,  0.          0.          0.        ]\n",
        " [ 0.          0.          0.         ...,  0.          0.          0.        ]\n",
        " ..., \n",
        " [ 0.          0.          0.         ...,  0.          0.          0.        ]\n",
        " [ 0.          0.41861686  0.         ...,  0.          0.          0.        ]\n",
        " [ 0.          0.          0.         ...,  0.          0.          0.        ]]\n",
        "1000"
       ]
      },
      {
       "output_type": "stream",
       "stream": "stdout",
       "text": [
        "\n",
        "   LABEL                                        INGREDIENTS         REGION\n",
        "0      8           [onion, mustard, chicken, honey, tomato]  NorthAmerican\n",
        "1      2  [cayenne, raspberry, pecan, ginger, black_pepp...  NorthAmerican\n",
        "2      4                                      [milk, cocoa]  NorthAmerican\n",
        "3      7  [garlic, basil, macaroni, parmesan_cheese, oli...  NorthAmerican\n",
        "4      8  [beet, carrot, chickpea, white_wine, potato, t...  NorthAmerican\n"
       ]
      }
     ],
     "prompt_number": 204
    },
    {
     "cell_type": "code",
     "collapsed": false,
     "input": [
      "clustered_recipes.LABEL.value_counts()"
     ],
     "language": "python",
     "metadata": {},
     "outputs": [
      {
       "metadata": {},
       "output_type": "pyout",
       "prompt_number": 205,
       "text": [
        "8    240\n",
        "7    199\n",
        "2    174\n",
        "4    109\n",
        "9    102\n",
        "6     66\n",
        "5     62\n",
        "1     28\n",
        "3     20\n",
        "dtype: int64"
       ]
      }
     ],
     "prompt_number": 205
    },
    {
     "cell_type": "heading",
     "level": 3,
     "metadata": {},
     "source": [
      "Explore clusters"
     ]
    },
    {
     "cell_type": "markdown",
     "metadata": {},
     "source": [
      "See counts of each region per cluster to determine if recipes were successfully clustered by region."
     ]
    },
    {
     "cell_type": "code",
     "collapsed": false,
     "input": [
      "for i in range (1, 10):\n",
      "    print 'Cluster %d' %(i)\n",
      "    print clustered_recipes[(clustered_recipes.LABEL == i)].REGION.value_counts()\n",
      "    print '\\n'"
     ],
     "language": "python",
     "metadata": {},
     "outputs": [
      {
       "output_type": "stream",
       "stream": "stdout",
       "text": [
        "Cluster 1\n",
        "NorthernEuropean    11\n",
        "EasternEuropean      9\n",
        "MiddleEastern        3\n",
        "WesternEuropean      2\n",
        "SouthAsian           1\n",
        "EastAsian            1\n",
        "African              1\n",
        "dtype: int64\n",
        "\n",
        "\n",
        "Cluster 2\n",
        "WesternEuropean     33\n",
        "MiddleEastern       27\n",
        "NorthAmerican       26\n",
        "NorthernEuropean    25\n",
        "EasternEuropean     16\n",
        "LatinAmerican       16\n",
        "SouthernEuropean    12\n",
        "EastAsian            8\n",
        "SouthAsian           8\n",
        "African              3\n",
        "dtype: int64\n",
        "\n",
        "\n",
        "Cluster 3\n",
        "NorthernEuropean    16\n",
        "WesternEuropean      3\n",
        "EastAsian            1\n",
        "dtype: int64\n",
        "\n",
        "\n",
        "Cluster 4\n",
        "WesternEuropean     31\n",
        "NorthernEuropean    20\n",
        "NorthAmerican       19\n",
        "MiddleEastern       15\n",
        "EasternEuropean     13\n",
        "African              3\n",
        "LatinAmerican        3\n",
        "SouthAsian           2\n",
        "SouthernEuropean     2\n",
        "EastAsian            1\n",
        "dtype: int64\n",
        "\n",
        "\n",
        "Cluster 5\n",
        "SouthAsian       37\n",
        "African          11\n",
        "MiddleEastern     5\n",
        "LatinAmerican     5\n",
        "NorthAmerican     3\n",
        "EastAsian         1\n",
        "dtype: int64\n",
        "\n",
        "\n",
        "Cluster 6\n",
        "EastAsian           64\n",
        "SouthernEuropean     1\n",
        "WesternEuropean      1\n",
        "dtype: int64\n",
        "\n",
        "\n",
        "Cluster 7\n",
        "SouthernEuropean    67\n",
        "African             45\n",
        "LatinAmerican       25\n",
        "MiddleEastern       23\n",
        "EasternEuropean     12\n",
        "NorthAmerican       11\n",
        "SouthAsian           8\n",
        "NorthernEuropean     4\n",
        "WesternEuropean      3\n",
        "EastAsian            1\n",
        "dtype: int64\n",
        "\n",
        "\n",
        "Cluster 8\n",
        "EasternEuropean     49\n",
        "LatinAmerican       39\n",
        "NorthAmerican       37\n",
        "WesternEuropean     27\n",
        "MiddleEastern       20\n",
        "EastAsian           18\n",
        "NorthernEuropean    18\n",
        "SouthernEuropean    15\n",
        "SouthAsian           9\n",
        "African              8\n",
        "dtype: int64\n",
        "\n",
        "\n",
        "Cluster 9\n",
        "SouthAsian          35\n",
        "African             29\n",
        "LatinAmerican       12\n",
        "MiddleEastern        7\n",
        "NorthernEuropean     6\n",
        "EastAsian            5\n",
        "NorthAmerican        4\n",
        "SouthernEuropean     3\n",
        "EasternEuropean      1\n",
        "dtype: int64\n",
        "\n",
        "\n"
       ]
      }
     ],
     "prompt_number": 206
    },
    {
     "cell_type": "heading",
     "level": 2,
     "metadata": {},
     "source": [
      "Analysis"
     ]
    },
    {
     "cell_type": "markdown",
     "metadata": {},
     "source": [
      "**Hypothesis:**\n",
      "Recipes will be clustered by their use of similar ingredients. Each region has a repertoire of preferred ingredients for recipies. Therefore, each cluster should be associated with one or more regions. It is possible that clusters will be shared by regions close geographicaly or with close cultural ties.\n"
     ]
    },
    {
     "cell_type": "markdown",
     "metadata": {},
     "source": [
      "**Methodology:**\n",
      "    \n",
      "Recipies were clustered together based on their ingredients. \n",
      "The ingredients which were strings separated by spaces were vectorized using sklearn's TfidfVectorizer.\n",
      "The clustering method was Ward's method applied to Hierarchical Clustering. Ten regions were included in the analysis."
     ]
    },
    {
     "cell_type": "markdown",
     "metadata": {},
     "source": [
      "**Results:**\n",
      "\n",
      "The clustering at threshold 3.5 was selected to produce 9 clusters. Before exploring clusters, it could have been assumed that each cluster belonged to a region and perhaps 2 regions were very similar in terms of cuisine.\n",
      "\n",
      "However, upon inspection, it is clear that every cluster includes 3 or more regions. From this clustering, it is not clear whether cuisine is strongly related to region. It is possible that allowing for more clusters by instead using country instead of region would have produced clearer results.  \n",
      "\n",
      "**Revised hypothesis:** It is reasonable to assume that each region is composed of many countries with distinct cultural backgrounds, some of which may have stronger ties to countries in other regions."
     ]
    },
    {
     "cell_type": "markdown",
     "metadata": {},
     "source": [
      "**Analysis of Cluster 9:**\n",
      "\n",
      "I analyzed a promising cluster in line with my revised hypothesis. \n",
      "\n",
      "The top three contributors to the cluster were South Asian, African, and Latin American. These are very geographically distinct regions. However, it is known that Latin American cuisine is highly influenced by Spanish and African cuisines. Historically, many countries in Southeast Asia were also colonized by Spain. \n",
      "\n",
      "Thus, although the regions are geographically distinct, countries within the region with similar backgrounds may share many ingredients. "
     ]
    },
    {
     "cell_type": "code",
     "collapsed": false,
     "input": [
      "print 'Cluster %d' %(i)\n",
      "print clustered_recipes[(clustered_recipes.LABEL == 9)].REGION.value_counts()\n",
      "print '\\n'"
     ],
     "language": "python",
     "metadata": {},
     "outputs": [
      {
       "output_type": "stream",
       "stream": "stdout",
       "text": [
        "Cluster 9\n",
        "SouthAsian          35\n",
        "African             29\n",
        "LatinAmerican       12\n",
        "MiddleEastern        7\n",
        "NorthernEuropean     6\n",
        "EastAsian            5\n",
        "NorthAmerican        4\n",
        "SouthernEuropean     3\n",
        "EasternEuropean      1\n",
        "dtype: int64\n",
        "\n",
        "\n"
       ]
      }
     ],
     "prompt_number": 208
    },
    {
     "cell_type": "markdown",
     "metadata": {},
     "source": [
      "**Conclusions and Suggestions:**\n",
      "\n",
      "In light of my revised hypothesis, it may be useful to also examine country of origin closely. If possible, an additional dataset of a successful clustering based on cultural recipes may be acquired that establishes links between countries. Then, we could do a new clustering to determine if geographical proximity or cultural background are better predictors of cuisine similarity. \n",
      "\n",
      "An area that could be improved upon greatly would be number of recipe samples. I only included 100 in my clustering due to time and hardware constraints. \n",
      "\n",
      "Overall, this clustering suggests that \"region\" is too broad a way to cluster cuisines. "
     ]
    },
    {
     "cell_type": "markdown",
     "metadata": {},
     "source": [
      "### References"
     ]
    },
    {
     "cell_type": "markdown",
     "metadata": {},
     "source": [
      "1. Ahn, Yong-Yeol, et al. \"Flavor network and the principles of food pairing.\" Scientific reports 1 (2011)."
     ]
    },
    {
     "cell_type": "code",
     "collapsed": false,
     "input": [
      "# Code for setting the style of the notebook\n",
      "from IPython.core.display import HTML\n",
      "def css_styling():\n",
      "    styles = open(\"../../theme/custom.css\", \"r\").read()\n",
      "    return HTML(styles)\n",
      "css_styling()"
     ],
     "language": "python",
     "metadata": {},
     "outputs": [
      {
       "html": [
        "<link href='http://fonts.googleapis.com/css?family=EB+Garamond' rel='stylesheet' type='text/css'>\n",
        "<link href='http://fonts.googleapis.com/css?family=Alegreya+Sans:100,300,400,500,700,800,900,100italic,300italic,400italic,500italic,700italic,800italic,900italic' rel='stylesheet' type='text/css'>\n",
        "<link href='http://fonts.googleapis.com/css?family=Source+Code+Pro:300,400' rel='stylesheet' type='text/css'>\n",
        "<style>\n",
        "    @font-face {\n",
        "        font-family: \"Computer Modern\";\n",
        "        src: url('http://mirrors.ctan.org/fonts/cm-unicode/fonts/otf/cmunss.otf');\n",
        "    }\n",
        "    .code_cell {\n",
        "        width: 105ex !important ;\n",
        "        margin-bottom: 15px !important;\n",
        "    }\n",
        "    div.cell {\n",
        "        margin-left: auto;\n",
        "        margin-right: auto;\n",
        "        width: 70%;\n",
        "    }    \n",
        "    div.cell.selected {\n",
        "        border: thin rgba(171, 171, 171, 0.5) dashed;\n",
        "    }\n",
        "    h1 {\n",
        "        font-family: 'Alegreya Sans', sans-serif;\n",
        "    }\n",
        "    h2 {\n",
        "        font-family: 'EB Garamond', serif;\n",
        "    }\n",
        "    h3 {\n",
        "        font-family: 'EB Garamond', serif;\n",
        "        margin-top:12px;\n",
        "        margin-bottom: 3px;\n",
        "    }\n",
        "    h4 {\n",
        "        font-family: 'EB Garamond', serif;\n",
        "    }\n",
        "    h5 {\n",
        "        font-family: 'Alegreya Sans', sans-serif;\n",
        "    }\n",
        "    div.text_cell_render {\n",
        "        font-family: 'EB Garamond',Computer Modern, \"Helvetica Neue\", Arial, Helvetica, Geneva, sans-serif;\n",
        "        line-height: 145%;\n",
        "        font-size: 140%;\n",
        "    }\n",
        "    div.input_area {\n",
        "        border-color: rgba(0,0,0,0.10) !important;\n",
        "        background: #fafafa;\n",
        "    }\n",
        "    .CodeMirror {\n",
        "            font-family: \"Source Code Pro\";\n",
        "            font-size: 90%;\n",
        "    }\n",
        "    .prompt {\n",
        "        display: None;\n",
        "    }\n",
        "    .output {\n",
        "        padding-left: 50px;\n",
        "        padding-top: 5px;\n",
        "    }\n",
        "    .output_wrapper {\n",
        "        padding-left: 5px;\n",
        "        padding-top: inherit;\n",
        "    }\n",
        "    div.output_scroll {\n",
        "        width: inherit;\n",
        "    }\n",
        "    .inner_cell {\n",
        "        padding-left: 5px;\n",
        "    }\n",
        "    .text_cell_render h1 {\n",
        "        font-weight: 200;\n",
        "        font-size: 50pt;\n",
        "        line-height: 100%;\n",
        "        color:#CD2305;\n",
        "        margin-bottom: 0.5em;\n",
        "        margin-top: 0.5em;\n",
        "        display: block;\n",
        "    }\n",
        "    .text_cell_render h5 {\n",
        "        font-weight: 300;\n",
        "        font-size: 16pt;\n",
        "        color: #CD2305;\n",
        "        font-style: italic;\n",
        "        margin-bottom: .5em;\n",
        "        margin-top: 0.5em;\n",
        "        display: block;\n",
        "    }\n",
        "    .warning {\n",
        "        color: rgb( 240, 20, 20 )\n",
        "        }  \n",
        "</style>\n",
        "<script>\n",
        "    MathJax.Hub.Config({\n",
        "                        TeX: {\n",
        "                           extensions: [\"AMSmath.js\"]\n",
        "                           },\n",
        "                tex2jax: {\n",
        "                    inlineMath: [ ['$','$'], [\"\\\\(\",\"\\\\)\"] ],\n",
        "                    displayMath: [ ['$$','$$'], [\"\\\\[\",\"\\\\]\"] ]\n",
        "                },\n",
        "                displayAlign: 'center', // Change this to 'center' to center equations.\n",
        "                \"HTML-CSS\": {\n",
        "                    styles: {'.MathJax_Display': {\"margin\": 4}}\n",
        "                }\n",
        "        });\n",
        "</script>"
       ],
       "metadata": {},
       "output_type": "pyout",
       "prompt_number": 21,
       "text": [
        "<IPython.core.display.HTML at 0x189e1320>"
       ]
      }
     ],
     "prompt_number": 21
    }
   ],
   "metadata": {}
  }
 ]
}