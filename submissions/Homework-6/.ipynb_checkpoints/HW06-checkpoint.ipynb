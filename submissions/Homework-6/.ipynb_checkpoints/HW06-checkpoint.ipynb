{
 "metadata": {
  "name": "",
  "signature": "sha256:52a3d0d31c45da3b0cce1d61992ba1fcf597eae2833daf59dcad2f8e07c69434"
 },
 "nbformat": 3,
 "nbformat_minor": 0,
 "worksheets": []
}