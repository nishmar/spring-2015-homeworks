{
 "metadata": {
  "name": "",
  "signature": "sha256:33334278dcb6ae5045df776a1ad261ce671250c59abaa24178db1895a1425f4e"
 },
 "nbformat": 3,
 "nbformat_minor": 0,
 "worksheets": [
  {
   "cells": [
    {
     "cell_type": "markdown",
     "metadata": {},
     "source": [
      "(In order to load the stylesheet of this notebook, execute the last code cell in this notebook)"
     ]
    },
    {
     "cell_type": "heading",
     "level": 1,
     "metadata": {},
     "source": [
      "Analyze the data from the Mayor's 24-hour hotline in Boston using Pandas"
     ]
    },
    {
     "cell_type": "heading",
     "level": 2,
     "metadata": {},
     "source": [
      "Introduction "
     ]
    },
    {
     "cell_type": "markdown",
     "metadata": {},
     "source": [
      "In this assignment, we will practice some basic skills on working with data. We will see how to read, access, clean, filter and plot a dataset.\n",
      "\n",
      "---------------------------"
     ]
    },
    {
     "cell_type": "heading",
     "level": 2,
     "metadata": {},
     "source": [
      "Step 1. Downloading the data"
     ]
    },
    {
     "cell_type": "markdown",
     "metadata": {},
     "source": [
      "The data that we will be using are freely available online, by the [City of Boston](https://data.cityofboston.gov/). A brief description of the 311 service can be found [here](http://www.cityofboston.gov/mayor/24/). You can download the whole dataset, which extends from 2011 until now (updated every day) from [here](https://data.cityofboston.gov/City-Services/Mayor-s-24-Hour-Hotline-Service-Requests/awu8-dc52?). However, it contains over 555,000 records and, as a result, it's more than 245 MB in size. In the homework repository, you can find a small part of it that covers the months of January-February 2015, under the filename `cases_2015.csv`."
     ]
    },
    {
     "cell_type": "markdown",
     "metadata": {},
     "source": [
      "During these two months, Boston experienced one of the highest levels of snowfalls. We will take this opportunity and see how this situation affected the 311 center. We will also be using data from [NOAA National Climatic Data Center](http://www.ncdc.noaa.gov/cdo-web/) regarding the levels of snowfall for the dates that we are interested in. This dataset is also available in our repository for your convenience under the file `snow.csv`. You can read its documentation [here](http://www.ncdc.noaa.gov/cdo-web/datasets)."
     ]
    },
    {
     "cell_type": "markdown",
     "metadata": {},
     "source": [
      "-----------------"
     ]
    },
    {
     "cell_type": "heading",
     "level": 2,
     "metadata": {},
     "source": [
      "Step 2. Reading the data"
     ]
    },
    {
     "cell_type": "markdown",
     "metadata": {},
     "source": [
      "The first thing we want to do is load the data as Pandas *DataFrames*."
     ]
    },
    {
     "cell_type": "code",
     "collapsed": false,
     "input": [
      "%matplotlib inline\n",
      "import pandas as pd\n",
      "import seaborn as sns\n",
      "from datetime import datetime\n",
      "from matplotlib import pyplot as plt"
     ],
     "language": "python",
     "metadata": {},
     "outputs": [],
     "prompt_number": 4
    },
    {
     "cell_type": "code",
     "collapsed": false,
     "input": [
      "boston = pd.read_csv('cases_2015.csv')"
     ],
     "language": "python",
     "metadata": {},
     "outputs": [],
     "prompt_number": 2
    },
    {
     "cell_type": "markdown",
     "metadata": {},
     "source": [
      "We need to take a brief look at the data, so that we get an intuition about what we are dealing with. Your first task is to do just that: print some part of the dataset **(5 pts)**"
     ]
    },
    {
     "cell_type": "code",
     "collapsed": false,
     "input": [
      "# Print part of the dataset here\n",
      "\n",
      "boston.head()"
     ],
     "language": "python",
     "metadata": {},
     "outputs": [
      {
       "html": [
        "<div style=\"max-height:1000px;max-width:1500px;overflow:auto;\">\n",
        "<table border=\"1\" class=\"dataframe\">\n",
        "  <thead>\n",
        "    <tr style=\"text-align: right;\">\n",
        "      <th></th>\n",
        "      <th>CASE_ENQUIRY_ID</th>\n",
        "      <th>OPEN_DT</th>\n",
        "      <th>TARGET_DT</th>\n",
        "      <th>CLOSED_DT</th>\n",
        "      <th>OnTime_Status</th>\n",
        "      <th>CASE_STATUS</th>\n",
        "      <th>CLOSURE_REASON</th>\n",
        "      <th>CASE_TITLE</th>\n",
        "      <th>SUBJECT</th>\n",
        "      <th>REASON</th>\n",
        "      <th>...</th>\n",
        "      <th>precinct</th>\n",
        "      <th>land_usage</th>\n",
        "      <th>LOCATION_STREET_NAME</th>\n",
        "      <th>LOCATION_ZIPCODE</th>\n",
        "      <th>Property_Type</th>\n",
        "      <th>Property_ID</th>\n",
        "      <th>LATITUDE</th>\n",
        "      <th>LONGITUDE</th>\n",
        "      <th>Source</th>\n",
        "      <th>Geocoded_Location</th>\n",
        "    </tr>\n",
        "  </thead>\n",
        "  <tbody>\n",
        "    <tr>\n",
        "      <th>0</th>\n",
        "      <td> 101001240734</td>\n",
        "      <td> 2015-01-01 00:20:09</td>\n",
        "      <td>                 NaN</td>\n",
        "      <td> 2015-01-02 09:08:42</td>\n",
        "      <td>  ONTIME</td>\n",
        "      <td> Closed</td>\n",
        "      <td>                            Case Closed Case Noted</td>\n",
        "      <td>        Other</td>\n",
        "      <td> Mayor's 24 Hour Hotline</td>\n",
        "      <td>  Notification</td>\n",
        "      <td>...</td>\n",
        "      <td>  503</td>\n",
        "      <td>  E</td>\n",
        "      <td>       33 Beacon St</td>\n",
        "      <td> 2108</td>\n",
        "      <td> Address</td>\n",
        "      <td>  11072</td>\n",
        "      <td> 42.3574</td>\n",
        "      <td>-71.0648</td>\n",
        "      <td>     Constituent Call</td>\n",
        "      <td> (42.3574, -71.0648)</td>\n",
        "    </tr>\n",
        "    <tr>\n",
        "      <th>1</th>\n",
        "      <td> 101001240735</td>\n",
        "      <td> 2015-01-01 00:25:23</td>\n",
        "      <td> 2015-01-16 08:30:00</td>\n",
        "      <td> 2015-01-02 16:17:43</td>\n",
        "      <td>  ONTIME</td>\n",
        "      <td> Closed</td>\n",
        "      <td> Case Closed Duplicate of Existing Case duplica...</td>\n",
        "      <td>      PRINTED</td>\n",
        "      <td> Public Works Department</td>\n",
        "      <td> Street Lights</td>\n",
        "      <td>...</td>\n",
        "      <td>  502</td>\n",
        "      <td>  C</td>\n",
        "      <td> 145-151 Ipswich St</td>\n",
        "      <td> 2215</td>\n",
        "      <td> Address</td>\n",
        "      <td> 157262</td>\n",
        "      <td> 42.3474</td>\n",
        "      <td>-71.0944</td>\n",
        "      <td> Citizens Connect App</td>\n",
        "      <td> (42.3474, -71.0944)</td>\n",
        "    </tr>\n",
        "    <tr>\n",
        "      <th>2</th>\n",
        "      <td> 101001240736</td>\n",
        "      <td> 2015-01-01 00:25:36</td>\n",
        "      <td> 2015-01-16 08:30:00</td>\n",
        "      <td>                 NaN</td>\n",
        "      <td> OVERDUE</td>\n",
        "      <td>   Open</td>\n",
        "      <td>                                               NaN</td>\n",
        "      <td>      PRINTED</td>\n",
        "      <td> Public Works Department</td>\n",
        "      <td> Street Lights</td>\n",
        "      <td>...</td>\n",
        "      <td>  502</td>\n",
        "      <td>  C</td>\n",
        "      <td> 145-151 Ipswich St</td>\n",
        "      <td> 2215</td>\n",
        "      <td> Address</td>\n",
        "      <td> 157262</td>\n",
        "      <td> 42.3474</td>\n",
        "      <td>-71.0944</td>\n",
        "      <td> Citizens Connect App</td>\n",
        "      <td> (42.3474, -71.0944)</td>\n",
        "    </tr>\n",
        "    <tr>\n",
        "      <th>3</th>\n",
        "      <td> 101001240740</td>\n",
        "      <td> 2015-01-01 01:45:37</td>\n",
        "      <td>                 NaN</td>\n",
        "      <td>                 NaN</td>\n",
        "      <td>  ONTIME</td>\n",
        "      <td>   Open</td>\n",
        "      <td>                                               NaN</td>\n",
        "      <td> Animal Found</td>\n",
        "      <td>          Animal Control</td>\n",
        "      <td> Animal Issues</td>\n",
        "      <td>...</td>\n",
        "      <td> 2010</td>\n",
        "      <td> R4</td>\n",
        "      <td> 4833 Washington St</td>\n",
        "      <td> 2132</td>\n",
        "      <td> Address</td>\n",
        "      <td> 331760</td>\n",
        "      <td> 42.2711</td>\n",
        "      <td>-71.1464</td>\n",
        "      <td>     Constituent Call</td>\n",
        "      <td> (42.2711, -71.1464)</td>\n",
        "    </tr>\n",
        "    <tr>\n",
        "      <th>4</th>\n",
        "      <td> 101001240742</td>\n",
        "      <td> 2015-01-01 02:24:59</td>\n",
        "      <td>                 NaN</td>\n",
        "      <td> 2015-01-02 09:09:00</td>\n",
        "      <td>  ONTIME</td>\n",
        "      <td> Closed</td>\n",
        "      <td>                            Case Closed Case Noted</td>\n",
        "      <td>         Fire</td>\n",
        "      <td> Mayor's 24 Hour Hotline</td>\n",
        "      <td>  Notification</td>\n",
        "      <td>...</td>\n",
        "      <td>  708</td>\n",
        "      <td> R2</td>\n",
        "      <td>     10 Washburn St</td>\n",
        "      <td> 2125</td>\n",
        "      <td> Address</td>\n",
        "      <td> 143386</td>\n",
        "      <td> 42.3254</td>\n",
        "      <td>-71.0574</td>\n",
        "      <td>     Constituent Call</td>\n",
        "      <td> (42.3254, -71.0574)</td>\n",
        "    </tr>\n",
        "  </tbody>\n",
        "</table>\n",
        "<p>5 rows \u00d7 33 columns</p>\n",
        "</div>"
       ],
       "metadata": {},
       "output_type": "pyout",
       "prompt_number": 3,
       "text": [
        "   CASE_ENQUIRY_ID              OPEN_DT            TARGET_DT  \\\n",
        "0     101001240734  2015-01-01 00:20:09                  NaN   \n",
        "1     101001240735  2015-01-01 00:25:23  2015-01-16 08:30:00   \n",
        "2     101001240736  2015-01-01 00:25:36  2015-01-16 08:30:00   \n",
        "3     101001240740  2015-01-01 01:45:37                  NaN   \n",
        "4     101001240742  2015-01-01 02:24:59                  NaN   \n",
        "\n",
        "             CLOSED_DT OnTime_Status CASE_STATUS  \\\n",
        "0  2015-01-02 09:08:42        ONTIME      Closed   \n",
        "1  2015-01-02 16:17:43        ONTIME      Closed   \n",
        "2                  NaN       OVERDUE        Open   \n",
        "3                  NaN        ONTIME        Open   \n",
        "4  2015-01-02 09:09:00        ONTIME      Closed   \n",
        "\n",
        "                                      CLOSURE_REASON    CASE_TITLE  \\\n",
        "0                             Case Closed Case Noted         Other   \n",
        "1  Case Closed Duplicate of Existing Case duplica...       PRINTED   \n",
        "2                                                NaN       PRINTED   \n",
        "3                                                NaN  Animal Found   \n",
        "4                             Case Closed Case Noted          Fire   \n",
        "\n",
        "                   SUBJECT         REASON         ...          precinct  \\\n",
        "0  Mayor's 24 Hour Hotline   Notification         ...               503   \n",
        "1  Public Works Department  Street Lights         ...               502   \n",
        "2  Public Works Department  Street Lights         ...               502   \n",
        "3           Animal Control  Animal Issues         ...              2010   \n",
        "4  Mayor's 24 Hour Hotline   Notification         ...               708   \n",
        "\n",
        "  land_usage LOCATION_STREET_NAME LOCATION_ZIPCODE Property_Type Property_ID  \\\n",
        "0          E         33 Beacon St             2108       Address       11072   \n",
        "1          C   145-151 Ipswich St             2215       Address      157262   \n",
        "2          C   145-151 Ipswich St             2215       Address      157262   \n",
        "3         R4   4833 Washington St             2132       Address      331760   \n",
        "4         R2       10 Washburn St             2125       Address      143386   \n",
        "\n",
        "   LATITUDE LONGITUDE                Source    Geocoded_Location  \n",
        "0   42.3574  -71.0648      Constituent Call  (42.3574, -71.0648)  \n",
        "1   42.3474  -71.0944  Citizens Connect App  (42.3474, -71.0944)  \n",
        "2   42.3474  -71.0944  Citizens Connect App  (42.3474, -71.0944)  \n",
        "3   42.2711  -71.1464      Constituent Call  (42.2711, -71.1464)  \n",
        "4   42.3254  -71.0574      Constituent Call  (42.3254, -71.0574)  \n",
        "\n",
        "[5 rows x 33 columns]"
       ]
      }
     ],
     "prompt_number": 3
    },
    {
     "cell_type": "markdown",
     "metadata": {},
     "source": [
      "Another useful thing is to get a short summary of the columns and their data types. Make a call to the required function for this **(5 pts)**"
     ]
    },
    {
     "cell_type": "code",
     "collapsed": false,
     "input": [
      "# Print information about the columns of the dataset\n",
      "\n",
      "boston.info()"
     ],
     "language": "python",
     "metadata": {},
     "outputs": [
      {
       "output_type": "stream",
       "stream": "stdout",
       "text": [
        "<class 'pandas.core.frame.DataFrame'>\n",
        "Int64Index: 46698 entries, 0 to 46697\n",
        "Data columns (total 33 columns):\n",
        "CASE_ENQUIRY_ID                   46698 non-null int64\n",
        "OPEN_DT                           46698 non-null object\n",
        "TARGET_DT                         41129 non-null object\n",
        "CLOSED_DT                         35141 non-null object\n",
        "OnTime_Status                     46694 non-null object\n",
        "CASE_STATUS                       46698 non-null object\n",
        "CLOSURE_REASON                    35175 non-null object\n",
        "CASE_TITLE                        46679 non-null object\n",
        "SUBJECT                           46698 non-null object\n",
        "REASON                            46698 non-null object\n",
        "TYPE                              46698 non-null object\n",
        "QUEUE                             46698 non-null object\n",
        "Department                        46698 non-null object\n",
        "SubmittedPhoto                    7245 non-null object\n",
        "ClosedPhoto                       1217 non-null object\n",
        "Location                          44442 non-null object\n",
        "fire_district                     44229 non-null float64\n",
        "pwd_district                      44338 non-null object\n",
        "city_council_district             44431 non-null float64\n",
        "police_district                   44358 non-null object\n",
        "neighborhood                      44402 non-null object\n",
        "neighborhood_services_district    44431 non-null float64\n",
        "ward                              44438 non-null object\n",
        "precinct                          44297 non-null float64\n",
        "land_usage                        33332 non-null object\n",
        "LOCATION_STREET_NAME              44442 non-null object\n",
        "LOCATION_ZIPCODE                  35291 non-null float64\n",
        "Property_Type                     44442 non-null object\n",
        "Property_ID                       44442 non-null float64\n",
        "LATITUDE                          46698 non-null float64\n",
        "LONGITUDE                         46698 non-null float64\n",
        "Source                            46698 non-null object\n",
        "Geocoded_Location                 46698 non-null object\n",
        "dtypes: float64(8), int64(1), object(24)\n",
        "memory usage: 12.1+ MB\n"
       ]
      }
     ],
     "prompt_number": 5
    },
    {
     "cell_type": "markdown",
     "metadata": {},
     "source": [
      "As you can see, the `OPEN_DT`, `TARGET_DT`, and `CLOSED_DT` columns, all of which should be dates, have been misclassified as `object` instead of datetime. Re-write the code that reads from a csv, in order to parse the above columns as datetimes. **(5 pts)**"
     ]
    },
    {
     "cell_type": "code",
     "collapsed": false,
     "input": [
      "# Read the date columns as datetime objects\n",
      "\n",
      "boston = pd.read_csv('cases_2015.csv', parse_dates=[1,2,3])\n",
      "\n",
      "#boston.OPEN_DT = boston.OPEN_DT.apply(lambda d: datetime.strptime(d, \"%Y-%m-%d %H:%M:%S\"))\n"
     ],
     "language": "python",
     "metadata": {},
     "outputs": [],
     "prompt_number": 6
    },
    {
     "cell_type": "markdown",
     "metadata": {},
     "source": [
      "Make sure that the column data types are exactly as expected:"
     ]
    },
    {
     "cell_type": "code",
     "collapsed": false,
     "input": [
      "# Print the data types of the columns again\n",
      "boston.info()"
     ],
     "language": "python",
     "metadata": {},
     "outputs": [
      {
       "output_type": "stream",
       "stream": "stdout",
       "text": [
        "<class 'pandas.core.frame.DataFrame'>\n",
        "Int64Index: 46698 entries, 0 to 46697\n",
        "Data columns (total 33 columns):\n",
        "CASE_ENQUIRY_ID                   46698 non-null int64\n",
        "OPEN_DT                           46698 non-null datetime64[ns]\n",
        "TARGET_DT                         41129 non-null datetime64[ns]\n",
        "CLOSED_DT                         35141 non-null datetime64[ns]\n",
        "OnTime_Status                     46694 non-null object\n",
        "CASE_STATUS                       46698 non-null object\n",
        "CLOSURE_REASON                    35175 non-null object\n",
        "CASE_TITLE                        46679 non-null object\n",
        "SUBJECT                           46698 non-null object\n",
        "REASON                            46698 non-null object\n",
        "TYPE                              46698 non-null object\n",
        "QUEUE                             46698 non-null object\n",
        "Department                        46698 non-null object\n",
        "SubmittedPhoto                    7245 non-null object\n",
        "ClosedPhoto                       1217 non-null object\n",
        "Location                          44442 non-null object\n",
        "fire_district                     44229 non-null float64\n",
        "pwd_district                      44338 non-null object\n",
        "city_council_district             44431 non-null float64\n",
        "police_district                   44358 non-null object\n",
        "neighborhood                      44402 non-null object\n",
        "neighborhood_services_district    44431 non-null float64\n",
        "ward                              44438 non-null object\n",
        "precinct                          44297 non-null float64\n",
        "land_usage                        33332 non-null object\n",
        "LOCATION_STREET_NAME              44442 non-null object\n",
        "LOCATION_ZIPCODE                  35291 non-null float64\n",
        "Property_Type                     44442 non-null object\n",
        "Property_ID                       44442 non-null float64\n",
        "LATITUDE                          46698 non-null float64\n",
        "LONGITUDE                         46698 non-null float64\n",
        "Source                            46698 non-null object\n",
        "Geocoded_Location                 46698 non-null object\n",
        "dtypes: datetime64[ns](3), float64(8), int64(1), object(21)\n",
        "memory usage: 12.1+ MB\n"
       ]
      }
     ],
     "prompt_number": 7
    },
    {
     "cell_type": "heading",
     "level": 2,
     "metadata": {},
     "source": [
      "Step 3. Filtering and plotting the data"
     ]
    },
    {
     "cell_type": "markdown",
     "metadata": {},
     "source": [
      "Now that we read the data and took a quick look, we can start playing around with it. As you have already noticed, there is very little documentation on the dataset itself. In such occasions, we need to look at the dataset very extensively, to get a good feel of its structure. This part, together with what we will do next, is a significant part of the *data cleaning* process."
     ]
    },
    {
     "cell_type": "markdown",
     "metadata": {},
     "source": [
      "To practice our filtering skills, let's try to isolate the cases that were opened in February **(5 pts)**"
     ]
    },
    {
     "cell_type": "code",
     "collapsed": false,
     "input": [
      "# Write code that filters the dataframe and keeps only the cases that were opened in February\n",
      "import datetime\n",
      "\n",
      "#Parse dates Feb 1 2015 and March 1 2015 into datetime objects\n",
      "february_first = \"02-01-2015\"\n",
      "february_first = datetime.datetime.strptime(february_first, \"%m-%d-%Y\")\n",
      "march_first = \"03-01-2015\"\n",
      "march_first = datetime.datetime.strptime(march_first, \"%m-%d-%Y\")\n",
      "\n",
      "#Filter data based on conditions: datetime is equal or greater than Feb 1 but less than March 1\n",
      "cases_open_feb = boston[ (boston.OPEN_DT >= february_first) & (boston.OPEN_DT < march_first)]\n",
      "\n",
      "cases_open_feb.head()"
     ],
     "language": "python",
     "metadata": {},
     "outputs": [
      {
       "html": [
        "<div style=\"max-height:1000px;max-width:1500px;overflow:auto;\">\n",
        "<table border=\"1\" class=\"dataframe\">\n",
        "  <thead>\n",
        "    <tr style=\"text-align: right;\">\n",
        "      <th></th>\n",
        "      <th>CASE_ENQUIRY_ID</th>\n",
        "      <th>OPEN_DT</th>\n",
        "      <th>TARGET_DT</th>\n",
        "      <th>CLOSED_DT</th>\n",
        "      <th>OnTime_Status</th>\n",
        "      <th>CASE_STATUS</th>\n",
        "      <th>CLOSURE_REASON</th>\n",
        "      <th>CASE_TITLE</th>\n",
        "      <th>SUBJECT</th>\n",
        "      <th>REASON</th>\n",
        "      <th>...</th>\n",
        "      <th>precinct</th>\n",
        "      <th>land_usage</th>\n",
        "      <th>LOCATION_STREET_NAME</th>\n",
        "      <th>LOCATION_ZIPCODE</th>\n",
        "      <th>Property_Type</th>\n",
        "      <th>Property_ID</th>\n",
        "      <th>LATITUDE</th>\n",
        "      <th>LONGITUDE</th>\n",
        "      <th>Source</th>\n",
        "      <th>Geocoded_Location</th>\n",
        "    </tr>\n",
        "  </thead>\n",
        "  <tbody>\n",
        "    <tr>\n",
        "      <th>20777</th>\n",
        "      <td> 101001266300</td>\n",
        "      <td>2015-02-01 00:11:47</td>\n",
        "      <td>2015-02-09 08:30:00</td>\n",
        "      <td>2015-02-03 08:43:55</td>\n",
        "      <td>  ONTIME</td>\n",
        "      <td> Closed</td>\n",
        "      <td>   Case Closed ADCLSD: Administratively Closed</td>\n",
        "      <td>                                   Snow Removal</td>\n",
        "      <td>   Inspectional Services</td>\n",
        "      <td> Code Enforcement</td>\n",
        "      <td>...</td>\n",
        "      <td> 1901</td>\n",
        "      <td>  R3</td>\n",
        "      <td>                                 27 Clive St</td>\n",
        "      <td> 2130</td>\n",
        "      <td>      Address</td>\n",
        "      <td>  34065</td>\n",
        "      <td> 42.3170</td>\n",
        "      <td>-71.1085</td>\n",
        "      <td> Citizens Connect App</td>\n",
        "      <td>  (42.317, -71.1085)</td>\n",
        "    </tr>\n",
        "    <tr>\n",
        "      <th>20778</th>\n",
        "      <td> 101001266301</td>\n",
        "      <td>2015-02-01 00:12:23</td>\n",
        "      <td>                NaT</td>\n",
        "      <td>2015-02-01 00:32:41</td>\n",
        "      <td>  ONTIME</td>\n",
        "      <td> Closed</td>\n",
        "      <td>              Case Closed Case Resolved salted</td>\n",
        "      <td> Request for Snow Plowing (Emergency Responder)</td>\n",
        "      <td> Public Works Department</td>\n",
        "      <td>  Street Cleaning</td>\n",
        "      <td>...</td>\n",
        "      <td> 2007</td>\n",
        "      <td>   E</td>\n",
        "      <td>                              1708 Centre St</td>\n",
        "      <td> 2132</td>\n",
        "      <td>      Address</td>\n",
        "      <td> 163076</td>\n",
        "      <td> 42.2868</td>\n",
        "      <td>-71.1484</td>\n",
        "      <td>     Constituent Call</td>\n",
        "      <td> (42.2868, -71.1484)</td>\n",
        "    </tr>\n",
        "    <tr>\n",
        "      <th>20779</th>\n",
        "      <td> 101001266302</td>\n",
        "      <td>2015-02-01 00:14:44</td>\n",
        "      <td>2015-02-04 08:30:00</td>\n",
        "      <td>2015-02-12 17:36:24</td>\n",
        "      <td> OVERDUE</td>\n",
        "      <td> Closed</td>\n",
        "      <td> Case Closed Case Noted Snow has been removed.</td>\n",
        "      <td>                       Request for Snow Plowing</td>\n",
        "      <td> Public Works Department</td>\n",
        "      <td>  Street Cleaning</td>\n",
        "      <td>...</td>\n",
        "      <td> 2103</td>\n",
        "      <td> NaN</td>\n",
        "      <td> INTERSECTION Commonwealth Ave &amp; Harvard Ave</td>\n",
        "      <td>  NaN</td>\n",
        "      <td> Intersection</td>\n",
        "      <td>   3370</td>\n",
        "      <td> 42.3501</td>\n",
        "      <td>-71.1309</td>\n",
        "      <td>     Constituent Call</td>\n",
        "      <td> (42.3501, -71.1309)</td>\n",
        "    </tr>\n",
        "    <tr>\n",
        "      <th>20780</th>\n",
        "      <td> 101001266303</td>\n",
        "      <td>2015-02-01 00:19:43</td>\n",
        "      <td>2015-02-04 08:30:00</td>\n",
        "      <td>2015-02-12 17:36:24</td>\n",
        "      <td> OVERDUE</td>\n",
        "      <td> Closed</td>\n",
        "      <td> Case Closed Case Noted Snow has been removed.</td>\n",
        "      <td>                       Request for Snow Plowing</td>\n",
        "      <td> Public Works Department</td>\n",
        "      <td>  Street Cleaning</td>\n",
        "      <td>...</td>\n",
        "      <td>  113</td>\n",
        "      <td>  R4</td>\n",
        "      <td>                           103-105 Leyden St</td>\n",
        "      <td> 2128</td>\n",
        "      <td>      Address</td>\n",
        "      <td>  85737</td>\n",
        "      <td> 42.3892</td>\n",
        "      <td>-71.0084</td>\n",
        "      <td> Citizens Connect App</td>\n",
        "      <td> (42.3892, -71.0084)</td>\n",
        "    </tr>\n",
        "    <tr>\n",
        "      <th>20781</th>\n",
        "      <td> 101001266304</td>\n",
        "      <td>2015-02-01 00:20:03</td>\n",
        "      <td>2015-02-04 08:30:00</td>\n",
        "      <td>2015-02-12 17:36:25</td>\n",
        "      <td> OVERDUE</td>\n",
        "      <td> Closed</td>\n",
        "      <td> Case Closed Case Noted Snow has been removed.</td>\n",
        "      <td>                       Request for Snow Plowing</td>\n",
        "      <td> Public Works Department</td>\n",
        "      <td>  Street Cleaning</td>\n",
        "      <td>...</td>\n",
        "      <td>  113</td>\n",
        "      <td>  R4</td>\n",
        "      <td>                           103-105 Leyden St</td>\n",
        "      <td> 2128</td>\n",
        "      <td>      Address</td>\n",
        "      <td>  85737</td>\n",
        "      <td> 42.3892</td>\n",
        "      <td>-71.0084</td>\n",
        "      <td> Citizens Connect App</td>\n",
        "      <td> (42.3892, -71.0084)</td>\n",
        "    </tr>\n",
        "  </tbody>\n",
        "</table>\n",
        "<p>5 rows \u00d7 33 columns</p>\n",
        "</div>"
       ],
       "metadata": {},
       "output_type": "pyout",
       "prompt_number": 8,
       "text": [
        "       CASE_ENQUIRY_ID             OPEN_DT           TARGET_DT  \\\n",
        "20777     101001266300 2015-02-01 00:11:47 2015-02-09 08:30:00   \n",
        "20778     101001266301 2015-02-01 00:12:23                 NaT   \n",
        "20779     101001266302 2015-02-01 00:14:44 2015-02-04 08:30:00   \n",
        "20780     101001266303 2015-02-01 00:19:43 2015-02-04 08:30:00   \n",
        "20781     101001266304 2015-02-01 00:20:03 2015-02-04 08:30:00   \n",
        "\n",
        "                CLOSED_DT OnTime_Status CASE_STATUS  \\\n",
        "20777 2015-02-03 08:43:55        ONTIME      Closed   \n",
        "20778 2015-02-01 00:32:41        ONTIME      Closed   \n",
        "20779 2015-02-12 17:36:24       OVERDUE      Closed   \n",
        "20780 2015-02-12 17:36:24       OVERDUE      Closed   \n",
        "20781 2015-02-12 17:36:25       OVERDUE      Closed   \n",
        "\n",
        "                                      CLOSURE_REASON  \\\n",
        "20777    Case Closed ADCLSD: Administratively Closed   \n",
        "20778               Case Closed Case Resolved salted   \n",
        "20779  Case Closed Case Noted Snow has been removed.   \n",
        "20780  Case Closed Case Noted Snow has been removed.   \n",
        "20781  Case Closed Case Noted Snow has been removed.   \n",
        "\n",
        "                                           CASE_TITLE  \\\n",
        "20777                                    Snow Removal   \n",
        "20778  Request for Snow Plowing (Emergency Responder)   \n",
        "20779                        Request for Snow Plowing   \n",
        "20780                        Request for Snow Plowing   \n",
        "20781                        Request for Snow Plowing   \n",
        "\n",
        "                       SUBJECT            REASON         ...           \\\n",
        "20777    Inspectional Services  Code Enforcement         ...            \n",
        "20778  Public Works Department   Street Cleaning         ...            \n",
        "20779  Public Works Department   Street Cleaning         ...            \n",
        "20780  Public Works Department   Street Cleaning         ...            \n",
        "20781  Public Works Department   Street Cleaning         ...            \n",
        "\n",
        "      precinct land_usage                         LOCATION_STREET_NAME  \\\n",
        "20777     1901         R3                                  27 Clive St   \n",
        "20778     2007          E                               1708 Centre St   \n",
        "20779     2103        NaN  INTERSECTION Commonwealth Ave & Harvard Ave   \n",
        "20780      113         R4                            103-105 Leyden St   \n",
        "20781      113         R4                            103-105 Leyden St   \n",
        "\n",
        "      LOCATION_ZIPCODE Property_Type Property_ID  LATITUDE LONGITUDE  \\\n",
        "20777             2130       Address       34065   42.3170  -71.1085   \n",
        "20778             2132       Address      163076   42.2868  -71.1484   \n",
        "20779              NaN  Intersection        3370   42.3501  -71.1309   \n",
        "20780             2128       Address       85737   42.3892  -71.0084   \n",
        "20781             2128       Address       85737   42.3892  -71.0084   \n",
        "\n",
        "                     Source    Geocoded_Location  \n",
        "20777  Citizens Connect App   (42.317, -71.1085)  \n",
        "20778      Constituent Call  (42.2868, -71.1484)  \n",
        "20779      Constituent Call  (42.3501, -71.1309)  \n",
        "20780  Citizens Connect App  (42.3892, -71.0084)  \n",
        "20781  Citizens Connect App  (42.3892, -71.0084)  \n",
        "\n",
        "[5 rows x 33 columns]"
       ]
      }
     ],
     "prompt_number": 8
    },
    {
     "cell_type": "markdown",
     "metadata": {},
     "source": [
      "Can you do the same thing, but only for the cases that are still remaining open? **(5 pts)**"
     ]
    },
    {
     "cell_type": "code",
     "collapsed": false,
     "input": [
      "# Write a code that also filters for open cases\n",
      "\n",
      "cases_still_open_feb = cases_open_feb[cases_open_feb.CASE_STATUS == 'Open']\n",
      "\n",
      "cases_still_open_feb.head()"
     ],
     "language": "python",
     "metadata": {},
     "outputs": [
      {
       "html": [
        "<div style=\"max-height:1000px;max-width:1500px;overflow:auto;\">\n",
        "<table border=\"1\" class=\"dataframe\">\n",
        "  <thead>\n",
        "    <tr style=\"text-align: right;\">\n",
        "      <th></th>\n",
        "      <th>CASE_ENQUIRY_ID</th>\n",
        "      <th>OPEN_DT</th>\n",
        "      <th>TARGET_DT</th>\n",
        "      <th>CLOSED_DT</th>\n",
        "      <th>OnTime_Status</th>\n",
        "      <th>CASE_STATUS</th>\n",
        "      <th>CLOSURE_REASON</th>\n",
        "      <th>CASE_TITLE</th>\n",
        "      <th>SUBJECT</th>\n",
        "      <th>REASON</th>\n",
        "      <th>...</th>\n",
        "      <th>precinct</th>\n",
        "      <th>land_usage</th>\n",
        "      <th>LOCATION_STREET_NAME</th>\n",
        "      <th>LOCATION_ZIPCODE</th>\n",
        "      <th>Property_Type</th>\n",
        "      <th>Property_ID</th>\n",
        "      <th>LATITUDE</th>\n",
        "      <th>LONGITUDE</th>\n",
        "      <th>Source</th>\n",
        "      <th>Geocoded_Location</th>\n",
        "    </tr>\n",
        "  </thead>\n",
        "  <tbody>\n",
        "    <tr>\n",
        "      <th>20782</th>\n",
        "      <td> 101001266305</td>\n",
        "      <td>2015-02-01 00:20:42</td>\n",
        "      <td>                NaT</td>\n",
        "      <td>NaT</td>\n",
        "      <td>  ONTIME</td>\n",
        "      <td> Open</td>\n",
        "      <td> NaN</td>\n",
        "      <td>                         Fire</td>\n",
        "      <td> Mayor's 24 Hour Hotline</td>\n",
        "      <td>        Notification</td>\n",
        "      <td>...</td>\n",
        "      <td>  601</td>\n",
        "      <td>   C</td>\n",
        "      <td>                      347-351 Congress St</td>\n",
        "      <td> 2210</td>\n",
        "      <td>      Address</td>\n",
        "      <td>  42105</td>\n",
        "      <td> 42.3503</td>\n",
        "      <td>-71.0489</td>\n",
        "      <td>     Constituent Call</td>\n",
        "      <td> (42.3503, -71.0489)</td>\n",
        "    </tr>\n",
        "    <tr>\n",
        "      <th>20783</th>\n",
        "      <td> 101001266306</td>\n",
        "      <td>2015-02-01 00:21:41</td>\n",
        "      <td>2015-02-04 08:30:00</td>\n",
        "      <td>NaT</td>\n",
        "      <td> OVERDUE</td>\n",
        "      <td> Open</td>\n",
        "      <td> NaN</td>\n",
        "      <td>   Request for Pothole Repair</td>\n",
        "      <td> Public Works Department</td>\n",
        "      <td> Highway Maintenance</td>\n",
        "      <td>...</td>\n",
        "      <td>  407</td>\n",
        "      <td>   C</td>\n",
        "      <td>                                36 Fenway</td>\n",
        "      <td> 2215</td>\n",
        "      <td>      Address</td>\n",
        "      <td>  57448</td>\n",
        "      <td> 42.3454</td>\n",
        "      <td>-71.0902</td>\n",
        "      <td> Citizens Connect App</td>\n",
        "      <td> (42.3454, -71.0902)</td>\n",
        "    </tr>\n",
        "    <tr>\n",
        "      <th>20784</th>\n",
        "      <td> 101001266307</td>\n",
        "      <td>2015-02-01 00:36:38</td>\n",
        "      <td>2015-02-09 08:30:00</td>\n",
        "      <td>NaT</td>\n",
        "      <td> OVERDUE</td>\n",
        "      <td> Open</td>\n",
        "      <td> NaN</td>\n",
        "      <td>                   Electrical</td>\n",
        "      <td>   Inspectional Services</td>\n",
        "      <td>            Building</td>\n",
        "      <td>...</td>\n",
        "      <td> 1308</td>\n",
        "      <td>  R3</td>\n",
        "      <td>                             66 Romsey St</td>\n",
        "      <td> 2125</td>\n",
        "      <td>      Address</td>\n",
        "      <td> 118181</td>\n",
        "      <td> 42.3159</td>\n",
        "      <td>-71.0536</td>\n",
        "      <td>     Constituent Call</td>\n",
        "      <td> (42.3159, -71.0536)</td>\n",
        "    </tr>\n",
        "    <tr>\n",
        "      <th>20786</th>\n",
        "      <td> 101001266310</td>\n",
        "      <td>2015-02-01 00:45:12</td>\n",
        "      <td>2015-02-17 08:30:00</td>\n",
        "      <td>NaT</td>\n",
        "      <td>  ONTIME</td>\n",
        "      <td> Open</td>\n",
        "      <td> NaN</td>\n",
        "      <td>         Street Light Outages</td>\n",
        "      <td> Public Works Department</td>\n",
        "      <td>       Street Lights</td>\n",
        "      <td>...</td>\n",
        "      <td> 2008</td>\n",
        "      <td> NaN</td>\n",
        "      <td> INTERSECTION Aldrich St &amp; W Roxbury Pkwy</td>\n",
        "      <td>  NaN</td>\n",
        "      <td> Intersection</td>\n",
        "      <td>    250</td>\n",
        "      <td> 42.2815</td>\n",
        "      <td>-71.1447</td>\n",
        "      <td> Citizens Connect App</td>\n",
        "      <td> (42.2815, -71.1447)</td>\n",
        "    </tr>\n",
        "    <tr>\n",
        "      <th>20789</th>\n",
        "      <td> 101001266313</td>\n",
        "      <td>2015-02-01 01:05:29</td>\n",
        "      <td>2015-02-04 08:30:00</td>\n",
        "      <td>NaT</td>\n",
        "      <td> OVERDUE</td>\n",
        "      <td> Open</td>\n",
        "      <td> NaN</td>\n",
        "      <td> Requests for Street Cleaning</td>\n",
        "      <td> Public Works Department</td>\n",
        "      <td>     Street Cleaning</td>\n",
        "      <td>...</td>\n",
        "      <td> 1705</td>\n",
        "      <td>   E</td>\n",
        "      <td>                         133 Southern Ave</td>\n",
        "      <td> 2124</td>\n",
        "      <td>      Address</td>\n",
        "      <td> 129159</td>\n",
        "      <td> 42.2897</td>\n",
        "      <td>-71.0780</td>\n",
        "      <td> Citizens Connect App</td>\n",
        "      <td>  (42.2897, -71.078)</td>\n",
        "    </tr>\n",
        "  </tbody>\n",
        "</table>\n",
        "<p>5 rows \u00d7 33 columns</p>\n",
        "</div>"
       ],
       "metadata": {},
       "output_type": "pyout",
       "prompt_number": 9,
       "text": [
        "       CASE_ENQUIRY_ID             OPEN_DT           TARGET_DT CLOSED_DT  \\\n",
        "20782     101001266305 2015-02-01 00:20:42                 NaT       NaT   \n",
        "20783     101001266306 2015-02-01 00:21:41 2015-02-04 08:30:00       NaT   \n",
        "20784     101001266307 2015-02-01 00:36:38 2015-02-09 08:30:00       NaT   \n",
        "20786     101001266310 2015-02-01 00:45:12 2015-02-17 08:30:00       NaT   \n",
        "20789     101001266313 2015-02-01 01:05:29 2015-02-04 08:30:00       NaT   \n",
        "\n",
        "      OnTime_Status CASE_STATUS CLOSURE_REASON                    CASE_TITLE  \\\n",
        "20782        ONTIME        Open            NaN                          Fire   \n",
        "20783       OVERDUE        Open            NaN    Request for Pothole Repair   \n",
        "20784       OVERDUE        Open            NaN                    Electrical   \n",
        "20786        ONTIME        Open            NaN          Street Light Outages   \n",
        "20789       OVERDUE        Open            NaN  Requests for Street Cleaning   \n",
        "\n",
        "                       SUBJECT               REASON         ...           \\\n",
        "20782  Mayor's 24 Hour Hotline         Notification         ...            \n",
        "20783  Public Works Department  Highway Maintenance         ...            \n",
        "20784    Inspectional Services             Building         ...            \n",
        "20786  Public Works Department        Street Lights         ...            \n",
        "20789  Public Works Department      Street Cleaning         ...            \n",
        "\n",
        "      precinct land_usage                      LOCATION_STREET_NAME  \\\n",
        "20782      601          C                       347-351 Congress St   \n",
        "20783      407          C                                 36 Fenway   \n",
        "20784     1308         R3                              66 Romsey St   \n",
        "20786     2008        NaN  INTERSECTION Aldrich St & W Roxbury Pkwy   \n",
        "20789     1705          E                          133 Southern Ave   \n",
        "\n",
        "      LOCATION_ZIPCODE Property_Type Property_ID  LATITUDE LONGITUDE  \\\n",
        "20782             2210       Address       42105   42.3503  -71.0489   \n",
        "20783             2215       Address       57448   42.3454  -71.0902   \n",
        "20784             2125       Address      118181   42.3159  -71.0536   \n",
        "20786              NaN  Intersection         250   42.2815  -71.1447   \n",
        "20789             2124       Address      129159   42.2897  -71.0780   \n",
        "\n",
        "                     Source    Geocoded_Location  \n",
        "20782      Constituent Call  (42.3503, -71.0489)  \n",
        "20783  Citizens Connect App  (42.3454, -71.0902)  \n",
        "20784      Constituent Call  (42.3159, -71.0536)  \n",
        "20786  Citizens Connect App  (42.2815, -71.1447)  \n",
        "20789  Citizens Connect App   (42.2897, -71.078)  \n",
        "\n",
        "[5 rows x 33 columns]"
       ]
      }
     ],
     "prompt_number": 9
    },
    {
     "cell_type": "markdown",
     "metadata": {},
     "source": [
      "Great! Now, let's check all the different values of the column `CASE_TITLE` together with their counts **(5 pts)**"
     ]
    },
    {
     "cell_type": "code",
     "collapsed": false,
     "input": [
      "# Write code that prints the different values of the column 'CASE_TITLE'\n",
      "# and the count for the occurencies of each value in the boston dataframe\n",
      "\n",
      "case_titles = cases_still_open_feb.CASE_TITLE.value_counts()\n",
      "\n",
      "print case_titles.head()\n",
      "\n",
      "print case_titles.tail()"
     ],
     "language": "python",
     "metadata": {},
     "outputs": [
      {
       "output_type": "stream",
       "stream": "stdout",
       "text": [
        "Request for Snow Plowing      2951\n",
        "Snow Removal                   940\n",
        "Misc. Snow Complaint           482\n",
        "Other: Complaint               294\n",
        "Request for Pothole Repair     247\n",
        "dtype: int64\n",
        "Police: Person(s) Shot/Stabbed                                  1\n",
        "Street Light Outages //PRINTED //                               1\n",
        "Generic Noise Disturbance                                       1\n",
        "Ground Maintenance: Lambert Ave. Playground  Lambert Avenue Playground    1\n",
        "Ground Maintenance: Ramsay Park/Jim Rice Field  Ramsay Park     1\n",
        "dtype: int64\n"
       ]
      }
     ],
     "prompt_number": 10
    },
    {
     "cell_type": "markdown",
     "metadata": {},
     "source": [
      "During this process, you may encounter many strange things, that look like outliers. For example, you may notice that there are many values for `CASE_TITLE` which only occur once. One such example is the category\n",
      "```\n",
      "\"missing pb cover/printed for jim\"\n",
      "```\n",
      "I really wonder what this means! Try retrieving and printing the whole row **(5 pts)**"
     ]
    },
    {
     "cell_type": "code",
     "collapsed": false,
     "input": [
      "# Print the row tht has CASE_TITLE \"missing pb cover/printed for jim\"\n",
      "\n",
      "boston[boston.CASE_TITLE == 'missing pb cover/printed for jim']\n"
     ],
     "language": "python",
     "metadata": {},
     "outputs": [
      {
       "html": [
        "<div style=\"max-height:1000px;max-width:1500px;overflow:auto;\">\n",
        "<table border=\"1\" class=\"dataframe\">\n",
        "  <thead>\n",
        "    <tr style=\"text-align: right;\">\n",
        "      <th></th>\n",
        "      <th>CASE_ENQUIRY_ID</th>\n",
        "      <th>OPEN_DT</th>\n",
        "      <th>TARGET_DT</th>\n",
        "      <th>CLOSED_DT</th>\n",
        "      <th>OnTime_Status</th>\n",
        "      <th>CASE_STATUS</th>\n",
        "      <th>CLOSURE_REASON</th>\n",
        "      <th>CASE_TITLE</th>\n",
        "      <th>SUBJECT</th>\n",
        "      <th>REASON</th>\n",
        "      <th>...</th>\n",
        "      <th>precinct</th>\n",
        "      <th>land_usage</th>\n",
        "      <th>LOCATION_STREET_NAME</th>\n",
        "      <th>LOCATION_ZIPCODE</th>\n",
        "      <th>Property_Type</th>\n",
        "      <th>Property_ID</th>\n",
        "      <th>LATITUDE</th>\n",
        "      <th>LONGITUDE</th>\n",
        "      <th>Source</th>\n",
        "      <th>Geocoded_Location</th>\n",
        "    </tr>\n",
        "  </thead>\n",
        "  <tbody>\n",
        "    <tr>\n",
        "      <th>585</th>\n",
        "      <td> 101001241573</td>\n",
        "      <td>2015-01-02 23:18:08</td>\n",
        "      <td>2015-02-16 23:18:08</td>\n",
        "      <td>NaT</td>\n",
        "      <td> ONTIME</td>\n",
        "      <td> Open</td>\n",
        "      <td> NaN</td>\n",
        "      <td> missing pb cover/printed for jim</td>\n",
        "      <td> Public Works Department</td>\n",
        "      <td> Street Lights</td>\n",
        "      <td>...</td>\n",
        "      <td> 807</td>\n",
        "      <td> NaN</td>\n",
        "      <td> INTERSECTION Blue Hill Ave &amp; Mount Pleasant Ave</td>\n",
        "      <td>NaN</td>\n",
        "      <td> Intersection</td>\n",
        "      <td> 1606</td>\n",
        "      <td> 42.3253</td>\n",
        "      <td>-71.075</td>\n",
        "      <td> Constituent Call</td>\n",
        "      <td> (42.3253, -71.075)</td>\n",
        "    </tr>\n",
        "  </tbody>\n",
        "</table>\n",
        "<p>1 rows \u00d7 33 columns</p>\n",
        "</div>"
       ],
       "metadata": {},
       "output_type": "pyout",
       "prompt_number": 11,
       "text": [
        "     CASE_ENQUIRY_ID             OPEN_DT           TARGET_DT CLOSED_DT  \\\n",
        "585     101001241573 2015-01-02 23:18:08 2015-02-16 23:18:08       NaT   \n",
        "\n",
        "    OnTime_Status CASE_STATUS CLOSURE_REASON  \\\n",
        "585        ONTIME        Open            NaN   \n",
        "\n",
        "                           CASE_TITLE                  SUBJECT         REASON  \\\n",
        "585  missing pb cover/printed for jim  Public Works Department  Street Lights   \n",
        "\n",
        "            ...         precinct land_usage  \\\n",
        "585         ...              807        NaN   \n",
        "\n",
        "                                LOCATION_STREET_NAME LOCATION_ZIPCODE  \\\n",
        "585  INTERSECTION Blue Hill Ave & Mount Pleasant Ave              NaN   \n",
        "\n",
        "    Property_Type Property_ID  LATITUDE LONGITUDE            Source  \\\n",
        "585  Intersection        1606   42.3253   -71.075  Constituent Call   \n",
        "\n",
        "      Geocoded_Location  \n",
        "585  (42.3253, -71.075)  \n",
        "\n",
        "[1 rows x 33 columns]"
       ]
      }
     ],
     "prompt_number": 11
    },
    {
     "cell_type": "markdown",
     "metadata": {},
     "source": [
      "There's another category which seems interesting, `Heat - Excessive Insufficient`. Write code that prints the first 10 rows of the dataset that have `CASE_TITLE` which starts with \"Heat\" and see if you can understand what this stands for **(15 pts)**"
     ]
    },
    {
     "cell_type": "code",
     "collapsed": false,
     "input": [
      "heat_cases = boston[boston.CASE_TITLE.str.startswith('Heat', na=False)]\n",
      "\n",
      "heat_cases.head(10)\n",
      "\n",
      "\n"
     ],
     "language": "python",
     "metadata": {},
     "outputs": [
      {
       "html": [
        "<div style=\"max-height:1000px;max-width:1500px;overflow:auto;\">\n",
        "<table border=\"1\" class=\"dataframe\">\n",
        "  <thead>\n",
        "    <tr style=\"text-align: right;\">\n",
        "      <th></th>\n",
        "      <th>CASE_ENQUIRY_ID</th>\n",
        "      <th>OPEN_DT</th>\n",
        "      <th>TARGET_DT</th>\n",
        "      <th>CLOSED_DT</th>\n",
        "      <th>OnTime_Status</th>\n",
        "      <th>CASE_STATUS</th>\n",
        "      <th>CLOSURE_REASON</th>\n",
        "      <th>CASE_TITLE</th>\n",
        "      <th>SUBJECT</th>\n",
        "      <th>REASON</th>\n",
        "      <th>...</th>\n",
        "      <th>precinct</th>\n",
        "      <th>land_usage</th>\n",
        "      <th>LOCATION_STREET_NAME</th>\n",
        "      <th>LOCATION_ZIPCODE</th>\n",
        "      <th>Property_Type</th>\n",
        "      <th>Property_ID</th>\n",
        "      <th>LATITUDE</th>\n",
        "      <th>LONGITUDE</th>\n",
        "      <th>Source</th>\n",
        "      <th>Geocoded_Location</th>\n",
        "    </tr>\n",
        "  </thead>\n",
        "  <tbody>\n",
        "    <tr>\n",
        "      <th>11 </th>\n",
        "      <td> 101001240754</td>\n",
        "      <td>2015-01-01 07:27:13</td>\n",
        "      <td>2015-01-31 07:27:13</td>\n",
        "      <td>                NaT</td>\n",
        "      <td> OVERDUE</td>\n",
        "      <td>   Open</td>\n",
        "      <td>                                               NaN</td>\n",
        "      <td> Heat - Excessive  Insufficient</td>\n",
        "      <td> Inspectional Services</td>\n",
        "      <td> Housing</td>\n",
        "      <td>...</td>\n",
        "      <td>  802</td>\n",
        "      <td> NaN</td>\n",
        "      <td>      1744 Washington St</td>\n",
        "      <td> 2118</td>\n",
        "      <td> Address</td>\n",
        "      <td> 351061</td>\n",
        "      <td> 42.3594</td>\n",
        "      <td>-71.0587</td>\n",
        "      <td> Constituent Call</td>\n",
        "      <td> (42.3594, -71.0587)</td>\n",
        "    </tr>\n",
        "    <tr>\n",
        "      <th>17 </th>\n",
        "      <td> 101001240762</td>\n",
        "      <td>2015-01-01 08:53:51</td>\n",
        "      <td>2015-01-31 08:53:51</td>\n",
        "      <td>                NaT</td>\n",
        "      <td> OVERDUE</td>\n",
        "      <td>   Open</td>\n",
        "      <td>                                               NaN</td>\n",
        "      <td> Heat - Excessive  Insufficient</td>\n",
        "      <td> Inspectional Services</td>\n",
        "      <td> Housing</td>\n",
        "      <td>...</td>\n",
        "      <td>  903</td>\n",
        "      <td>  EA</td>\n",
        "      <td>            77 Camden St</td>\n",
        "      <td> 2118</td>\n",
        "      <td> Address</td>\n",
        "      <td> 201313</td>\n",
        "      <td> 42.3375</td>\n",
        "      <td>-71.0804</td>\n",
        "      <td> Constituent Call</td>\n",
        "      <td> (42.3375, -71.0804)</td>\n",
        "    </tr>\n",
        "    <tr>\n",
        "      <th>34 </th>\n",
        "      <td> 101001240786</td>\n",
        "      <td>2015-01-01 10:59:01</td>\n",
        "      <td>2015-01-31 10:59:01</td>\n",
        "      <td>2015-01-07 08:49:25</td>\n",
        "      <td>  ONTIME</td>\n",
        "      <td> Closed</td>\n",
        "      <td>                                     Case Closed :</td>\n",
        "      <td> Heat - Excessive  Insufficient</td>\n",
        "      <td> Inspectional Services</td>\n",
        "      <td> Housing</td>\n",
        "      <td>...</td>\n",
        "      <td>  401</td>\n",
        "      <td>  RC</td>\n",
        "      <td>        282 Columbus Ave</td>\n",
        "      <td> 2116</td>\n",
        "      <td> Address</td>\n",
        "      <td> 211739</td>\n",
        "      <td> 42.3469</td>\n",
        "      <td>-71.0736</td>\n",
        "      <td> Constituent Call</td>\n",
        "      <td> (42.3469, -71.0736)</td>\n",
        "    </tr>\n",
        "    <tr>\n",
        "      <th>50 </th>\n",
        "      <td> 101001240809</td>\n",
        "      <td>2015-01-01 12:37:13</td>\n",
        "      <td>2015-01-31 12:37:13</td>\n",
        "      <td>                NaT</td>\n",
        "      <td> OVERDUE</td>\n",
        "      <td>   Open</td>\n",
        "      <td>                                               NaN</td>\n",
        "      <td> Heat - Excessive  Insufficient</td>\n",
        "      <td> Inspectional Services</td>\n",
        "      <td> Housing</td>\n",
        "      <td>...</td>\n",
        "      <td> 1403</td>\n",
        "      <td>   A</td>\n",
        "      <td>       522 Blue Hill Ave</td>\n",
        "      <td> 2121</td>\n",
        "      <td> Address</td>\n",
        "      <td> 190031</td>\n",
        "      <td> 42.3064</td>\n",
        "      <td>-71.0841</td>\n",
        "      <td> Constituent Call</td>\n",
        "      <td> (42.3064, -71.0841)</td>\n",
        "    </tr>\n",
        "    <tr>\n",
        "      <th>74 </th>\n",
        "      <td> 101001240837</td>\n",
        "      <td>2015-01-01 14:24:55</td>\n",
        "      <td>2015-01-31 14:24:55</td>\n",
        "      <td>2015-01-01 14:32:32</td>\n",
        "      <td>  ONTIME</td>\n",
        "      <td> Closed</td>\n",
        "      <td> Case Closed Case Invalid landlord called while...</td>\n",
        "      <td> Heat - Excessive  Insufficient</td>\n",
        "      <td> Inspectional Services</td>\n",
        "      <td> Housing</td>\n",
        "      <td>...</td>\n",
        "      <td> 2003</td>\n",
        "      <td>  R2</td>\n",
        "      <td> 5070-5072 Washington St</td>\n",
        "      <td> 2132</td>\n",
        "      <td> Address</td>\n",
        "      <td> 145574</td>\n",
        "      <td> 42.2646</td>\n",
        "      <td>-71.1531</td>\n",
        "      <td> Constituent Call</td>\n",
        "      <td> (42.2646, -71.1531)</td>\n",
        "    </tr>\n",
        "    <tr>\n",
        "      <th>75 </th>\n",
        "      <td> 101001240838</td>\n",
        "      <td>2015-01-01 14:25:24</td>\n",
        "      <td>2015-01-31 14:25:23</td>\n",
        "      <td>                NaT</td>\n",
        "      <td> OVERDUE</td>\n",
        "      <td>   Open</td>\n",
        "      <td>                                               NaN</td>\n",
        "      <td> Heat - Excessive  Insufficient</td>\n",
        "      <td> Inspectional Services</td>\n",
        "      <td> Housing</td>\n",
        "      <td>...</td>\n",
        "      <td>  401</td>\n",
        "      <td>  RC</td>\n",
        "      <td>        282 Columbus Ave</td>\n",
        "      <td> 2116</td>\n",
        "      <td> Address</td>\n",
        "      <td> 211724</td>\n",
        "      <td> 42.3469</td>\n",
        "      <td>-71.0736</td>\n",
        "      <td> Constituent Call</td>\n",
        "      <td> (42.3469, -71.0736)</td>\n",
        "    </tr>\n",
        "    <tr>\n",
        "      <th>78 </th>\n",
        "      <td> 101001240842</td>\n",
        "      <td>2015-01-01 14:44:54</td>\n",
        "      <td>2015-01-31 14:44:54</td>\n",
        "      <td>                NaT</td>\n",
        "      <td> OVERDUE</td>\n",
        "      <td>   Open</td>\n",
        "      <td>                                               NaN</td>\n",
        "      <td> Heat - Excessive  Insufficient</td>\n",
        "      <td> Inspectional Services</td>\n",
        "      <td> Housing</td>\n",
        "      <td>...</td>\n",
        "      <td> 2104</td>\n",
        "      <td>   A</td>\n",
        "      <td>           72 Gardner St</td>\n",
        "      <td> 2134</td>\n",
        "      <td> Address</td>\n",
        "      <td> 239609</td>\n",
        "      <td> 42.3540</td>\n",
        "      <td>-71.1273</td>\n",
        "      <td>     Self Service</td>\n",
        "      <td>  (42.354, -71.1273)</td>\n",
        "    </tr>\n",
        "    <tr>\n",
        "      <th>94 </th>\n",
        "      <td> 101001240863</td>\n",
        "      <td>2015-01-01 17:13:28</td>\n",
        "      <td>2015-01-31 17:13:28</td>\n",
        "      <td>                NaT</td>\n",
        "      <td> OVERDUE</td>\n",
        "      <td>   Open</td>\n",
        "      <td>                                               NaN</td>\n",
        "      <td> Heat - Excessive  Insufficient</td>\n",
        "      <td> Inspectional Services</td>\n",
        "      <td> Housing</td>\n",
        "      <td>...</td>\n",
        "      <td>  802</td>\n",
        "      <td>  CM</td>\n",
        "      <td>       11-25 E Newton St</td>\n",
        "      <td> 2118</td>\n",
        "      <td> Address</td>\n",
        "      <td> 102338</td>\n",
        "      <td> 42.3382</td>\n",
        "      <td>-71.0731</td>\n",
        "      <td> Constituent Call</td>\n",
        "      <td> (42.3382, -71.0731)</td>\n",
        "    </tr>\n",
        "    <tr>\n",
        "      <th>107</th>\n",
        "      <td> 101001240882</td>\n",
        "      <td>2015-01-01 19:25:55</td>\n",
        "      <td>2015-01-31 19:25:55</td>\n",
        "      <td>                NaT</td>\n",
        "      <td> OVERDUE</td>\n",
        "      <td>   Open</td>\n",
        "      <td>                                               NaN</td>\n",
        "      <td> Heat - Excessive  Insufficient</td>\n",
        "      <td> Inspectional Services</td>\n",
        "      <td> Housing</td>\n",
        "      <td>...</td>\n",
        "      <td> 1808</td>\n",
        "      <td>   A</td>\n",
        "      <td>       950 Canterbury St</td>\n",
        "      <td> 2131</td>\n",
        "      <td> Address</td>\n",
        "      <td> 201733</td>\n",
        "      <td> 42.2785</td>\n",
        "      <td>-71.1172</td>\n",
        "      <td> Constituent Call</td>\n",
        "      <td> (42.2785, -71.1172)</td>\n",
        "    </tr>\n",
        "    <tr>\n",
        "      <th>117</th>\n",
        "      <td> 101001240896</td>\n",
        "      <td>2015-01-01 22:11:51</td>\n",
        "      <td>2015-01-31 22:11:50</td>\n",
        "      <td>                NaT</td>\n",
        "      <td> OVERDUE</td>\n",
        "      <td>   Open</td>\n",
        "      <td>                                               NaN</td>\n",
        "      <td> Heat - Excessive  Insufficient</td>\n",
        "      <td> Inspectional Services</td>\n",
        "      <td> Housing</td>\n",
        "      <td>...</td>\n",
        "      <td> 1407</td>\n",
        "      <td>   A</td>\n",
        "      <td>             31 Wales St</td>\n",
        "      <td> 2124</td>\n",
        "      <td> Address</td>\n",
        "      <td> 326017</td>\n",
        "      <td> 42.2969</td>\n",
        "      <td>-71.0850</td>\n",
        "      <td> Constituent Call</td>\n",
        "      <td>  (42.2969, -71.085)</td>\n",
        "    </tr>\n",
        "  </tbody>\n",
        "</table>\n",
        "<p>10 rows \u00d7 33 columns</p>\n",
        "</div>"
       ],
       "metadata": {},
       "output_type": "pyout",
       "prompt_number": 12,
       "text": [
        "     CASE_ENQUIRY_ID             OPEN_DT           TARGET_DT  \\\n",
        "11      101001240754 2015-01-01 07:27:13 2015-01-31 07:27:13   \n",
        "17      101001240762 2015-01-01 08:53:51 2015-01-31 08:53:51   \n",
        "34      101001240786 2015-01-01 10:59:01 2015-01-31 10:59:01   \n",
        "50      101001240809 2015-01-01 12:37:13 2015-01-31 12:37:13   \n",
        "74      101001240837 2015-01-01 14:24:55 2015-01-31 14:24:55   \n",
        "75      101001240838 2015-01-01 14:25:24 2015-01-31 14:25:23   \n",
        "78      101001240842 2015-01-01 14:44:54 2015-01-31 14:44:54   \n",
        "94      101001240863 2015-01-01 17:13:28 2015-01-31 17:13:28   \n",
        "107     101001240882 2015-01-01 19:25:55 2015-01-31 19:25:55   \n",
        "117     101001240896 2015-01-01 22:11:51 2015-01-31 22:11:50   \n",
        "\n",
        "              CLOSED_DT OnTime_Status CASE_STATUS  \\\n",
        "11                  NaT       OVERDUE        Open   \n",
        "17                  NaT       OVERDUE        Open   \n",
        "34  2015-01-07 08:49:25        ONTIME      Closed   \n",
        "50                  NaT       OVERDUE        Open   \n",
        "74  2015-01-01 14:32:32        ONTIME      Closed   \n",
        "75                  NaT       OVERDUE        Open   \n",
        "78                  NaT       OVERDUE        Open   \n",
        "94                  NaT       OVERDUE        Open   \n",
        "107                 NaT       OVERDUE        Open   \n",
        "117                 NaT       OVERDUE        Open   \n",
        "\n",
        "                                        CLOSURE_REASON  \\\n",
        "11                                                 NaN   \n",
        "17                                                 NaN   \n",
        "34                                       Case Closed :   \n",
        "50                                                 NaN   \n",
        "74   Case Closed Case Invalid landlord called while...   \n",
        "75                                                 NaN   \n",
        "78                                                 NaN   \n",
        "94                                                 NaN   \n",
        "107                                                NaN   \n",
        "117                                                NaN   \n",
        "\n",
        "                         CASE_TITLE                SUBJECT   REASON  \\\n",
        "11   Heat - Excessive  Insufficient  Inspectional Services  Housing   \n",
        "17   Heat - Excessive  Insufficient  Inspectional Services  Housing   \n",
        "34   Heat - Excessive  Insufficient  Inspectional Services  Housing   \n",
        "50   Heat - Excessive  Insufficient  Inspectional Services  Housing   \n",
        "74   Heat - Excessive  Insufficient  Inspectional Services  Housing   \n",
        "75   Heat - Excessive  Insufficient  Inspectional Services  Housing   \n",
        "78   Heat - Excessive  Insufficient  Inspectional Services  Housing   \n",
        "94   Heat - Excessive  Insufficient  Inspectional Services  Housing   \n",
        "107  Heat - Excessive  Insufficient  Inspectional Services  Housing   \n",
        "117  Heat - Excessive  Insufficient  Inspectional Services  Housing   \n",
        "\n",
        "            ...          precinct land_usage     LOCATION_STREET_NAME  \\\n",
        "11          ...               802        NaN       1744 Washington St   \n",
        "17          ...               903         EA             77 Camden St   \n",
        "34          ...               401         RC         282 Columbus Ave   \n",
        "50          ...              1403          A        522 Blue Hill Ave   \n",
        "74          ...              2003         R2  5070-5072 Washington St   \n",
        "75          ...               401         RC         282 Columbus Ave   \n",
        "78          ...              2104          A            72 Gardner St   \n",
        "94          ...               802         CM        11-25 E Newton St   \n",
        "107         ...              1808          A        950 Canterbury St   \n",
        "117         ...              1407          A              31 Wales St   \n",
        "\n",
        "    LOCATION_ZIPCODE Property_Type Property_ID  LATITUDE LONGITUDE  \\\n",
        "11              2118       Address      351061   42.3594  -71.0587   \n",
        "17              2118       Address      201313   42.3375  -71.0804   \n",
        "34              2116       Address      211739   42.3469  -71.0736   \n",
        "50              2121       Address      190031   42.3064  -71.0841   \n",
        "74              2132       Address      145574   42.2646  -71.1531   \n",
        "75              2116       Address      211724   42.3469  -71.0736   \n",
        "78              2134       Address      239609   42.3540  -71.1273   \n",
        "94              2118       Address      102338   42.3382  -71.0731   \n",
        "107             2131       Address      201733   42.2785  -71.1172   \n",
        "117             2124       Address      326017   42.2969  -71.0850   \n",
        "\n",
        "               Source    Geocoded_Location  \n",
        "11   Constituent Call  (42.3594, -71.0587)  \n",
        "17   Constituent Call  (42.3375, -71.0804)  \n",
        "34   Constituent Call  (42.3469, -71.0736)  \n",
        "50   Constituent Call  (42.3064, -71.0841)  \n",
        "74   Constituent Call  (42.2646, -71.1531)  \n",
        "75   Constituent Call  (42.3469, -71.0736)  \n",
        "78       Self Service   (42.354, -71.1273)  \n",
        "94   Constituent Call  (42.3382, -71.0731)  \n",
        "107  Constituent Call  (42.2785, -71.1172)  \n",
        "117  Constituent Call   (42.2969, -71.085)  \n",
        "\n",
        "[10 rows x 33 columns]"
       ]
      }
     ],
     "prompt_number": 12
    },
    {
     "cell_type": "markdown",
     "metadata": {},
     "source": [
      "Now, let's plot (preferably with horizontal bars) the counts for all the `CASE_TITLE`s that occur more than 250 times in the dataset. **(5 pts)**"
     ]
    },
    {
     "cell_type": "code",
     "collapsed": false,
     "input": [
      "# Plots the high-occuring categories for cases as a horizontal histogram.\n",
      "\n",
      "case_titles = boston.CASE_TITLE.value_counts() \n",
      "more_than_250 = case_titles[case_titles>250]\n",
      "\n",
      "more_than_250.plot('barh')\n"
     ],
     "language": "python",
     "metadata": {},
     "outputs": [
      {
       "metadata": {},
       "output_type": "pyout",
       "prompt_number": 13,
       "text": [
        "<matplotlib.axes._subplots.AxesSubplot at 0x10b5e1790>"
       ]
      },
      {
       "metadata": {},
       "output_type": "display_data",
       "png": "[encoded data removed]",
       "text": [
        "<matplotlib.figure.Figure at 0x10df30fd0>"
       ]
      }
     ],
     "prompt_number": 13
    },
    {
     "cell_type": "markdown",
     "metadata": {},
     "source": [
      "As you can see, the most common categories are related to snow. Let us see which neighborhoods were mostly affected by snow problems. This information is saved under the `neighborhood` column. Make a plot (similar to the one above, like a horizontal histogram) that for each neighborhood shows the number of snow-related calls made from there. **(5 pts)**"
     ]
    },
    {
     "cell_type": "code",
     "collapsed": false,
     "input": [
      "snow_cases = boston[boston.CASE_TITLE.str.contains('Snow', na=False)]\n",
      "\n",
      "neighborhood_snow = snow_cases.neighborhood.value_counts() \n",
      "\n",
      "neighborhood_snow.plot('barh')"
     ],
     "language": "python",
     "metadata": {},
     "outputs": [
      {
       "metadata": {},
       "output_type": "pyout",
       "prompt_number": 14,
       "text": [
        "<matplotlib.axes._subplots.AxesSubplot at 0x10d47da90>"
       ]
      },
      {
       "metadata": {},
       "output_type": "display_data",
       "png": "[encoded data removed]",
       "text": [
        "<matplotlib.figure.Figure at 0x10ae11c10>"
       ]
      }
     ],
     "prompt_number": 14
    },
    {
     "cell_type": "heading",
     "level": 2,
     "metadata": {},
     "source": [
      "Step 3. Advanced filtering & joins"
     ]
    },
    {
     "cell_type": "markdown",
     "metadata": {},
     "source": [
      "By now, you should have noticed that, for each day, there are multiple records in our dataframe. Use the `groupby` function to get, for each day, the counts for all the case categories. Plot the result for the top 5 categories as you see fit. **(20 pts)**"
     ]
    },
    {
     "cell_type": "code",
     "collapsed": false,
     "input": [
      "# Write your code here\n",
      "\n",
      "#Add a new column with the date, ignoring time information\n",
      "boston[\"date\"] = boston.OPEN_DT.apply(lambda d: d.replace(hour=0, minute=0, second=0, microsecond=0))\n",
      "\n",
      "#Find top 5 cases\n",
      "\n",
      "top_5_cases = boston.CASE_TITLE.value_counts().head(5)\n",
      "\n",
      "#Go through each day\n",
      "for day, day_data in boston.groupby(\"date\"):\n",
      "    print day\n",
      "    current_day = boston[boston.date == day]\n",
      "    \n",
      "    #Case titles and their counts of each day\n",
      "    day_cases = current_day.CASE_TITLE.value_counts()\n",
      "    \n",
      "    #Find top 5 cases within day_cases and their counts\n",
      "    for case in top_5_cases:\n",
      "        if any(day_cases.#column1 .str.contains(case, na=False)):\n",
      "            case_count = day_cases[day_cases.CASE_TITLE.str.contains(case, na=False)]\n",
      "        else:\n",
      "            case_count = #add column 1 case and column 2 0\n",
      "\n"
     ],
     "language": "python",
     "metadata": {},
     "outputs": [
      {
       "output_type": "stream",
       "stream": "stdout",
       "text": [
        "2015-01-01 00:00:00\n",
        "2015-01-02 00:00:00"
       ]
      },
      {
       "output_type": "stream",
       "stream": "stdout",
       "text": [
        "\n",
        "2015-01-03 00:00:00"
       ]
      },
      {
       "output_type": "stream",
       "stream": "stdout",
       "text": [
        "\n",
        "2015-01-04 00:00:00"
       ]
      },
      {
       "output_type": "stream",
       "stream": "stdout",
       "text": [
        "\n",
        "2015-01-05 00:00:00\n",
        "2015-01-06 00:00:00"
       ]
      },
      {
       "output_type": "stream",
       "stream": "stdout",
       "text": [
        "\n",
        "2015-01-07 00:00:00"
       ]
      },
      {
       "output_type": "stream",
       "stream": "stdout",
       "text": [
        "\n",
        "2015-01-08 00:00:00"
       ]
      },
      {
       "output_type": "stream",
       "stream": "stdout",
       "text": [
        "\n",
        "2015-01-09 00:00:00"
       ]
      },
      {
       "output_type": "stream",
       "stream": "stdout",
       "text": [
        "\n",
        "2015-01-10 00:00:00"
       ]
      },
      {
       "output_type": "stream",
       "stream": "stdout",
       "text": [
        "\n",
        "2015-01-11 00:00:00"
       ]
      },
      {
       "output_type": "stream",
       "stream": "stdout",
       "text": [
        "\n",
        "2015-01-12 00:00:00"
       ]
      },
      {
       "output_type": "stream",
       "stream": "stdout",
       "text": [
        "\n",
        "2015-01-13 00:00:00"
       ]
      },
      {
       "output_type": "stream",
       "stream": "stdout",
       "text": [
        "\n",
        "2015-01-14 00:00:00"
       ]
      },
      {
       "output_type": "stream",
       "stream": "stdout",
       "text": [
        "\n",
        "2015-01-15 00:00:00"
       ]
      },
      {
       "output_type": "stream",
       "stream": "stdout",
       "text": [
        "\n",
        "2015-01-16 00:00:00"
       ]
      },
      {
       "output_type": "stream",
       "stream": "stdout",
       "text": [
        "\n",
        "2015-01-17 00:00:00"
       ]
      },
      {
       "output_type": "stream",
       "stream": "stdout",
       "text": [
        "\n",
        "2015-01-18 00:00:00"
       ]
      },
      {
       "output_type": "stream",
       "stream": "stdout",
       "text": [
        "\n",
        "2015-01-19 00:00:00"
       ]
      },
      {
       "output_type": "stream",
       "stream": "stdout",
       "text": [
        "\n",
        "2015-01-20 00:00:00"
       ]
      },
      {
       "output_type": "stream",
       "stream": "stdout",
       "text": [
        "\n",
        "2015-01-21 00:00:00"
       ]
      },
      {
       "output_type": "stream",
       "stream": "stdout",
       "text": [
        "\n",
        "2015-01-22 00:00:00"
       ]
      },
      {
       "output_type": "stream",
       "stream": "stdout",
       "text": [
        "\n",
        "2015-01-23 00:00:00"
       ]
      },
      {
       "output_type": "stream",
       "stream": "stdout",
       "text": [
        "\n",
        "2015-01-24 00:00:00"
       ]
      },
      {
       "output_type": "stream",
       "stream": "stdout",
       "text": [
        "\n",
        "2015-01-25 00:00:00"
       ]
      },
      {
       "output_type": "stream",
       "stream": "stdout",
       "text": [
        "\n",
        "2015-01-26 00:00:00\n",
        "2015-01-27 00:00:00"
       ]
      },
      {
       "output_type": "stream",
       "stream": "stdout",
       "text": [
        "\n",
        "2015-01-28 00:00:00"
       ]
      },
      {
       "output_type": "stream",
       "stream": "stdout",
       "text": [
        "\n",
        "2015-01-29 00:00:00"
       ]
      },
      {
       "output_type": "stream",
       "stream": "stdout",
       "text": [
        "\n",
        "2015-01-30 00:00:00"
       ]
      },
      {
       "output_type": "stream",
       "stream": "stdout",
       "text": [
        "\n",
        "2015-01-31 00:00:00"
       ]
      },
      {
       "output_type": "stream",
       "stream": "stdout",
       "text": [
        "\n",
        "2015-02-01 00:00:00"
       ]
      },
      {
       "output_type": "stream",
       "stream": "stdout",
       "text": [
        "\n",
        "2015-02-02 00:00:00"
       ]
      },
      {
       "output_type": "stream",
       "stream": "stdout",
       "text": [
        "\n",
        "2015-02-03 00:00:00"
       ]
      },
      {
       "output_type": "stream",
       "stream": "stdout",
       "text": [
        "\n",
        "2015-02-04 00:00:00"
       ]
      },
      {
       "output_type": "stream",
       "stream": "stdout",
       "text": [
        "\n",
        "2015-02-05 00:00:00"
       ]
      },
      {
       "output_type": "stream",
       "stream": "stdout",
       "text": [
        "\n",
        "2015-02-06 00:00:00"
       ]
      },
      {
       "output_type": "stream",
       "stream": "stdout",
       "text": [
        "\n",
        "2015-02-07 00:00:00"
       ]
      },
      {
       "output_type": "stream",
       "stream": "stdout",
       "text": [
        "\n",
        "2015-02-08 00:00:00"
       ]
      },
      {
       "output_type": "stream",
       "stream": "stdout",
       "text": [
        "\n",
        "2015-02-09 00:00:00"
       ]
      },
      {
       "output_type": "stream",
       "stream": "stdout",
       "text": [
        "\n",
        "2015-02-10 00:00:00"
       ]
      },
      {
       "output_type": "stream",
       "stream": "stdout",
       "text": [
        "\n",
        "2015-02-11 00:00:00"
       ]
      },
      {
       "output_type": "stream",
       "stream": "stdout",
       "text": [
        "\n",
        "2015-02-12 00:00:00"
       ]
      },
      {
       "output_type": "stream",
       "stream": "stdout",
       "text": [
        "\n",
        "2015-02-13 00:00:00"
       ]
      },
      {
       "output_type": "stream",
       "stream": "stdout",
       "text": [
        "\n",
        "2015-02-14 00:00:00"
       ]
      },
      {
       "output_type": "stream",
       "stream": "stdout",
       "text": [
        "\n",
        "2015-02-15 00:00:00"
       ]
      },
      {
       "output_type": "stream",
       "stream": "stdout",
       "text": [
        "\n"
       ]
      },
      {
       "metadata": {},
       "output_type": "display_data",
       "png": "[encoded data removed]",
       "text": [
        "<matplotlib.figure.Figure at 0x10a4ab350>"
       ]
      }
     ],
     "prompt_number": 75
    },
    {
     "cell_type": "code",
     "collapsed": false,
     "input": [
      "# Write your code here\n",
      "\n",
      "#Add a new column with the date, ignoring time information\n",
      "boston[\"date\"] = boston.OPEN_DT.apply(lambda d: d.replace(hour=0, minute=0, second=0, microsecond=0))\n",
      "\n",
      "#Find top 5 cases\n",
      "\n",
      "top_5_cases = boston.CASE_TITLE.value_counts().head(5)\n",
      "\n",
      "\n",
      "\n",
      "top_5_cases.to_csv('top_5_cases.csv', index=True)\n",
      "\n",
      "new_top_5 = pd.read_csv('top_5_cases.csv', names= ['CASE_TITLE', 'COUNTS'])\n",
      "\n",
      "#print new_top_5.CASE_TITLE[0]\n",
      "\n",
      "new_top_5.iter(0)\n",
      "\n",
      "#print boston.CASE_TITLE[0] in top_5_cases\n",
      "\n",
      "#for case in top_5_cases:\n",
      "\"\"\"\n",
      "#Go through each day\n",
      "for day, day_data in boston.groupby(\"date\"):\n",
      "    current_day = boston[boston.date == day]\n",
      "    \n",
      "    #Case titles and their counts of each day\n",
      "    day_cases = current_day.CASE_TITLE.value_counts()\n",
      "        \n",
      "    #Find top 5 cases within day_cases and their counts\n",
      "    for case in top_5_cases:\n",
      "        if case in day_cases:\n",
      "            case_count = case\n",
      "        else:\n",
      "            case_count = 0\n",
      "\"\"\"\n",
      "\"\"\"\n",
      "LAST RESORT:\n",
      "to_csv(path[, index, sep, na_rep, ...])\tWrite Series to a comma-separated values (csv) file\n",
      "then read in csv file.. problem solved???\n",
      "\n",
      "\"\"\"\n"
     ],
     "language": "python",
     "metadata": {},
     "outputs": [
      {
       "output_type": "stream",
       "stream": "stdout",
       "text": [
        "Request for Snow Plowing        18619\n",
        "Snow Removal                     7434\n",
        "Requests for Street Cleaning     1083\n",
        "Request for Pothole Repair        810\n",
        "Misc. Snow Complaint              768\n",
        "dtype: int64\n"
       ]
      },
      {
       "ename": "AttributeError",
       "evalue": "'DataFrame' object has no attribute 'iter'",
       "output_type": "pyerr",
       "traceback": [
        "\u001b[0;31m---------------------------------------------------------------------------\u001b[0m\n\u001b[0;31mAttributeError\u001b[0m                            Traceback (most recent call last)",
        "\u001b[0;32m<ipython-input-113-4ffacfe12dfc>\u001b[0m in \u001b[0;36m<module>\u001b[0;34m()\u001b[0m\n\u001b[1;32m     16\u001b[0m \u001b[0;31m#print new_top_5.CASE_TITLE[0]\u001b[0m\u001b[0;34m\u001b[0m\u001b[0;34m\u001b[0m\u001b[0m\n\u001b[1;32m     17\u001b[0m \u001b[0;34m\u001b[0m\u001b[0m\n\u001b[0;32m---> 18\u001b[0;31m \u001b[0mnew_top_5\u001b[0m\u001b[0;34m.\u001b[0m\u001b[0miter\u001b[0m\u001b[0;34m(\u001b[0m\u001b[0;36m0\u001b[0m\u001b[0;34m)\u001b[0m\u001b[0;34m\u001b[0m\u001b[0m\n\u001b[0m\u001b[1;32m     19\u001b[0m \u001b[0;34m\u001b[0m\u001b[0m\n\u001b[1;32m     20\u001b[0m \u001b[0;31m#print boston.CASE_TITLE[0] in top_5_cases\u001b[0m\u001b[0;34m\u001b[0m\u001b[0;34m\u001b[0m\u001b[0m\n",
        "\u001b[0;32m/Users/Akumi/anaconda/lib/python2.7/site-packages/pandas/core/generic.pyc\u001b[0m in \u001b[0;36m__getattr__\u001b[0;34m(self, name)\u001b[0m\n\u001b[1;32m   1945\u001b[0m                 \u001b[0;32mreturn\u001b[0m \u001b[0mself\u001b[0m\u001b[0;34m[\u001b[0m\u001b[0mname\u001b[0m\u001b[0;34m]\u001b[0m\u001b[0;34m\u001b[0m\u001b[0m\n\u001b[1;32m   1946\u001b[0m             raise AttributeError(\"'%s' object has no attribute '%s'\" %\n\u001b[0;32m-> 1947\u001b[0;31m                                  (type(self).__name__, name))\n\u001b[0m\u001b[1;32m   1948\u001b[0m \u001b[0;34m\u001b[0m\u001b[0m\n\u001b[1;32m   1949\u001b[0m     \u001b[0;32mdef\u001b[0m \u001b[0m__setattr__\u001b[0m\u001b[0;34m(\u001b[0m\u001b[0mself\u001b[0m\u001b[0;34m,\u001b[0m \u001b[0mname\u001b[0m\u001b[0;34m,\u001b[0m \u001b[0mvalue\u001b[0m\u001b[0;34m)\u001b[0m\u001b[0;34m:\u001b[0m\u001b[0;34m\u001b[0m\u001b[0m\n",
        "\u001b[0;31mAttributeError\u001b[0m: 'DataFrame' object has no attribute 'iter'"
       ]
      }
     ],
     "prompt_number": 113
    },
    {
     "cell_type": "markdown",
     "metadata": {},
     "source": [
      "Let's see how this trend compares to the snowfall. First, we need to read the data from `snow.csv`"
     ]
    },
    {
     "cell_type": "code",
     "collapsed": false,
     "input": [
      "# Read the dataframe\n",
      "snow_data = pd.read_csv(\"snow.csv\",parse_dates=[1])"
     ],
     "language": "python",
     "metadata": {},
     "outputs": []
    },
    {
     "cell_type": "markdown",
     "metadata": {},
     "source": [
      "According to the documentation, the column `SNOW` has the values for the snowfall, in mm. However, the dataset we have has information from many different stations around Boston. Aggregate all their measurements and transform the result to centimeters. Finally, plot the result **(10 pts)**"
     ]
    },
    {
     "cell_type": "code",
     "collapsed": false,
     "input": [
      "# Write your code here"
     ],
     "language": "python",
     "metadata": {},
     "outputs": []
    },
    {
     "cell_type": "heading",
     "level": 2,
     "metadata": {},
     "source": [
      "Step 4. Matching trends"
     ]
    },
    {
     "cell_type": "markdown",
     "metadata": {},
     "source": [
      "The last thing we will do is to join the snowfall dataframe with that of the top 5 categories of calls, per day. Don't forget to fill the NaN values with 0. You want to do an outer join (if there are calls for a day but no snowfall data, we want to create a 0 record). Save that to a dataframe called `calls_on_snow`. The first 5 columns should be the counts for the categories, and the 6th will be the snowfall data. **(10 pts)**"
     ]
    },
    {
     "cell_type": "code",
     "collapsed": false,
     "input": [],
     "language": "python",
     "metadata": {},
     "outputs": []
    },
    {
     "cell_type": "markdown",
     "metadata": {},
     "source": [
      "Now, you can show the connection of the two trends (the calls and the snow) in a plot. I provide some sample code, but you should also try your own versions."
     ]
    },
    {
     "cell_type": "code",
     "collapsed": false,
     "input": [
      "fig, axes = plt.subplots(nrows=2,figsize=(12,5), sharex=True)\n",
      "\n",
      "calls_on_snow.ix[:,0:5].plot(ax=axes[0])\n",
      "calls_on_snow.ix[:,5].plot(ax=axes[1],label=\"snowfall (in cm)\", color='gray')\n",
      "\n",
      "axes[0].set_title(\"The effect of the winter snowstorms on Boston's 311 Hotline for 2015\")\n",
      "axes[0].set_ylabel(\"# Calls\")\n",
      "axes[1].set_ylabel(\"Snowfall in cm\")\n",
      "axes[1].set_xlabel(\"Date\")\n",
      "axes[0].xaxis.grid(False)\n",
      "axes[1].xaxis.grid(False)"
     ],
     "language": "python",
     "metadata": {},
     "outputs": []
    },
    {
     "cell_type": "markdown",
     "metadata": {},
     "source": [
      "The result should look something like this:\n",
      "\n",
      "\n",
      "![The calls to 311 are peaking after each snowstorm](final_plot.png)"
     ]
    },
    {
     "cell_type": "code",
     "collapsed": false,
     "input": [
      "# Code for setting the style of the notebook\n",
      "from IPython.core.display import HTML\n",
      "def css_styling():\n",
      "    styles = open(\"../../theme/custom.css\", \"r\").read()\n",
      "    return HTML(styles)\n",
      "css_styling()"
     ],
     "language": "python",
     "metadata": {},
     "outputs": []
    },
    {
     "cell_type": "code",
     "collapsed": false,
     "input": [],
     "language": "python",
     "metadata": {},
     "outputs": []
    }
   ],
   "metadata": {}
  }
 ]
}