{
 "metadata": {
  "name": "",
  "signature": "sha256:229120a74062938156d82d1d6c7613effc8568e0fffaa0abaf39fb599a227b1b"
 },
 "nbformat": 3,
 "nbformat_minor": 0,
 "worksheets": [
  {
   "cells": [
    {
     "cell_type": "markdown",
     "metadata": {},
     "source": [
      "(In order to load the stylesheet of this notebook, execute the last code cell in this notebook)"
     ]
    },
    {
     "cell_type": "heading",
     "level": 1,
     "metadata": {},
     "source": [
      "Analyzing hotel ratings on Tripadvisor"
     ]
    },
    {
     "cell_type": "markdown",
     "metadata": {},
     "source": [
      "In this homework we will focus on practicing two techniques: web scraping and regression. For the first part, we will build upon the sample code from the Lecture and attempt to get some basic information for each hotel. Then, we will fit a regression model on this information and try to analyze it.   "
     ]
    },
    {
     "cell_type": "markdown",
     "metadata": {},
     "source": [
      "One of the main disadvantages of scraping a website instead of using an API is that, without any notice, the website may change its layout and render our code useless. Something like that happened in our case. Tripadvisor changed the layout of the buttons that we use to navigate between the different pages of the results. This was the main reason people were having problem with executing the code."
     ]
    },
    {
     "cell_type": "heading",
     "level": 2,
     "metadata": {},
     "source": [
      "Part 1"
     ]
    },
    {
     "cell_type": "markdown",
     "metadata": {},
     "source": [
      "**Task 1 (20 pts)**\n",
      "\n",
      "The first task of the homework is to fix the scraping code. We basically need to replace the part where we are checking if there is another page and getting its link with new code that reflects the new navigation layout. "
     ]
    },
    {
     "cell_type": "markdown",
     "metadata": {},
     "source": [
      "Errors found:"
     ]
    },
    {
     "cell_type": "raw",
     "metadata": {},
     "source": [
      "Traceback (most recent call last):\n",
      "  File \"scrape_solution.py\", line 170, in <module>\n",
      "    city_url = parse_hotellist_page(html)\n",
      "  File \"scrape_solution.py\", line 146, in parse_hotellist_page\n",
      "    if div.find('span', {'class' : 'nav next disabled'}):\n",
      "        \n",
      "        \"\"\"\n",
      "        ---- After removing above line -----\n",
      "        \"\"\"\n",
      "    Traceback (most recent call last):\n",
      "  File \"scrape_solution.py\", line 170, in <module>\n",
      "    city_url = parse_hotellist_page(html)\n",
      "  File \"scrape_solution.py\", line 150, in parse_hotellist_page\n",
      "    hrefs = div.findAll('a', href= True)\n",
      "AttributeError: 'NoneType' object has no attribute 'findAll'\n"
     ]
    },
    {
     "cell_type": "markdown",
     "metadata": {},
     "source": [
      "Problem: Script stops after first page. Tripadvisor's pagination code must have changed. "
     ]
    },
    {
     "cell_type": "markdown",
     "metadata": {},
     "source": [
      "Modified code snipet:"
     ]
    },
    {
     "cell_type": "raw",
     "metadata": {},
     "source": [
      "\n",
      "    # Get next URL page if exists, otherwise exit\n",
      "    div = soup.find(\"div\", {\"class\" : \"pagination paginationfillbtm\"}) #Modified\n",
      "    # check if this is the last page\n",
      "    if div.find('span', {'class' : 'guiArw pageEndNext'}): #Modified\n",
      "        log.info(\"We reached last page\")\n",
      "        sys.exit()\n",
      "    #If not, return the url to the next page\n",
      "    hrefs = div.findAll('a', href= True)\n",
      "    for href in hrefs:\n",
      "    \t#print 'GOING THROUGH HREFS'\n",
      "    \t#print href\n",
      "        if href.find(text = True) == '&raquo;':\n",
      "            log.info(\"Next url is %s\" % href['href'])\n",
      "            return href['href']"
     ]
    },
    {
     "cell_type": "heading",
     "level": 2,
     "metadata": {},
     "source": [
      "PART 2"
     ]
    },
    {
     "cell_type": "markdown",
     "metadata": {},
     "source": [
      "** Task 2 (30 pts)**\n",
      "\n",
      "Then, for each hotel that our search returns, we will \"click\" (with the code of course) on it and scrape the information below.\n",
      "\n",
      "![Information to be scraped](hotel_info.png)\n",
      "\n",
      "Of course, feel free to collect even more data if you want. "
     ]
    },
    {
     "cell_type": "markdown",
     "metadata": {},
     "source": [
      "In order to use code from a Python script file, we need to put that file in the same folder as the notebook and import it as a library. Then, we will be able to access it's functions. For example, in the case of the lecture code, we could do the following:\n",
      "\n",
      "``` python\n",
      "import scrape_solution as scrape\n",
      "\n",
      "scrape.get_city_page()\n",
      "```\n",
      "\n",
      "Of course, you might need to modify and restructure the code so that it returns what you need."
     ]
    },
    {
     "cell_type": "code",
     "collapsed": false,
     "input": [
      "import numpy as np\n",
      "import matplotlib.pyplot as plt\n",
      "import pandas as pd\n",
      "\n",
      "import scipy as sp\n",
      "import scipy.sparse.linalg as linalg\n",
      "\n",
      "import sklearn.linear_model as linear_model\n",
      "import sklearn.cross_validation as cross_validation\n",
      "\n",
      "import statsmodels.api as sm\n",
      "\n",
      "from patsy import dmatrices\n",
      "\n",
      "import seaborn as sns\n",
      "%matplotlib inline\n",
      "\n",
      "from sklearn.preprocessing import StandardScaler\n",
      "import sklearn.utils as utils\n",
      "import sklearn.metrics as metrics\n",
      "\n",
      "import scrape as scrape"
     ],
     "language": "python",
     "metadata": {},
     "outputs": [],
     "prompt_number": 1
    },
    {
     "cell_type": "code",
     "collapsed": false,
     "input": [
      "reload(scrape)"
     ],
     "language": "python",
     "metadata": {},
     "outputs": [
      {
       "metadata": {},
       "output_type": "pyout",
       "prompt_number": 31,
       "text": [
        "<module 'scrape' from 'scrape.py'>"
       ]
      }
     ],
     "prompt_number": 31
    },
    {
     "cell_type": "code",
     "collapsed": false,
     "input": [
      "#Create CSV file \n",
      "scrape.scrape_hotels('Boston', 'Massachusetts')"
     ],
     "language": "python",
     "metadata": {},
     "outputs": []
    },
    {
     "cell_type": "code",
     "collapsed": false,
     "input": [
      "#Store CSV contents in df\n",
      "\n",
      "hotels = pd.DataFrame()\n",
      "hotels = pd.read_csv('BostonHotels.csv')\n",
      "hotels.info()\n",
      "\n",
      "hotels.head()\n",
      "\n"
     ],
     "language": "python",
     "metadata": {},
     "outputs": [
      {
       "output_type": "stream",
       "stream": "stdout",
       "text": [
        "<class 'pandas.core.frame.DataFrame'>\n",
        "Int64Index: 77 entries, 0 to 76\n",
        "Data columns (total 18 columns):\n",
        "HOTEL_NAME       77 non-null object\n",
        "STARS            77 non-null float64\n",
        "TOTAL_REVIEWS    77 non-null object\n",
        "EXCELLENT        77 non-null object\n",
        "VERY_GOOD        77 non-null object\n",
        "AVERAGE          77 non-null int64\n",
        "POOR             77 non-null int64\n",
        "TERRIBLE         77 non-null int64\n",
        "FAMILY           77 non-null int64\n",
        "COUPLE           77 non-null object\n",
        "SOLO             77 non-null int64\n",
        "BUSINESS         77 non-null object\n",
        "LOCATION         77 non-null float64\n",
        "SLEEPQ           77 non-null float64\n",
        "ROOM             77 non-null float64\n",
        "SERVICE          77 non-null float64\n",
        "VALUE            77 non-null float64\n",
        "CLEANLINESS      77 non-null float64\n",
        "dtypes: float64(7), int64(5), object(6)\n",
        "memory usage: 11.4+ KB\n"
       ]
      },
      {
       "html": [
        "<div style=\"max-height:1000px;max-width:1500px;overflow:auto;\">\n",
        "<table border=\"1\" class=\"dataframe\">\n",
        "  <thead>\n",
        "    <tr style=\"text-align: right;\">\n",
        "      <th></th>\n",
        "      <th>HOTEL_NAME</th>\n",
        "      <th>STARS</th>\n",
        "      <th>TOTAL_REVIEWS</th>\n",
        "      <th>EXCELLENT</th>\n",
        "      <th>VERY_GOOD</th>\n",
        "      <th>AVERAGE</th>\n",
        "      <th>POOR</th>\n",
        "      <th>TERRIBLE</th>\n",
        "      <th>FAMILY</th>\n",
        "      <th>COUPLE</th>\n",
        "      <th>SOLO</th>\n",
        "      <th>BUSINESS</th>\n",
        "      <th>LOCATION</th>\n",
        "      <th>SLEEPQ</th>\n",
        "      <th>ROOM</th>\n",
        "      <th>SERVICE</th>\n",
        "      <th>VALUE</th>\n",
        "      <th>CLEANLINESS</th>\n",
        "    </tr>\n",
        "  </thead>\n",
        "  <tbody>\n",
        "    <tr>\n",
        "      <th>0</th>\n",
        "      <td>                       Seaport Boston Hotel</td>\n",
        "      <td> 4.5</td>\n",
        "      <td> 2,539 reviews</td>\n",
        "      <td> 1,872</td>\n",
        "      <td> 505</td>\n",
        "      <td>  98</td>\n",
        "      <td> 33</td>\n",
        "      <td> 31</td>\n",
        "      <td> 461</td>\n",
        "      <td> 550</td>\n",
        "      <td> 108</td>\n",
        "      <td> 1,103</td>\n",
        "      <td> 4.5</td>\n",
        "      <td> 4.5</td>\n",
        "      <td> 4.5</td>\n",
        "      <td> 4.5</td>\n",
        "      <td> 4.5</td>\n",
        "      <td> 5.0</td>\n",
        "    </tr>\n",
        "    <tr>\n",
        "      <th>1</th>\n",
        "      <td>                        Hyatt Boston Harbor</td>\n",
        "      <td> 4.0</td>\n",
        "      <td> 1,167 reviews</td>\n",
        "      <td>   479</td>\n",
        "      <td> 424</td>\n",
        "      <td> 164</td>\n",
        "      <td> 67</td>\n",
        "      <td> 33</td>\n",
        "      <td> 239</td>\n",
        "      <td> 335</td>\n",
        "      <td> 105</td>\n",
        "      <td>   326</td>\n",
        "      <td> 4.5</td>\n",
        "      <td> 4.0</td>\n",
        "      <td> 4.0</td>\n",
        "      <td> 4.5</td>\n",
        "      <td> 4.0</td>\n",
        "      <td> 4.5</td>\n",
        "    </tr>\n",
        "    <tr>\n",
        "      <th>2</th>\n",
        "      <td> Courtyard by Marriott Boston Copley Square</td>\n",
        "      <td> 4.5</td>\n",
        "      <td>   961 reviews</td>\n",
        "      <td>   625</td>\n",
        "      <td> 274</td>\n",
        "      <td>  43</td>\n",
        "      <td>  8</td>\n",
        "      <td> 11</td>\n",
        "      <td> 228</td>\n",
        "      <td> 222</td>\n",
        "      <td>  70</td>\n",
        "      <td>   297</td>\n",
        "      <td> 5.0</td>\n",
        "      <td> 4.5</td>\n",
        "      <td> 4.5</td>\n",
        "      <td> 4.5</td>\n",
        "      <td> 4.5</td>\n",
        "      <td> 4.5</td>\n",
        "    </tr>\n",
        "    <tr>\n",
        "      <th>3</th>\n",
        "      <td>          Nine Zero Hotel - a Kimpton Hotel</td>\n",
        "      <td> 4.5</td>\n",
        "      <td> 1,824 reviews</td>\n",
        "      <td> 1,175</td>\n",
        "      <td> 496</td>\n",
        "      <td> 104</td>\n",
        "      <td> 30</td>\n",
        "      <td> 19</td>\n",
        "      <td> 328</td>\n",
        "      <td> 829</td>\n",
        "      <td> 117</td>\n",
        "      <td>   322</td>\n",
        "      <td> 5.0</td>\n",
        "      <td> 4.5</td>\n",
        "      <td> 4.5</td>\n",
        "      <td> 4.5</td>\n",
        "      <td> 4.0</td>\n",
        "      <td> 4.5</td>\n",
        "    </tr>\n",
        "    <tr>\n",
        "      <th>4</th>\n",
        "      <td>                    The Westin Copley Place</td>\n",
        "      <td> 4.0</td>\n",
        "      <td> 2,303 reviews</td>\n",
        "      <td> 1,069</td>\n",
        "      <td> 832</td>\n",
        "      <td> 276</td>\n",
        "      <td> 92</td>\n",
        "      <td> 34</td>\n",
        "      <td> 545</td>\n",
        "      <td> 494</td>\n",
        "      <td> 103</td>\n",
        "      <td>   773</td>\n",
        "      <td> 5.0</td>\n",
        "      <td> 4.5</td>\n",
        "      <td> 4.5</td>\n",
        "      <td> 4.5</td>\n",
        "      <td> 4.0</td>\n",
        "      <td> 4.5</td>\n",
        "    </tr>\n",
        "  </tbody>\n",
        "</table>\n",
        "</div>"
       ],
       "metadata": {},
       "output_type": "pyout",
       "prompt_number": 2,
       "text": [
        "                                   HOTEL_NAME  STARS  TOTAL_REVIEWS EXCELLENT  \\\n",
        "0                        Seaport Boston Hotel    4.5  2,539 reviews     1,872   \n",
        "1                         Hyatt Boston Harbor    4.0  1,167 reviews       479   \n",
        "2  Courtyard by Marriott Boston Copley Square    4.5    961 reviews       625   \n",
        "3           Nine Zero Hotel - a Kimpton Hotel    4.5  1,824 reviews     1,175   \n",
        "4                     The Westin Copley Place    4.0  2,303 reviews     1,069   \n",
        "\n",
        "  VERY_GOOD  AVERAGE  POOR  TERRIBLE  FAMILY COUPLE  SOLO BUSINESS  LOCATION  \\\n",
        "0       505       98    33        31     461    550   108    1,103       4.5   \n",
        "1       424      164    67        33     239    335   105      326       4.5   \n",
        "2       274       43     8        11     228    222    70      297       5.0   \n",
        "3       496      104    30        19     328    829   117      322       5.0   \n",
        "4       832      276    92        34     545    494   103      773       5.0   \n",
        "\n",
        "   SLEEPQ  ROOM  SERVICE  VALUE  CLEANLINESS  \n",
        "0     4.5   4.5      4.5    4.5          5.0  \n",
        "1     4.0   4.0      4.5    4.0          4.5  \n",
        "2     4.5   4.5      4.5    4.5          4.5  \n",
        "3     4.5   4.5      4.5    4.0          4.5  \n",
        "4     4.5   4.5      4.5    4.0          4.5  "
       ]
      }
     ],
     "prompt_number": 2
    },
    {
     "cell_type": "markdown",
     "metadata": {},
     "source": [
      "Total reviews, excellent, very good, couple, and business columns were read in as string objects. Convert to numeric."
     ]
    },
    {
     "cell_type": "code",
     "collapsed": false,
     "input": [
      "hotels.TOTAL_REVIEWS = hotels.TOTAL_REVIEWS.apply(lambda r: r.replace(',', '').replace(' reviews', ''))\n",
      "hotels.EXCELLENT = hotels.EXCELLENT.apply(lambda r: r.replace(',', ''))\n",
      "hotels.VERY_GOOD = hotels.VERY_GOOD.apply(lambda r: r.replace(',', ''))\n",
      "hotels.COUPLE = hotels.COUPLE.apply(lambda r: r.replace(',', ''))\n",
      "hotels.BUSINESS = hotels.BUSINESS.apply(lambda r: r.replace(',', ''))"
     ],
     "language": "python",
     "metadata": {},
     "outputs": [],
     "prompt_number": 3
    },
    {
     "cell_type": "code",
     "collapsed": false,
     "input": [
      "hotels = hotels.convert_objects(convert_numeric=True)\n",
      "hotels.dtypes"
     ],
     "language": "python",
     "metadata": {},
     "outputs": [
      {
       "metadata": {},
       "output_type": "pyout",
       "prompt_number": 4,
       "text": [
        "HOTEL_NAME        object\n",
        "STARS            float64\n",
        "TOTAL_REVIEWS      int64\n",
        "EXCELLENT          int64\n",
        "VERY_GOOD          int64\n",
        "AVERAGE            int64\n",
        "POOR               int64\n",
        "TERRIBLE           int64\n",
        "FAMILY             int64\n",
        "COUPLE             int64\n",
        "SOLO               int64\n",
        "BUSINESS           int64\n",
        "LOCATION         float64\n",
        "SLEEPQ           float64\n",
        "ROOM             float64\n",
        "SERVICE          float64\n",
        "VALUE            float64\n",
        "CLEANLINESS      float64\n",
        "dtype: object"
       ]
      }
     ],
     "prompt_number": 4
    },
    {
     "cell_type": "heading",
     "level": 2,
     "metadata": {},
     "source": [
      "Part 3"
     ]
    },
    {
     "cell_type": "markdown",
     "metadata": {},
     "source": [
      "** Task 3 (20 pts) **\n",
      "\n",
      "Now, we will use regression to analyze this information. First, we will fit a linear regression model that predicts the average rating. For example, for the hotel above, the average rating is\n",
      "\n",
      "$$ \\text{AVG_SCORE} = \\frac{1*31 + 2*33 + 3*98 + 4*504 + 5*1861}{2527}$$\n",
      "\n",
      "Use the model to analyze the important factors that decide the $\\text{AVG_SCORE}$."
     ]
    },
    {
     "cell_type": "code",
     "collapsed": false,
     "input": [
      "#Compute and add an avg_score\n",
      "\n",
      "score_list = []\n",
      "for index, row in hotels.iterrows():\n",
      "    row = hotels.iloc[[index]]\n",
      "    weight_score = (1*row.TERRIBLE[index] + 2*row.POOR[index] + 3*row.AVERAGE[index] + 4* row.VERY_GOOD[index] + 5*row.EXCELLENT[index])\n",
      "    total = sum(row.TERRIBLE + row.POOR + row.AVERAGE + row.VERY_GOOD + row.EXCELLENT)\n",
      "    score_list.append(weight_score/float(total))"
     ],
     "language": "python",
     "metadata": {},
     "outputs": [],
     "prompt_number": 5
    },
    {
     "cell_type": "code",
     "collapsed": false,
     "input": [
      "hotels['AVG_SCORE'] = score_list"
     ],
     "language": "python",
     "metadata": {},
     "outputs": [],
     "prompt_number": 6
    },
    {
     "cell_type": "code",
     "collapsed": false,
     "input": [
      "#Factors to predict avg_score\n",
      "col_names = ['TOTAL_REVIEWS', 'FAMILY', 'COUPLE', 'SOLO', 'BUSINESS', 'LOCATION', 'SLEEPQ', 'ROOM', 'SERVICE', 'VALUE', 'CLEANLINESS']#, 'Eins']\n",
      "\n",
      "#Create scaler\n",
      "scaler= StandardScaler()\n",
      "\n",
      "#Center and normalize data\n",
      "review_totals = scaler.fit_transform(hotels[col_names].values)\n",
      "avg_score = scaler.fit_transform(hotels.AVG_SCORE.values)"
     ],
     "language": "python",
     "metadata": {},
     "outputs": [],
     "prompt_number": 7
    },
    {
     "cell_type": "code",
     "collapsed": false,
     "input": [
      "print 'Total data points: %d, Total features: %d ' % (review_totals.shape[0], review_totals.shape[1])"
     ],
     "language": "python",
     "metadata": {},
     "outputs": [
      {
       "output_type": "stream",
       "stream": "stdout",
       "text": [
        "Total data points: 77, Total features: 11 \n"
       ]
      }
     ],
     "prompt_number": 8
    },
    {
     "cell_type": "code",
     "collapsed": false,
     "input": [
      "#Shuffle data\n",
      "X, y = utils.shuffle(review_totals, avg_score, random_state=1)"
     ],
     "language": "python",
     "metadata": {},
     "outputs": [],
     "prompt_number": 9
    },
    {
     "cell_type": "code",
     "collapsed": false,
     "input": [
      "#split into training and testing\n",
      "\n",
      "X_train, X_test, y_train, y_test = cross_validation.train_test_split(X, y, test_size=0.3, random_state=0)\n",
      "print(X_train.shape), y_train.shape\n",
      "print(X_test.shape), y_test.shape"
     ],
     "language": "python",
     "metadata": {},
     "outputs": [
      {
       "output_type": "stream",
       "stream": "stdout",
       "text": [
        "(53, 11) (53,)\n",
        "(24, 11) (24,)\n"
       ]
      }
     ],
     "prompt_number": 10
    },
    {
     "cell_type": "code",
     "collapsed": false,
     "input": [
      "#Create and fit linear model\n",
      "regr = linear_model.LinearRegression()\n",
      "regr.fit(X_train, y_train);"
     ],
     "language": "python",
     "metadata": {},
     "outputs": [],
     "prompt_number": 11
    },
    {
     "cell_type": "code",
     "collapsed": false,
     "input": [
      "# The mean square error\n",
      "print(\"Training error: \", metrics.mean_squared_error(regr.predict(X_train),y_train))\n",
      "print(\"Test     error: \", metrics.mean_squared_error(regr.predict(X_test),y_test))"
     ],
     "language": "python",
     "metadata": {},
     "outputs": [
      {
       "output_type": "stream",
       "stream": "stdout",
       "text": [
        "('Training error: ', 0.027815419601002252)\n",
        "('Test     error: ', 0.04533703968507493)\n"
       ]
      }
     ],
     "prompt_number": 12
    },
    {
     "cell_type": "code",
     "collapsed": false,
     "input": [
      "#coefficient of determination - R2\n",
      "train_score = regr.score(X_train,y_train)\n",
      "test_score = regr.score(X_test,y_test)\n",
      "print ('Coefficient of Determination - R^2')\n",
      "print(\"Training score: \", train_score)\n",
      "print(\"Test     score: \", test_score)"
     ],
     "language": "python",
     "metadata": {},
     "outputs": [
      {
       "output_type": "stream",
       "stream": "stdout",
       "text": [
        "Coefficient of Determination - R^2\n",
        "('Training score: ', 0.97123405547165564)\n",
        "('Test     score: ', 0.95605245541709571)\n"
       ]
      }
     ],
     "prompt_number": 13
    },
    {
     "cell_type": "code",
     "collapsed": false,
     "input": [
      "print 'Coefficients for each feature:'\n",
      "coefficients = regr.coef_\n",
      "for i in range(len(coefficients)):\n",
      "    print col_names[i],\"\\t\",coefficients[i]\n",
      "\n",
      "intercept = regr.intercept_\n",
      "print 'Intercept is %f' %intercept"
     ],
     "language": "python",
     "metadata": {},
     "outputs": [
      {
       "output_type": "stream",
       "stream": "stdout",
       "text": [
        "Coefficients for each feature:\n",
        "TOTAL_REVIEWS \t-0.342642456799\n",
        "FAMILY \t0.0326498739115\n",
        "COUPLE \t0.186781719319\n",
        "SOLO \t-0.00467860695716\n",
        "BUSINESS \t0.104703058045\n",
        "LOCATION \t0.112192052531\n",
        "SLEEPQ \t0.0989544740986\n",
        "ROOM \t0.329539130112\n",
        "SERVICE \t0.204466307336\n",
        "VALUE \t0.114578535155\n",
        "CLEANLINESS \t0.21159232982\n",
        "Intercept is 0.020549\n"
       ]
      }
     ],
     "prompt_number": 14
    },
    {
     "cell_type": "code",
     "collapsed": false,
     "input": [
      "regr = linear_model.LinearRegression()\n",
      "scores = cross_validation.cross_val_score(regr, X, y)\n",
      "print(\"Regression score: %0.2f (+/- %0.2f)\" % (scores.mean(), scores.std() * 2))"
     ],
     "language": "python",
     "metadata": {},
     "outputs": [
      {
       "output_type": "stream",
       "stream": "stdout",
       "text": [
        "Regression score: 0.94 (+/- 0.04)\n"
       ]
      }
     ],
     "prompt_number": 15
    },
    {
     "cell_type": "code",
     "collapsed": false,
     "input": [
      "fig, axes = plt.subplots(3,4,figsize=(15,10))\n",
      "\n",
      "for i in range(len(coefficients)):\n",
      "    plt_i = i // 4\n",
      "    plt_j = i % 4\n",
      "    subX_train = X_train[:,i]\n",
      "    subX_test = X_test[:,i]\n",
      "\n",
      "    axes[plt_i][plt_j].scatter(subX_train, y_train, c=\"slategray\", alpha=0.4, linewidths=0.3)\n",
      "    axes[plt_i][plt_j].plot(subX_train, coefficients[i]*subX_train + intercept, color='seagreen', linewidth=3, alpha=.8)\n",
      "    axes[plt_i][plt_j].set_xlabel(col_names[i])\n",
      "    axes[plt_i][plt_j].set_ylabel('AVG_SCORE'); "
     ],
     "language": "python",
     "metadata": {},
     "outputs": [
      {
       "metadata": {},
       "output_type": "display_data",
       "png": "[encoded data removed]",
       "text": [
        "<matplotlib.figure.Figure at 0x10a308890>"
       ]
      }
     ],
     "prompt_number": 16
    },
    {
     "cell_type": "markdown",
     "metadata": {},
     "source": [
      "Analysis of important factors:\n",
      "    \n",
      "The most influential features were the room and cleanliness ratings.    \n",
      "If we apply a threshold of +- 0.1, We can see that higher number of ratings by people who stayed with a partner (COUPLE) could predict higher average.\n",
      "Similarly, service and location ratings were positively correlated.\n",
      "A higher number of people who stayed in the hotel alone (SOLO), as well as a higher number of total reviews, predicted lower average ratings.\n",
      "\n",
      "The regression score of 0.94 (+/- 0.04) indicates the model adequately predicts average score for hotels in Boston."
     ]
    },
    {
     "cell_type": "code",
     "collapsed": false,
     "input": [
      "coefficients_df = pd.DataFrame()\n",
      "coefficients_df['Columns'] = col_names\n",
      "coefficients_df['COEFFICIENTS'] = coefficients\n",
      "\n",
      "major_features = coefficients_df[ (coefficients_df.COEFFICIENTS < -0.1) | (coefficients_df.COEFFICIENTS > 0.1) ]\n",
      "\n",
      "major_features.sort('COEFFICIENTS', ascending=False)"
     ],
     "language": "python",
     "metadata": {},
     "outputs": [
      {
       "html": [
        "<div style=\"max-height:1000px;max-width:1500px;overflow:auto;\">\n",
        "<table border=\"1\" class=\"dataframe\">\n",
        "  <thead>\n",
        "    <tr style=\"text-align: right;\">\n",
        "      <th></th>\n",
        "      <th>Columns</th>\n",
        "      <th>COEFFICIENTS</th>\n",
        "    </tr>\n",
        "  </thead>\n",
        "  <tbody>\n",
        "    <tr>\n",
        "      <th>7 </th>\n",
        "      <td>          ROOM</td>\n",
        "      <td> 0.329539</td>\n",
        "    </tr>\n",
        "    <tr>\n",
        "      <th>10</th>\n",
        "      <td>   CLEANLINESS</td>\n",
        "      <td> 0.211592</td>\n",
        "    </tr>\n",
        "    <tr>\n",
        "      <th>8 </th>\n",
        "      <td>       SERVICE</td>\n",
        "      <td> 0.204466</td>\n",
        "    </tr>\n",
        "    <tr>\n",
        "      <th>2 </th>\n",
        "      <td>        COUPLE</td>\n",
        "      <td> 0.186782</td>\n",
        "    </tr>\n",
        "    <tr>\n",
        "      <th>9 </th>\n",
        "      <td>         VALUE</td>\n",
        "      <td> 0.114579</td>\n",
        "    </tr>\n",
        "    <tr>\n",
        "      <th>5 </th>\n",
        "      <td>      LOCATION</td>\n",
        "      <td> 0.112192</td>\n",
        "    </tr>\n",
        "    <tr>\n",
        "      <th>4 </th>\n",
        "      <td>      BUSINESS</td>\n",
        "      <td> 0.104703</td>\n",
        "    </tr>\n",
        "    <tr>\n",
        "      <th>0 </th>\n",
        "      <td> TOTAL_REVIEWS</td>\n",
        "      <td>-0.342642</td>\n",
        "    </tr>\n",
        "  </tbody>\n",
        "</table>\n",
        "</div>"
       ],
       "metadata": {},
       "output_type": "pyout",
       "prompt_number": 17,
       "text": [
        "          Columns  COEFFICIENTS\n",
        "7            ROOM      0.329539\n",
        "10    CLEANLINESS      0.211592\n",
        "8         SERVICE      0.204466\n",
        "2          COUPLE      0.186782\n",
        "9           VALUE      0.114579\n",
        "5        LOCATION      0.112192\n",
        "4        BUSINESS      0.104703\n",
        "0   TOTAL_REVIEWS     -0.342642"
       ]
      }
     ],
     "prompt_number": 17
    },
    {
     "cell_type": "heading",
     "level": 2,
     "metadata": {},
     "source": [
      "Part 4"
     ]
    },
    {
     "cell_type": "markdown",
     "metadata": {},
     "source": [
      "** Task 4 (30 pts) **\n",
      "\n",
      "Finally, we will use logistic regression to decide if a hotel is _excellent_ or not. We classify a hotel as _excellent_ if more than **60%** of its ratings are 5 stars. This is a binary attribute on which we can fit a logistic regression model. As before, use the model to analyze the data.\n",
      "\n",
      "-------"
     ]
    },
    {
     "cell_type": "code",
     "collapsed": false,
     "input": [
      "#Add Excellence column to df\n",
      "hotels['EXCELLENCE_RATIO'] = hotels.EXCELLENT/ hotels.TOTAL_REVIEWS\n"
     ],
     "language": "python",
     "metadata": {},
     "outputs": [],
     "prompt_number": 18
    },
    {
     "cell_type": "code",
     "collapsed": false,
     "input": [
      "hotels['EXCELLENCE'] = hotels.EXCELLENCE_RATIO.apply(lambda r: 1 if r > .6 else 0)"
     ],
     "language": "python",
     "metadata": {},
     "outputs": [],
     "prompt_number": 19
    },
    {
     "cell_type": "code",
     "collapsed": false,
     "input": [
      "hotels.head()"
     ],
     "language": "python",
     "metadata": {},
     "outputs": [
      {
       "html": [
        "<div style=\"max-height:1000px;max-width:1500px;overflow:auto;\">\n",
        "<table border=\"1\" class=\"dataframe\">\n",
        "  <thead>\n",
        "    <tr style=\"text-align: right;\">\n",
        "      <th></th>\n",
        "      <th>HOTEL_NAME</th>\n",
        "      <th>STARS</th>\n",
        "      <th>TOTAL_REVIEWS</th>\n",
        "      <th>EXCELLENT</th>\n",
        "      <th>VERY_GOOD</th>\n",
        "      <th>AVERAGE</th>\n",
        "      <th>POOR</th>\n",
        "      <th>TERRIBLE</th>\n",
        "      <th>FAMILY</th>\n",
        "      <th>COUPLE</th>\n",
        "      <th>...</th>\n",
        "      <th>BUSINESS</th>\n",
        "      <th>LOCATION</th>\n",
        "      <th>SLEEPQ</th>\n",
        "      <th>ROOM</th>\n",
        "      <th>SERVICE</th>\n",
        "      <th>VALUE</th>\n",
        "      <th>CLEANLINESS</th>\n",
        "      <th>AVG_SCORE</th>\n",
        "      <th>EXCELLENCE_RATIO</th>\n",
        "      <th>EXCELLENCE</th>\n",
        "    </tr>\n",
        "  </thead>\n",
        "  <tbody>\n",
        "    <tr>\n",
        "      <th>0</th>\n",
        "      <td>                       Seaport Boston Hotel</td>\n",
        "      <td> 4.5</td>\n",
        "      <td> 2539</td>\n",
        "      <td> 1872</td>\n",
        "      <td> 505</td>\n",
        "      <td>  98</td>\n",
        "      <td> 33</td>\n",
        "      <td> 31</td>\n",
        "      <td> 461</td>\n",
        "      <td> 550</td>\n",
        "      <td>...</td>\n",
        "      <td> 1103</td>\n",
        "      <td> 4.5</td>\n",
        "      <td> 4.5</td>\n",
        "      <td> 4.5</td>\n",
        "      <td> 4.5</td>\n",
        "      <td> 4.5</td>\n",
        "      <td> 5.0</td>\n",
        "      <td> 4.636077</td>\n",
        "      <td> 0.737298</td>\n",
        "      <td> 1</td>\n",
        "    </tr>\n",
        "    <tr>\n",
        "      <th>1</th>\n",
        "      <td>                        Hyatt Boston Harbor</td>\n",
        "      <td> 4.0</td>\n",
        "      <td> 1167</td>\n",
        "      <td>  479</td>\n",
        "      <td> 424</td>\n",
        "      <td> 164</td>\n",
        "      <td> 67</td>\n",
        "      <td> 33</td>\n",
        "      <td> 239</td>\n",
        "      <td> 335</td>\n",
        "      <td>...</td>\n",
        "      <td>  326</td>\n",
        "      <td> 4.5</td>\n",
        "      <td> 4.0</td>\n",
        "      <td> 4.0</td>\n",
        "      <td> 4.5</td>\n",
        "      <td> 4.0</td>\n",
        "      <td> 4.5</td>\n",
        "      <td> 4.070266</td>\n",
        "      <td> 0.410454</td>\n",
        "      <td> 0</td>\n",
        "    </tr>\n",
        "    <tr>\n",
        "      <th>2</th>\n",
        "      <td> Courtyard by Marriott Boston Copley Square</td>\n",
        "      <td> 4.5</td>\n",
        "      <td>  961</td>\n",
        "      <td>  625</td>\n",
        "      <td> 274</td>\n",
        "      <td>  43</td>\n",
        "      <td>  8</td>\n",
        "      <td> 11</td>\n",
        "      <td> 228</td>\n",
        "      <td> 222</td>\n",
        "      <td>...</td>\n",
        "      <td>  297</td>\n",
        "      <td> 5.0</td>\n",
        "      <td> 4.5</td>\n",
        "      <td> 4.5</td>\n",
        "      <td> 4.5</td>\n",
        "      <td> 4.5</td>\n",
        "      <td> 4.5</td>\n",
        "      <td> 4.554631</td>\n",
        "      <td> 0.650364</td>\n",
        "      <td> 1</td>\n",
        "    </tr>\n",
        "    <tr>\n",
        "      <th>3</th>\n",
        "      <td>          Nine Zero Hotel - a Kimpton Hotel</td>\n",
        "      <td> 4.5</td>\n",
        "      <td> 1824</td>\n",
        "      <td> 1175</td>\n",
        "      <td> 496</td>\n",
        "      <td> 104</td>\n",
        "      <td> 30</td>\n",
        "      <td> 19</td>\n",
        "      <td> 328</td>\n",
        "      <td> 829</td>\n",
        "      <td>...</td>\n",
        "      <td>  322</td>\n",
        "      <td> 5.0</td>\n",
        "      <td> 4.5</td>\n",
        "      <td> 4.5</td>\n",
        "      <td> 4.5</td>\n",
        "      <td> 4.0</td>\n",
        "      <td> 4.5</td>\n",
        "      <td> 4.523026</td>\n",
        "      <td> 0.644189</td>\n",
        "      <td> 1</td>\n",
        "    </tr>\n",
        "    <tr>\n",
        "      <th>4</th>\n",
        "      <td>                    The Westin Copley Place</td>\n",
        "      <td> 4.0</td>\n",
        "      <td> 2303</td>\n",
        "      <td> 1069</td>\n",
        "      <td> 832</td>\n",
        "      <td> 276</td>\n",
        "      <td> 92</td>\n",
        "      <td> 34</td>\n",
        "      <td> 545</td>\n",
        "      <td> 494</td>\n",
        "      <td>...</td>\n",
        "      <td>  773</td>\n",
        "      <td> 5.0</td>\n",
        "      <td> 4.5</td>\n",
        "      <td> 4.5</td>\n",
        "      <td> 4.5</td>\n",
        "      <td> 4.0</td>\n",
        "      <td> 4.5</td>\n",
        "      <td> 4.220148</td>\n",
        "      <td> 0.464177</td>\n",
        "      <td> 0</td>\n",
        "    </tr>\n",
        "  </tbody>\n",
        "</table>\n",
        "<p>5 rows \u00d7 21 columns</p>\n",
        "</div>"
       ],
       "metadata": {},
       "output_type": "pyout",
       "prompt_number": 20,
       "text": [
        "                                   HOTEL_NAME  STARS  TOTAL_REVIEWS  \\\n",
        "0                        Seaport Boston Hotel    4.5           2539   \n",
        "1                         Hyatt Boston Harbor    4.0           1167   \n",
        "2  Courtyard by Marriott Boston Copley Square    4.5            961   \n",
        "3           Nine Zero Hotel - a Kimpton Hotel    4.5           1824   \n",
        "4                     The Westin Copley Place    4.0           2303   \n",
        "\n",
        "   EXCELLENT  VERY_GOOD  AVERAGE  POOR  TERRIBLE  FAMILY  COUPLE     ...      \\\n",
        "0       1872        505       98    33        31     461     550     ...       \n",
        "1        479        424      164    67        33     239     335     ...       \n",
        "2        625        274       43     8        11     228     222     ...       \n",
        "3       1175        496      104    30        19     328     829     ...       \n",
        "4       1069        832      276    92        34     545     494     ...       \n",
        "\n",
        "   BUSINESS  LOCATION  SLEEPQ  ROOM  SERVICE  VALUE  CLEANLINESS  AVG_SCORE  \\\n",
        "0      1103       4.5     4.5   4.5      4.5    4.5          5.0   4.636077   \n",
        "1       326       4.5     4.0   4.0      4.5    4.0          4.5   4.070266   \n",
        "2       297       5.0     4.5   4.5      4.5    4.5          4.5   4.554631   \n",
        "3       322       5.0     4.5   4.5      4.5    4.0          4.5   4.523026   \n",
        "4       773       5.0     4.5   4.5      4.5    4.0          4.5   4.220148   \n",
        "\n",
        "   EXCELLENCE_RATIO  EXCELLENCE  \n",
        "0          0.737298           1  \n",
        "1          0.410454           0  \n",
        "2          0.650364           1  \n",
        "3          0.644189           1  \n",
        "4          0.464177           0  \n",
        "\n",
        "[5 rows x 21 columns]"
       ]
      }
     ],
     "prompt_number": 20
    },
    {
     "cell_type": "code",
     "collapsed": false,
     "input": [
      "#Selecting independent variables to use in the logistic regression\n",
      "col_names = ['ROOM', 'CLEANLINESS', 'SERVICE', 'COUPLE', 'VALUE', 'LOCATION', 'BUSINESS', 'TOTAL_REVIEWS']\n"
     ],
     "language": "python",
     "metadata": {},
     "outputs": []
    },
    {
     "cell_type": "markdown",
     "metadata": {},
     "source": [
      "A look at our data:"
     ]
    },
    {
     "cell_type": "code",
     "collapsed": false,
     "input": [
      "fig, axes = plt.subplots(2,4,figsize=(15,10))\n",
      "\n",
      "for i in range(len(col_names)):\n",
      "    plt_i = i // 4\n",
      "    plt_j = i % 4\n",
      "    subX_train = X_train[:,i]\n",
      "    subX_test = X_test[:,i]\n",
      "\n",
      "    axes[plt_i][plt_j].scatter(subX_train, y_train, c=\"slategray\", alpha=0.4, linewidths=0.3)\n",
      "    axes[plt_i][plt_j].set_xlabel(col_names[i])\n",
      "    axes[plt_i][plt_j].set_ylabel('EXCELLENCE'); "
     ],
     "language": "python",
     "metadata": {},
     "outputs": [
      {
       "metadata": {},
       "output_type": "display_data",
       "png": "[encoded data removed]",
       "text": [
        "<matplotlib.figure.Figure at 0x10c70f690>"
       ]
      }
     ],
     "prompt_number": 67
    },
    {
     "cell_type": "markdown",
     "metadata": {},
     "source": [
      "Begin Logistic Regression:"
     ]
    },
    {
     "cell_type": "code",
     "collapsed": false,
     "input": [
      "\n",
      "#Create scaler\n",
      "scaler= StandardScaler()\n",
      "\n",
      "#Center and normalize data\n",
      "select_cols = scaler.fit_transform(hotels[col_names].values)\n",
      "\n",
      "#Shuffle data\n",
      "X, y = utils.shuffle(select_cols, hotels.EXCELLENCE.values, random_state=1)\n",
      "\n",
      "#split into training and testing\n",
      "\n",
      "X_train, X_test, y_train, y_test = cross_validation.train_test_split(X, y, test_size=0.3, random_state=0)\n",
      "print(X_train.shape), y_train.shape\n",
      "print(X_test.shape), y_test.shape\n"
     ],
     "language": "python",
     "metadata": {},
     "outputs": [
      {
       "output_type": "stream",
       "stream": "stdout",
       "text": [
        "(53, 8) (53,)\n",
        "(24, 8) (24,)\n"
       ]
      }
     ],
     "prompt_number": 46
    },
    {
     "cell_type": "code",
     "collapsed": false,
     "input": [
      "#Logistic Regression - train the model\n",
      "\n",
      "logistic_regr = linear_model.LogisticRegression()\n",
      "logistic_regr.fit(X_train, y_train)"
     ],
     "language": "python",
     "metadata": {},
     "outputs": [
      {
       "metadata": {},
       "output_type": "pyout",
       "prompt_number": 47,
       "text": [
        "LogisticRegression(C=1.0, class_weight=None, dual=False, fit_intercept=True,\n",
        "          intercept_scaling=1, penalty='l2', random_state=None, tol=0.0001)"
       ]
      }
     ],
     "prompt_number": 47
    },
    {
     "cell_type": "code",
     "collapsed": false,
     "input": [
      "# predict class labels for the test set\n",
      "y_predicted = logistic_regr.predict(X_test)"
     ],
     "language": "python",
     "metadata": {},
     "outputs": [],
     "prompt_number": 54
    },
    {
     "cell_type": "code",
     "collapsed": false,
     "input": [
      "#prediction probabilities\n",
      "probs = logistic_regr.predict_proba(X_test)\n",
      "print probs"
     ],
     "language": "python",
     "metadata": {},
     "outputs": [
      {
       "output_type": "stream",
       "stream": "stdout",
       "text": [
        "[[  9.41141986e-01   5.88580143e-02]\n",
        " [  9.99551890e-01   4.48110035e-04]\n",
        " [  8.76729120e-01   1.23270880e-01]\n",
        " [  1.20281013e-01   8.79718987e-01]\n",
        " [  2.57026762e-01   7.42973238e-01]\n",
        " [  9.63707126e-01   3.62928743e-02]\n",
        " [  6.14229322e-02   9.38577068e-01]\n",
        " [  6.70497589e-01   3.29502411e-01]\n",
        " [  9.99630669e-01   3.69331096e-04]\n",
        " [  8.16669299e-01   1.83330701e-01]\n",
        " [  8.94783776e-01   1.05216224e-01]\n",
        " [  7.51432308e-01   2.48567692e-01]\n",
        " [  9.99487208e-01   5.12792005e-04]\n",
        " [  9.99146593e-01   8.53406915e-04]\n",
        " [  9.62708078e-01   3.72919219e-02]\n",
        " [  9.73462092e-01   2.65379081e-02]\n",
        " [  9.85701125e-01   1.42988751e-02]\n",
        " [  2.46826711e-01   7.53173289e-01]\n",
        " [  9.74806154e-01   2.51938457e-02]\n",
        " [  8.43457581e-01   1.56542419e-01]\n",
        " [  9.91738526e-01   8.26147444e-03]\n",
        " [  6.27258693e-01   3.72741307e-01]\n",
        " [  8.96008065e-01   1.03991935e-01]\n",
        " [  7.41924474e-01   2.58075526e-01]]\n"
       ]
      }
     ],
     "prompt_number": 49
    },
    {
     "cell_type": "code",
     "collapsed": false,
     "input": [
      "print 'Predicted y values: '\n",
      "print y_predicted\n",
      "\n",
      "print 'Actual y values: '\n",
      "print y_test"
     ],
     "language": "python",
     "metadata": {},
     "outputs": [
      {
       "output_type": "stream",
       "stream": "stdout",
       "text": [
        "Predicted y values: \n",
        "[0 0 0 1 1 0 1 0 0 0 0 0 0 0 0 0 0 1 0 0 0 0 0 0]\n",
        "Actual y values: \n",
        "[0 0 0 1 1 0 1 1 0 0 0 0 0 0 0 0 0 1 0 0 0 0 0 0]\n"
       ]
      }
     ],
     "prompt_number": 55
    },
    {
     "cell_type": "code",
     "collapsed": false,
     "input": [
      "# generate evaluation metrics\n",
      "print metrics.accuracy_score(y_test, y_predicted)"
     ],
     "language": "python",
     "metadata": {},
     "outputs": [
      {
       "output_type": "stream",
       "stream": "stdout",
       "text": [
        "0.958333333333\n"
       ]
      }
     ],
     "prompt_number": 50
    },
    {
     "cell_type": "code",
     "collapsed": false,
     "input": [
      "print metrics.confusion_matrix(y_test, y_predicted)\n",
      "print metrics.classification_report(y_test, y_predicted)"
     ],
     "language": "python",
     "metadata": {},
     "outputs": [
      {
       "output_type": "stream",
       "stream": "stdout",
       "text": [
        "[[19  0]\n",
        " [ 1  4]]\n",
        "             precision    recall  f1-score   support\n",
        "\n",
        "          0       0.95      1.00      0.97        19\n",
        "          1       1.00      0.80      0.89         5\n",
        "\n",
        "avg / total       0.96      0.96      0.96        24\n",
        "\n"
       ]
      }
     ],
     "prompt_number": 52
    },
    {
     "cell_type": "code",
     "collapsed": false,
     "input": [
      "# examine the coefficients\n",
      "print pd.DataFrame(zip(col_names, np.transpose(logistic_regr.coef_)))"
     ],
     "language": "python",
     "metadata": {},
     "outputs": [
      {
       "output_type": "stream",
       "stream": "stdout",
       "text": [
        "               0                   1\n",
        "0           ROOM    [0.941194178969]\n",
        "1    CLEANLINESS    [0.760006913008]\n",
        "2        SERVICE    [0.436589563788]\n",
        "3         COUPLE   [-0.196881000437]\n",
        "4          VALUE    [0.974552324409]\n",
        "5       LOCATION    [0.239904671762]\n",
        "6       BUSINESS   [-0.094679781781]\n",
        "7  TOTAL_REVIEWS  [-0.0585262655053]\n"
       ]
      }
     ],
     "prompt_number": 53
    },
    {
     "cell_type": "code",
     "collapsed": false,
     "input": [
      "# evaluate the model using 10-fold cross-validation\n",
      "scores = cross_validation.cross_val_score(linear_model.LogisticRegression(),\n",
      "                                          X,\n",
      "                                          y,\n",
      "                                          scoring='accuracy',\n",
      "                                          cv=10)\n",
      "print scores\n",
      "print scores.mean()"
     ],
     "language": "python",
     "metadata": {},
     "outputs": [
      {
       "output_type": "stream",
       "stream": "stdout",
       "text": [
        "[ 0.875       0.875       0.875       0.875       1.          0.875       0.875\n",
        "  0.85714286  1.          1.        ]\n",
        "0.910714285714\n"
       ]
      }
     ],
     "prompt_number": 61
    },
    {
     "cell_type": "heading",
     "level": 3,
     "metadata": {},
     "source": [
      "Analysis: "
     ]
    },
    {
     "cell_type": "markdown",
     "metadata": {},
     "source": [
      "*Results:* Through visual inspection of predicted y labels vs actual y labels alone, it is possible to see that the model is very accurate in predicting hotel excellence in our test subset. The test subset was a shuffled and randomly chosen component  There was only one false negative in the predicted y values and no false positives. "
     ]
    },
    {
     "cell_type": "markdown",
     "metadata": {},
     "source": [
      "Evaluating the accuracy of our test subset, which was selected to be 30% of the data, reveals that the model is 95% accurate."
     ]
    },
    {
     "cell_type": "markdown",
     "metadata": {},
     "source": [
      "10-fold cross-validation was also implemented, which revelead it to be approximately 91% accurate. The k = 10 was selected by convention, since 10-fold cross-validation is commonly used. "
     ]
    },
    {
     "cell_type": "markdown",
     "metadata": {},
     "source": [
      "The most influential coefficients belonged to VALUE, ROOM, and CLEANLINESS."
     ]
    },
    {
     "cell_type": "markdown",
     "metadata": {},
     "source": [
      "*Conclusion:* Based on our tests, our model adequately predicts hotel excellence in Boston."
     ]
    },
    {
     "cell_type": "markdown",
     "metadata": {},
     "source": [
      "*Future work:* It would be interesting to see if our model is accurate for hotels outside of Boston. If it is not, it might suggest that guests to the Boston location value different particular features (room, value, etc) in comparison to guests to hotels in other locations. "
     ]
    },
    {
     "cell_type": "markdown",
     "metadata": {},
     "source": [
      "----"
     ]
    },
    {
     "cell_type": "code",
     "collapsed": false,
     "input": [
      "# Code for setting the style of the notebook\n",
      "from IPython.core.display import HTML\n",
      "def css_styling():\n",
      "    styles = open(\"../../theme/custom.css\", \"r\").read()\n",
      "    return HTML(styles)\n",
      "css_styling()"
     ],
     "language": "python",
     "metadata": {},
     "outputs": [
      {
       "html": [
        "<link href='http://fonts.googleapis.com/css?family=EB+Garamond' rel='stylesheet' type='text/css'>\n",
        "<link href='http://fonts.googleapis.com/css?family=Alegreya+Sans:100,300,400,500,700,800,900,100italic,300italic,400italic,500italic,700italic,800italic,900italic' rel='stylesheet' type='text/css'>\n",
        "<link href='http://fonts.googleapis.com/css?family=Source+Code+Pro:300,400' rel='stylesheet' type='text/css'>\n",
        "<style>\n",
        "    @font-face {\n",
        "        font-family: \"Computer Modern\";\n",
        "        src: url('http://mirrors.ctan.org/fonts/cm-unicode/fonts/otf/cmunss.otf');\n",
        "    }\n",
        "    .code_cell {\n",
        "        width: 105ex !important ;\n",
        "        margin-bottom: 15px !important;\n",
        "    }\n",
        "    div.cell {\n",
        "        margin-left: auto;\n",
        "        margin-right: auto;\n",
        "        width: 70%;\n",
        "    }    \n",
        "    div.cell.selected {\n",
        "        border: thin rgba(171, 171, 171, 0.5) dashed;\n",
        "    }\n",
        "    h1 {\n",
        "        font-family: 'Alegreya Sans', sans-serif;\n",
        "    }\n",
        "    h2 {\n",
        "        font-family: 'EB Garamond', serif;\n",
        "    }\n",
        "    h3 {\n",
        "        font-family: 'EB Garamond', serif;\n",
        "        margin-top:12px;\n",
        "        margin-bottom: 3px;\n",
        "    }\n",
        "    h4 {\n",
        "        font-family: 'EB Garamond', serif;\n",
        "    }\n",
        "    h5 {\n",
        "        font-family: 'Alegreya Sans', sans-serif;\n",
        "    }\n",
        "    div.text_cell_render {\n",
        "        font-family: 'EB Garamond',Computer Modern, \"Helvetica Neue\", Arial, Helvetica, Geneva, sans-serif;\n",
        "        line-height: 145%;\n",
        "        font-size: 140%;\n",
        "    }\n",
        "    div.input_area {\n",
        "        border-color: rgba(0,0,0,0.10) !important;\n",
        "        background: #fafafa;\n",
        "    }\n",
        "    .CodeMirror {\n",
        "            font-family: \"Source Code Pro\";\n",
        "            font-size: 90%;\n",
        "    }\n",
        "    .prompt {\n",
        "        display: None;\n",
        "    }\n",
        "    .output {\n",
        "        padding-left: 50px;\n",
        "        padding-top: 5px;\n",
        "    }\n",
        "    .output_wrapper {\n",
        "        padding-left: 5px;\n",
        "        padding-top: inherit;\n",
        "    }\n",
        "    div.output_scroll {\n",
        "        width: inherit;\n",
        "    }\n",
        "    .inner_cell {\n",
        "        padding-left: 5px;\n",
        "    }\n",
        "    .text_cell_render h1 {\n",
        "        font-weight: 200;\n",
        "        font-size: 50pt;\n",
        "        line-height: 100%;\n",
        "        color:#CD2305;\n",
        "        margin-bottom: 0.5em;\n",
        "        margin-top: 0.5em;\n",
        "        display: block;\n",
        "    }\n",
        "    .text_cell_render h5 {\n",
        "        font-weight: 300;\n",
        "        font-size: 16pt;\n",
        "        color: #CD2305;\n",
        "        font-style: italic;\n",
        "        margin-bottom: .5em;\n",
        "        margin-top: 0.5em;\n",
        "        display: block;\n",
        "    }\n",
        "    .warning {\n",
        "        color: rgb( 240, 20, 20 )\n",
        "        }  \n",
        "</style>\n",
        "<script>\n",
        "    MathJax.Hub.Config({\n",
        "                        TeX: {\n",
        "                           extensions: [\"AMSmath.js\"]\n",
        "                           },\n",
        "                tex2jax: {\n",
        "                    inlineMath: [ ['$','$'], [\"\\\\(\",\"\\\\)\"] ],\n",
        "                    displayMath: [ ['$$','$$'], [\"\\\\[\",\"\\\\]\"] ]\n",
        "                },\n",
        "                displayAlign: 'center', // Change this to 'center' to center equations.\n",
        "                \"HTML-CSS\": {\n",
        "                    styles: {'.MathJax_Display': {\"margin\": 4}}\n",
        "                }\n",
        "        });\n",
        "</script>"
       ],
       "metadata": {},
       "output_type": "pyout",
       "prompt_number": 1,
       "text": [
        "<IPython.core.display.HTML at 0x1044c6a50>"
       ]
      }
     ],
     "prompt_number": 1
    }
   ],
   "metadata": {}
  }
 ]
}