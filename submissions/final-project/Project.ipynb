{
 "metadata": {
  "name": "",
  "signature": "sha256:437b9cf4e7dfd98dceb355f532c8fd0978911a1b06507458b1e3d3805a84ce5a"
 },
 "nbformat": 3,
 "nbformat_minor": 0,
 "worksheets": [
  {
   "cells": [
    {
     "cell_type": "markdown",
     "metadata": {},
     "source": [
      "Import modules"
     ]
    },
    {
     "cell_type": "code",
     "collapsed": false,
     "input": [
      "import numpy as np\n",
      "import nibabel as nib\n",
      "from nilearn.input_data import NiftiMasker\n",
      "from matplotlib import pyplot as plt\n",
      "%matplotlib inline\n",
      "\n",
      "from sklearn.svm import SVC\n",
      "from sklearn.cross_validation import KFold\n",
      "from sklearn.cross_validation import cross_val_score\n",
      "from sklearn.feature_selection import SelectKBest, f_classif\n",
      "from sklearn.pipeline import Pipeline\n",
      "from sklearn.preprocessing import Imputer\n",
      "from sklearn.preprocessing import StandardScaler\n",
      "from sklearn.dummy import DummyClassifier\n",
      "from sklearn.cross_validation import StratifiedKFold\n"
     ],
     "language": "python",
     "metadata": {},
     "outputs": [],
     "prompt_number": 1
    },
    {
     "cell_type": "heading",
     "level": 1,
     "metadata": {},
     "source": [
      "Extract Data"
     ]
    },
    {
     "cell_type": "heading",
     "level": 3,
     "metadata": {},
     "source": [
      "Download data from Google Drive:"
     ]
    },
    {
     "cell_type": "markdown",
     "metadata": {},
     "source": [
      "https://drive.google.com/file/d/0B7q3-L7ZdOPLQS1CT1ZLYS1LNm8/view?usp=sharing"
     ]
    },
    {
     "cell_type": "markdown",
     "metadata": {},
     "source": [
      "Create masker object"
     ]
    },
    {
     "cell_type": "code",
     "collapsed": false,
     "input": [
      "nifti_masker = NiftiMasker(standardize=True)\n"
     ],
     "language": "python",
     "metadata": {},
     "outputs": [],
     "prompt_number": 2
    },
    {
     "cell_type": "markdown",
     "metadata": {},
     "source": [
      "Subject names and folders"
     ]
    },
    {
     "cell_type": "code",
     "collapsed": false,
     "input": [
      "#Make list of subject names\n",
      "subj_names = ['140930NP', '140930TC', '141001WW', '141017TL', '141020EL', '141020TV', '141031DD', '141124CCa']\n",
      "\n",
      "#Make list of folder names\n",
      "folders = ['01', '02', '03', '04', '05', '06', '07', '08']\n",
      "\n",
      "#Two file names: lh and rh\n",
      "files = ['f.stc3.mcpr.sm3.fsaverage.lh.nii.gz', 'f.stc3.mcpr.sm3.fsaverage.rh.nii.gz']"
     ],
     "language": "python",
     "metadata": {},
     "outputs": [],
     "prompt_number": 3
    },
    {
     "cell_type": "markdown",
     "metadata": {},
     "source": [
      "Total rows and columns of array"
     ]
    },
    {
     "cell_type": "code",
     "collapsed": false,
     "input": [
      "total_rows_a = 512\n",
      "total_rows_b = 504\n",
      "total_cols = 163847"
     ],
     "language": "python",
     "metadata": {},
     "outputs": [],
     "prompt_number": 18
    },
    {
     "cell_type": "code",
     "collapsed": false,
     "input": [
      "print total_rows_a\n",
      "print total_rows_b\n",
      "print total_cols"
     ],
     "language": "python",
     "metadata": {},
     "outputs": [
      {
       "output_type": "stream",
       "stream": "stdout",
       "text": [
        "512\n",
        "504\n",
        "163847\n"
       ]
      }
     ],
     "prompt_number": 19
    },
    {
     "cell_type": "markdown",
     "metadata": {},
     "source": [
      "Create master array; DON'T RUN IF NEEDED"
     ]
    },
    {
     "cell_type": "raw",
     "metadata": {},
     "source": [
      "#iterate through these lists to get activation matrix in 2D\n",
      "#get its paradigm file\n",
      "\n",
      "global a\n",
      "global b\n",
      "\n",
      "a = np.zeros((total_rows_a, total_cols))\n",
      "b = np.zeros((total_rows_b, total_cols))\n",
      "\n",
      "\n",
      "global largest\n",
      "largest = 0\n",
      "\n",
      "a_row = 0\n",
      "b_row = 0\n",
      "\n",
      "for i in range (0, len(subj_names)):\n",
      "    for j in range (0, len(folders)):\n",
      "        for k in range (0, len(files)):\n",
      "            \n",
      "            run_filename = '%s/%s/%s' % (subj_names[i], folders[j], files[k])\n",
      "            par_filename = '%s/%s/FLoc_nishi.par' % (subj_names[i], folders[j])\n",
      "\n",
      "            paradigm = np.loadtxt(par_filename, delimiter='\\t', usecols=(0,1,2, 3))            \n",
      "\n",
      "            #a updated to\n",
      "            #previous a value plus a value returned from function\n",
      "            \n",
      "            if ((i == 7 and j==0 and k==1) == False ):\n",
      "                fmri_masked = nifti_masker.fit_transform(run_filename)\n",
      "                \n",
      "                if (k == 0):\n",
      "                    strip_run(i, k, fmri_masked, paradigm, a_row)\n",
      "                    a_row = a_row + 8 \n",
      "                else:\n",
      "                    strip_run(i, k, fmri_masked, paradigm, b_row)\n",
      "                    b_row = b_row + 8\n",
      "                    \n",
      "                print 'Completed %s' % run_filename\n",
      "\n",
      "#print a.shape\n",
      "# vstack array with what the function returns or just pass in a and keep adding to it??\n",
      "#strip_run(subj, hemi, paradigm, a)\n"
     ]
    },
    {
     "cell_type": "markdown",
     "metadata": {},
     "source": [
      "Strip run files of useful information, store in master matrix"
     ]
    },
    {
     "cell_type": "code",
     "collapsed": false,
     "input": [
      "def strip_run(subj, hemi, run_file, paradigm, row):\n",
      "    \n",
      "    global a\n",
      "    global b\n",
      "    global largest\n",
      "        \n",
      "    #Loop through paradigm\n",
      "    for i in range (0, paradigm.shape[0]):\n",
      "\n",
      "        identifiers_list = []\n",
      "        bold_average = []\n",
      "        timepoint = paradigm[i, 0]\n",
      "        duration = paradigm[i, 3]\n",
      "        stim_label = paradigm[i, 1]\n",
      "        task_label = paradigm[i, 2]\n",
      "        count = 0\n",
      "        \n",
      "        #Create new array per condition\n",
      "        bold_array = np.empty((20, run_file[0,:].shape[0]))\n",
      "        \n",
      "        \n",
      "        for j in range (int(timepoint), int(timepoint + duration), 2):       \n",
      "                \n",
      "            #If not instructions or fixation\n",
      "            if (int(stim_label) != 0):\n",
      "                if (int(stim_label) == 1 or int(stim_label) == 2):\n",
      "                    mod_label = 1\n",
      "                if (int(stim_label) == 3 or int(stim_label) == 4):\n",
      "                    mod_label = 2\n",
      "                \n",
      "                #Add to array\n",
      "                bold_array[count] = run_file[j/2, :]\n",
      "                count = count+1\n",
      "                \n",
      "                #If final line and done adding to matrix\n",
      "                if j == int(timepoint + duration) - 2: \n",
      "                    \n",
      "                    #Define labels\n",
      "                    identifiers_list.extend((subj, hemi, mod_label, stim_label, task_label))\n",
      "                    \n",
      "                    #Average voxel values (column-wise), add to list\n",
      "                    bold_average.extend(np.mean(bold_array, axis=0))  \n",
      "                    \n",
      "                    #Unite bold values with labels. Convert lists to array\n",
      "                    bold_labels = np.array(identifiers_list + bold_average)\n",
      "                    \n",
      "                    #Check for largest\n",
      "                    if bold_labels.shape[0] > largest:\n",
      "                        largest = bold_labels.shape[0]\n",
      "                        print largest\n",
      "                    \n",
      "                    #If there is a difference between current array and previous largest value, fill with 0s                    \n",
      "                    difference = total_cols - bold_labels.shape[0]\n",
      "                    if (difference != 0):\n",
      "                        filler = np.zeros(difference)\n",
      "                        bold_labels = np.hstack((bold_labels, filler))\n",
      "                    \n",
      "                    #Add to master matrix\n",
      "                    #print 'Printing a_row again before inserting in a %d' %a_row\n",
      "                    if (hemi == 0):\n",
      "                        a[row] = bold_labels\n",
      "                    else:\n",
      "                        b[row] = bold_labels\n",
      "                    \n",
      "                    row = row + 1\n",
      "                         "
     ],
     "language": "python",
     "metadata": {},
     "outputs": [],
     "prompt_number": 12
    },
    {
     "cell_type": "markdown",
     "metadata": {},
     "source": [
      "Save to text file; ONLY RUN IF NEEDED"
     ]
    },
    {
     "cell_type": "raw",
     "metadata": {},
     "source": [
      "out_file_lh = 'all_subj_lh' \n",
      "out_file_rh = 'all_subj_rh'\n",
      "np.savetxt(out_file_lh, a)\n",
      "np.savetxt(out_file_rh, b)"
     ]
    },
    {
     "cell_type": "markdown",
     "metadata": {},
     "source": [
      "Load master matrixes a and b (Located in zip file -- Dropbox)"
     ]
    },
    {
     "cell_type": "code",
     "collapsed": false,
     "input": [
      "#Load a\n",
      "\n",
      "a = np.loadtxt('all_subj_lh')\n",
      "b = np.loadtxt('all_subj_rh')"
     ],
     "language": "python",
     "metadata": {},
     "outputs": [],
     "prompt_number": 4
    },
    {
     "cell_type": "markdown",
     "metadata": {},
     "source": [
      "A values"
     ]
    },
    {
     "cell_type": "code",
     "collapsed": false,
     "input": [
      "unique, counts = np.unique(a[:, 5:], return_counts=True)\n",
      "\n",
      "print np.asarray((unique, counts)).T"
     ],
     "language": "python",
     "metadata": {},
     "outputs": [
      {
       "output_type": "stream",
       "stream": "stdout",
       "text": [
        "[[-2.45120226  1.        ]\n",
        " [-2.43684431  1.        ]\n",
        " [-2.41950991  1.        ]\n",
        " ..., \n",
        " [ 2.31230522  1.        ]\n",
        " [ 2.31419951  1.        ]\n",
        " [ 2.31644517  1.        ]]\n"
       ]
      }
     ],
     "prompt_number": 5
    },
    {
     "cell_type": "code",
     "collapsed": false,
     "input": [
      "sort =  counts.argsort()[-25:][::-1]\n"
     ],
     "language": "python",
     "metadata": {},
     "outputs": [],
     "prompt_number": 6
    },
    {
     "cell_type": "code",
     "collapsed": false,
     "input": [
      "print 'Most frequent %d values' % len(sort)\n",
      "for i in range (0, len(sort)):\n",
      "    print '%f - %d' % ( unique[sort[i]], counts[sort[i]])"
     ],
     "language": "python",
     "metadata": {},
     "outputs": [
      {
       "output_type": "stream",
       "stream": "stdout",
       "text": [
        "Most frequent 25 values\n",
        "0.000000 - 7224328\n",
        "0.517146 - 7\n",
        "0.625495 - 7\n",
        "-0.501735 - 7\n",
        "-0.794565 - 7\n",
        "-0.566335 - 7\n",
        "0.835772 - 7\n",
        "-0.772323 - 7\n",
        "-0.171802 - 7\n",
        "0.049627 - 7\n",
        "-0.091747 - 6\n",
        "-0.124906 - 6\n",
        "0.291946 - 6\n",
        "0.695654 - 6\n",
        "0.125633 - 6\n",
        "-0.196270 - 6\n",
        "0.082871 - 6\n",
        "-0.829902 - 6\n",
        "-1.213169 - 6\n",
        "-0.175682 - 6\n",
        "0.760954 - 6\n",
        "-0.554472 - 6\n",
        "0.422973 - 6\n",
        "0.192753 - 6\n",
        "-0.565309 - 6\n"
       ]
      }
     ],
     "prompt_number": 7
    },
    {
     "cell_type": "code",
     "collapsed": false,
     "input": [
      "plt.xlabel('voxel values [BOLD]')\n",
      "plt.ylabel('counts [n voxels]')\n",
      "plt.plot(unique, counts)"
     ],
     "language": "python",
     "metadata": {},
     "outputs": [
      {
       "metadata": {},
       "output_type": "pyout",
       "prompt_number": 8,
       "text": [
        "[<matplotlib.lines.Line2D at 0x10a265150>]"
       ]
      },
      {
       "metadata": {},
       "output_type": "display_data",
       "png": "[encoded data removed]",
       "text": [
        "<matplotlib.figure.Figure at 0x10a265190>"
       ]
      }
     ],
     "prompt_number": 8
    },
    {
     "cell_type": "heading",
     "level": 1,
     "metadata": {},
     "source": [
      "Analysis"
     ]
    },
    {
     "cell_type": "heading",
     "level": 2,
     "metadata": {},
     "source": [
      "Analysis 1 - Modality"
     ]
    },
    {
     "cell_type": "markdown",
     "metadata": {},
     "source": [
      "A run file was skipped for one subject; 1016 rows. \n",
      "\n",
      "When defining X, remember to start from column 5, columns 0-4 are labels."
     ]
    },
    {
     "cell_type": "code",
     "collapsed": false,
     "input": [
      "X = a[:, 5: ]"
     ],
     "language": "python",
     "metadata": {},
     "outputs": [],
     "prompt_number": 5
    },
    {
     "cell_type": "code",
     "collapsed": false,
     "input": [
      "X.shape"
     ],
     "language": "python",
     "metadata": {},
     "outputs": [
      {
       "metadata": {},
       "output_type": "pyout",
       "prompt_number": 6,
       "text": [
        "(512, 163842)"
       ]
      }
     ],
     "prompt_number": 6
    },
    {
     "cell_type": "markdown",
     "metadata": {},
     "source": [
      "Labels for modality : auditory or visual."
     ]
    },
    {
     "cell_type": "code",
     "collapsed": false,
     "input": [
      "y_mod = a[:, 2]"
     ],
     "language": "python",
     "metadata": {},
     "outputs": [],
     "prompt_number": 7
    },
    {
     "cell_type": "markdown",
     "metadata": {},
     "source": [
      "Scale"
     ]
    },
    {
     "cell_type": "code",
     "collapsed": false,
     "input": [
      "#Create scaler\n",
      "scaler= StandardScaler()\n",
      "\n",
      "X_scale = scaler.fit_transform(X)"
     ],
     "language": "python",
     "metadata": {},
     "outputs": [],
     "prompt_number": 8
    },
    {
     "cell_type": "markdown",
     "metadata": {},
     "source": [
      "Create analysis objects"
     ]
    },
    {
     "cell_type": "code",
     "collapsed": false,
     "input": [
      "svc = SVC(kernel='linear')\n",
      "\n",
      "print 'svc object created'"
     ],
     "language": "python",
     "metadata": {},
     "outputs": [
      {
       "output_type": "stream",
       "stream": "stdout",
       "text": [
        "svc object created\n"
       ]
      }
     ],
     "prompt_number": 9
    },
    {
     "cell_type": "code",
     "collapsed": false,
     "input": [
      "# Select 500 features using ANOVA\n",
      "feature_selection = SelectKBest(f_classif, k=800)\n",
      "\n",
      "# pipeline performs the two operations successively:\n",
      "anova_svc = Pipeline([('anova', feature_selection), ('svc', svc)])\n",
      "\n",
      "print 'anova_svc object created'"
     ],
     "language": "python",
     "metadata": {},
     "outputs": [
      {
       "output_type": "stream",
       "stream": "stdout",
       "text": [
        "anova_svc object created\n"
       ]
      }
     ],
     "prompt_number": 10
    },
    {
     "cell_type": "code",
     "collapsed": false,
     "input": [
      "cv = KFold(n=len(X), n_folds=10)\n",
      "cv_scores = []\n",
      "\n",
      "print 'cv object created'"
     ],
     "language": "python",
     "metadata": {},
     "outputs": [
      {
       "output_type": "stream",
       "stream": "stdout",
       "text": [
        "cv object created\n"
       ]
      }
     ],
     "prompt_number": 11
    },
    {
     "cell_type": "markdown",
     "metadata": {},
     "source": [
      "Lists to store results"
     ]
    },
    {
     "cell_type": "code",
     "collapsed": false,
     "input": [
      "hemiMeans = []\n",
      "hemiStd = []\n",
      "dummyMeans = []\n",
      "dummyStd = []"
     ],
     "language": "python",
     "metadata": {},
     "outputs": [],
     "prompt_number": 12
    },
    {
     "cell_type": "markdown",
     "metadata": {},
     "source": [
      "Perform cross-validation of SVC "
     ]
    },
    {
     "cell_type": "code",
     "collapsed": false,
     "input": [
      "cv_scores = cross_val_score(anova_svc, X_scale, y_mod, cv=cv)"
     ],
     "language": "python",
     "metadata": {},
     "outputs": [],
     "prompt_number": 14
    },
    {
     "cell_type": "code",
     "collapsed": false,
     "input": [
      "print cv_scores\n",
      "print cv_scores.mean()\n",
      "print cv_scores.std()\n",
      "\n",
      "hemiMeans.append(cv_scores.mean())\n",
      "hemiStd.append(cv_scores.std())"
     ],
     "language": "python",
     "metadata": {},
     "outputs": [
      {
       "output_type": "stream",
       "stream": "stdout",
       "text": [
        "[ 0.38461538  0.96153846  0.90196078  0.94117647  1.          0.94117647\n",
        "  0.96078431  0.88235294  0.92156863  0.92156863]\n",
        "0.881674208145\n",
        "0.168636101873\n"
       ]
      }
     ],
     "prompt_number": 15
    },
    {
     "cell_type": "markdown",
     "metadata": {},
     "source": [
      "Dummy Classifier"
     ]
    },
    {
     "cell_type": "code",
     "collapsed": false,
     "input": [
      "null_cv_scores = cross_val_score(DummyClassifier(), X_scale, y_mod, cv=cv)"
     ],
     "language": "python",
     "metadata": {},
     "outputs": [],
     "prompt_number": 16
    },
    {
     "cell_type": "code",
     "collapsed": false,
     "input": [
      "print null_cv_scores\n",
      "print null_cv_scores.mean()\n",
      "print null_cv_scores.std()\n",
      "\n",
      "dummyMeans.append(null_cv_scores.mean())\n",
      "dummyStd.append(null_cv_scores.std())"
     ],
     "language": "python",
     "metadata": {},
     "outputs": [
      {
       "output_type": "stream",
       "stream": "stdout",
       "text": [
        "[ 0.42307692  0.53846154  0.41176471  0.39215686  0.60784314  0.47058824\n",
        "  0.31372549  0.47058824  0.54901961  0.45098039]\n",
        "0.462820512821\n",
        "0.0811499842168\n"
       ]
      }
     ],
     "prompt_number": 17
    },
    {
     "cell_type": "markdown",
     "metadata": {},
     "source": [
      "Steps to produce NIfTI file for visualization in TKSurfer (FreeSurfer's surface visualization tool):"
     ]
    },
    {
     "cell_type": "code",
     "collapsed": false,
     "input": [
      "fmri_masked = nifti_masker.fit_transform('140930NP/01/f.stc3.mcpr.sm3.fsaverage.rh.nii.gz')"
     ],
     "language": "python",
     "metadata": {},
     "outputs": [],
     "prompt_number": 18
    },
    {
     "cell_type": "code",
     "collapsed": false,
     "input": [
      "anova_svc.fit(X_scale, y_mod)\n",
      "prediction = anova_svc.predict(X)"
     ],
     "language": "python",
     "metadata": {},
     "outputs": [],
     "prompt_number": 19
    },
    {
     "cell_type": "code",
     "collapsed": false,
     "input": [
      "### Look at the SVC's discriminating weights\n",
      "coef = svc.coef_\n",
      "# reverse feature selection\n",
      "coef = feature_selection.inverse_transform(coef)\n",
      "# reverse masking\n",
      "weight_img = nifti_masker.inverse_transform(coef)"
     ],
     "language": "python",
     "metadata": {},
     "outputs": [],
     "prompt_number": 20
    },
    {
     "cell_type": "code",
     "collapsed": false,
     "input": [
      "weight_img.to_filename('visual_vs_auditory_lh.nii')"
     ],
     "language": "python",
     "metadata": {},
     "outputs": [],
     "prompt_number": 21
    },
    {
     "cell_type": "heading",
     "level": 3,
     "metadata": {},
     "source": [
      "Right Hemisphere Analysis"
     ]
    },
    {
     "cell_type": "code",
     "collapsed": false,
     "input": [
      "X = b[:, 5: ]\n",
      "y_mod = b[:, 2]\n",
      "#Create scaler\n",
      "scaler= StandardScaler()\n",
      "\n",
      "X_scale = scaler.fit_transform(X)\n",
      "\n",
      "svc = SVC(kernel='linear')\n",
      "print 'svc object created'\n",
      "\n",
      "# Select 500 features using ANOVA\n",
      "feature_selection = SelectKBest(f_classif, k=800)\n",
      "\n",
      "# pipeline performs the two operations successively:\n",
      "anova_svc = Pipeline([('anova', feature_selection), ('svc', svc)])\n",
      "\n",
      "print 'anova_svc object created'\n",
      "\n",
      "cv = KFold(n=len(X), n_folds=10)\n",
      "cv_scores = []\n",
      "\n",
      "print 'cv object created'\n",
      "\n",
      "cv_scores = cross_val_score(anova_svc, X_scale, y_mod, cv=cv)\n",
      "print cv_scores\n",
      "print cv_scores.mean()\n",
      "print cv_scores.std()\n",
      "\n",
      "hemiMeans.append(cv_scores.mean())\n",
      "hemiStd.append(cv_scores.std())\n",
      "\n",
      "null_cv_scores = cross_val_score(DummyClassifier(), X_scale, y_mod, cv=cv)\n",
      "\n",
      "print null_cv_scores\n",
      "print null_cv_scores.mean()\n",
      "print null_cv_scores.std()\n",
      "\n",
      "dummyMeans.append(null_cv_scores.mean())\n",
      "dummyStd.append(null_cv_scores.std())"
     ],
     "language": "python",
     "metadata": {},
     "outputs": [
      {
       "output_type": "stream",
       "stream": "stdout",
       "text": [
        "svc object created\n",
        "anova_svc object created\n",
        "cv object created\n",
        "[ 0.37254902  0.90196078  0.98039216  0.94117647  0.88        0.86        0.96\n",
        "  1.          0.96        0.88      ]"
       ]
      },
      {
       "output_type": "stream",
       "stream": "stdout",
       "text": [
        "\n",
        "0.873607843137\n",
        "0.172916547088\n",
        "[ 0.41176471  0.60784314  0.54901961  0.52941176  0.48        0.5         0.46\n",
        "  0.54        0.48        0.56      ]"
       ]
      },
      {
       "output_type": "stream",
       "stream": "stdout",
       "text": [
        "\n",
        "0.511803921569\n",
        "0.0537496582252\n"
       ]
      }
     ],
     "prompt_number": 22
    },
    {
     "cell_type": "markdown",
     "metadata": {},
     "source": [
      "Save Coefficients - Visualize in TKSurfer"
     ]
    },
    {
     "cell_type": "code",
     "collapsed": false,
     "input": [
      "anova_svc.fit(X_scale, y_mod)\n",
      "\n",
      "prediction = anova_svc.predict(X)\n",
      "### Look at the SVC's discriminating weights\n",
      "coef = svc.coef_\n",
      "# reverse feature selection\n",
      "coef = feature_selection.inverse_transform(coef)\n",
      "# reverse masking\n",
      "weight_img = nifti_masker.inverse_transform(coef)\n",
      "\n",
      "weight_img.to_filename('visual_vs_auditory_rh.nii')"
     ],
     "language": "python",
     "metadata": {},
     "outputs": [],
     "prompt_number": 23
    },
    {
     "cell_type": "heading",
     "level": 3,
     "metadata": {},
     "source": [
      "Results Graph"
     ]
    },
    {
     "cell_type": "markdown",
     "metadata": {},
     "source": [
      "Calculate standard error"
     ]
    },
    {
     "cell_type": "code",
     "collapsed": false,
     "input": [
      "import math\n",
      "\n",
      "hemiSte = []\n",
      "dummySte = []\n",
      "for i in range(0,len(hemiStd)):\n",
      "    hemiSte.append(hemiStd[i] / math.sqrt(10))\n",
      "    dummySte.append(dummyStd[i]/ math.sqrt(10))"
     ],
     "language": "python",
     "metadata": {},
     "outputs": [],
     "prompt_number": 24
    },
    {
     "cell_type": "code",
     "collapsed": false,
     "input": [
      "N = 2\n",
      "\n",
      "ind = np.arange(N)  # the x locations for the groups\n",
      "width = 0.3      # the width of the bars\n",
      "\n",
      "fig, ax = plt.subplots()\n",
      "rects1 = ax.bar(ind, hemiMeans, width, color='r', yerr=hemiSte)\n",
      "\n",
      "rects2 = ax.bar(ind+width, dummyMeans, width, color='b', yerr=dummySte)\n",
      "\n",
      "# add some text for labels, title and axes ticks\n",
      "ax.set_ylabel('Accuracy ')\n",
      "ax.set_title('Auditory-vs-Visual Stimuli Classification')\n",
      "ax.set_xticks(ind+width)\n",
      "ax.set_xticklabels( ('Left Hemisphere', 'Right Hemisphere') )\n",
      "\n",
      "ax.legend( (rects1[0], rects2[0]), ('SVC', 'Dummy') )\n",
      "\n",
      "def autolabel(rects):\n",
      "    # attach some text labels\n",
      "    for rect in rects:\n",
      "        height = rect.get_height()\n",
      "        ax.text(rect.get_x()+rect.get_width()/2., 1.05*height, '%d'%int(height),\n",
      "                ha='center', va='bottom')\n",
      "\n",
      "\n",
      "plt.show()\n",
      "fig.savefig('aud-vis.pdf')"
     ],
     "language": "python",
     "metadata": {},
     "outputs": [
      {
       "metadata": {},
       "output_type": "display_data",
       "png": "[encoded data removed]",
       "text": [
        "<matplotlib.figure.Figure at 0x109826b90>"
       ]
      }
     ],
     "prompt_number": 25
    },
    {
     "cell_type": "markdown",
     "metadata": {},
     "source": [
      "***Note: *** The following code is less commented as it follows steps similar to the first analysis."
     ]
    },
    {
     "cell_type": "heading",
     "level": 2,
     "metadata": {},
     "source": [
      "Analysis 2 - Working Memory vs. Passive"
     ]
    },
    {
     "cell_type": "code",
     "collapsed": false,
     "input": [
      "X = a[:, 5: ]\n",
      "#Create scaler\n",
      "scaler= StandardScaler()\n",
      "\n",
      "X_scale = scaler.fit_transform(X)"
     ],
     "language": "python",
     "metadata": {},
     "outputs": [],
     "prompt_number": 98
    },
    {
     "cell_type": "code",
     "collapsed": false,
     "input": [
      "y_task = a[:, 4]"
     ],
     "language": "python",
     "metadata": {},
     "outputs": [],
     "prompt_number": 99
    },
    {
     "cell_type": "code",
     "collapsed": false,
     "input": [
      "svc = SVC(kernel='linear')\n",
      "print 'svc object created'\n",
      "\n",
      "# Select 500 features using ANOVA\n",
      "feature_selection = SelectKBest(f_classif, k=800)\n",
      "\n",
      "# pipeline performs the two operations successively:\n",
      "anova_svc = Pipeline([('anova', feature_selection), ('svc', svc)])\n",
      "\n",
      "print 'anova_svc object created'\n",
      "\n",
      "cv = KFold(n=len(X_scale), n_folds=5)\n",
      "cv_scores = []\n",
      "\n",
      "print 'cv object created'\n",
      "\n",
      "hemiMeans = []\n",
      "hemiStd = []\n",
      "dummyMeans = []\n",
      "dummyStd = []\n",
      "\n",
      "cv_scores = cross_val_score(anova_svc, X_scale, y_task, cv=cv)\n",
      "\n",
      "print cv_scores\n",
      "print cv_scores.mean()\n",
      "print cv_scores.std()\n",
      "hemiMeans.append(cv_scores.mean())\n",
      "hemiStd.append(cv_scores.std())\n",
      "\n",
      "null_cv_scores = cross_val_score(DummyClassifier(), X_scale, y_task, cv=cv)\n",
      "\n",
      "print null_cv_scores\n",
      "print null_cv_scores.mean()\n",
      "print null_cv_scores.std()\n",
      "\n",
      "dummyMeans.append(null_cv_scores.mean())\n",
      "dummyStd.append(null_cv_scores.std())\n"
     ],
     "language": "python",
     "metadata": {},
     "outputs": [
      {
       "output_type": "stream",
       "stream": "stdout",
       "text": [
        "svc object created\n",
        "anova_svc object created\n",
        "cv object created\n",
        "[ 0.80582524  0.83495146  0.8627451   0.78431373  0.76470588]"
       ]
      },
      {
       "output_type": "stream",
       "stream": "stdout",
       "text": [
        "\n",
        "0.810508280982\n",
        "0.0350202775014\n",
        "[ 0.52427184  0.48543689  0.54901961  0.41176471  0.5       ]"
       ]
      },
      {
       "output_type": "stream",
       "stream": "stdout",
       "text": [
        "\n",
        "0.494098610318\n",
        "0.0465090606291\n"
       ]
      }
     ],
     "prompt_number": 100
    },
    {
     "cell_type": "markdown",
     "metadata": {},
     "source": [
      "Visualize"
     ]
    },
    {
     "cell_type": "code",
     "collapsed": false,
     "input": [
      "anova_svc.fit(X_scale, y_task)\n",
      "prediction = anova_svc.predict(X_scale)"
     ],
     "language": "python",
     "metadata": {},
     "outputs": [],
     "prompt_number": 236
    },
    {
     "cell_type": "code",
     "collapsed": false,
     "input": [
      "### Look at the SVC's discriminating weights\n",
      "coef = svc.coef_\n",
      "# reverse feature selection\n",
      "coef = feature_selection.inverse_transform(coef)\n",
      "# reverse masking\n",
      "weight_img = nifti_masker.inverse_transform(coef)"
     ],
     "language": "python",
     "metadata": {},
     "outputs": [],
     "prompt_number": 237
    },
    {
     "cell_type": "code",
     "collapsed": false,
     "input": [
      "weight_img.to_filename('wm_vs_passive_lh.nii')\n"
     ],
     "language": "python",
     "metadata": {},
     "outputs": [],
     "prompt_number": 238
    },
    {
     "cell_type": "heading",
     "level": 3,
     "metadata": {},
     "source": [
      "Right Hemisphere"
     ]
    },
    {
     "cell_type": "code",
     "collapsed": false,
     "input": [
      "X = b[:, 5: ]\n",
      "#Create scaler\n",
      "scaler= StandardScaler()\n",
      "\n",
      "X_scale = scaler.fit_transform(X)\n",
      "y_task = b[:, 4]"
     ],
     "language": "python",
     "metadata": {},
     "outputs": [],
     "prompt_number": 101
    },
    {
     "cell_type": "code",
     "collapsed": false,
     "input": [
      "X.shape"
     ],
     "language": "python",
     "metadata": {},
     "outputs": [
      {
       "metadata": {},
       "output_type": "pyout",
       "prompt_number": 102,
       "text": [
        "(504, 163842)"
       ]
      }
     ],
     "prompt_number": 102
    },
    {
     "cell_type": "code",
     "collapsed": false,
     "input": [
      "svc = SVC(kernel='linear')\n",
      "print 'svc object created'\n",
      "\n",
      "# Select 500 features using ANOVA\n",
      "feature_selection = SelectKBest(f_classif, k=800)\n",
      "\n",
      "# pipeline performs the two operations successively:\n",
      "anova_svc = Pipeline([('anova', feature_selection), ('svc', svc)])\n",
      "\n",
      "print 'anova_svc object created'\n",
      "\n",
      "cv = KFold(n=len(X_scale), n_folds=10)\n",
      "cv_scores = []\n",
      "\n",
      "print 'cv object created'\n",
      "\n",
      "cv_scores = cross_val_score(anova_svc, X_scale, y_task, cv=cv)\n",
      "\n",
      "print cv_scores\n",
      "print cv_scores.mean()\n",
      "print cv_scores.std()\n",
      "\n",
      "hemiMeans.append(cv_scores.mean())\n",
      "hemiStd.append(cv_scores.std())\n",
      "\n",
      "null_cv_scores = cross_val_score(DummyClassifier(), X_scale, y_task, cv=cv)\n",
      "\n",
      "print null_cv_scores\n",
      "print null_cv_scores.mean()\n",
      "print null_cv_scores.std()\n",
      "\n",
      "dummyMeans.append(null_cv_scores.mean())\n",
      "dummyStd.append(null_cv_scores.std())"
     ],
     "language": "python",
     "metadata": {},
     "outputs": [
      {
       "output_type": "stream",
       "stream": "stdout",
       "text": [
        "svc object created\n",
        "anova_svc object created\n",
        "cv object created\n",
        "[ 0.84313725  0.84313725  0.82352941  0.76470588  0.72        0.68        0.84\n",
        "  0.86        0.82        0.68      ]"
       ]
      },
      {
       "output_type": "stream",
       "stream": "stdout",
       "text": [
        "\n",
        "0.787450980392\n",
        "0.0668925814633\n",
        "[ 0.47058824  0.52941176  0.52941176  0.62745098  0.62        0.46        0.42\n",
        "  0.48        0.4         0.52      ]"
       ]
      },
      {
       "output_type": "stream",
       "stream": "stdout",
       "text": [
        "\n",
        "0.50568627451\n",
        "0.0719135390134\n"
       ]
      }
     ],
     "prompt_number": 103
    },
    {
     "cell_type": "code",
     "collapsed": false,
     "input": [
      "anova_svc.fit(X_scale, y_task)\n",
      "prediction = anova_svc.predict(X_scale)\n",
      "### Look at the SVC's discriminating weights\n",
      "coef = svc.coef_\n",
      "# reverse feature selection\n",
      "coef = feature_selection.inverse_transform(coef)\n",
      "# reverse masking\n",
      "weight_img = nifti_masker.inverse_transform(coef)\n",
      "weight_img.to_filename('wm_vs_passive_rh.nii')\n"
     ],
     "language": "python",
     "metadata": {},
     "outputs": [],
     "prompt_number": 179
    },
    {
     "cell_type": "code",
     "collapsed": false,
     "input": [
      "hemiSte = []\n",
      "dummySte = []\n",
      "for i in range(0,len(hemiStd)):\n",
      "    hemiSte.append(hemiStd[i] / math.sqrt(10))\n",
      "    dummySte.append(dummyStd[i]/ math.sqrt(10))\n"
     ],
     "language": "python",
     "metadata": {},
     "outputs": [],
     "prompt_number": 104
    },
    {
     "cell_type": "code",
     "collapsed": false,
     "input": [
      "N = 2\n",
      "\n",
      "ind = np.arange(N)  # the x locations for the groups\n",
      "width = 0.3      # the width of the bars\n",
      "\n",
      "fig, ax = plt.subplots()\n",
      "rects1 = ax.bar(ind, hemiMeans, width, color='r', yerr=hemiSte)\n",
      "\n",
      "rects2 = ax.bar(ind+width, dummyMeans, width, color='b', yerr=dummySte)\n",
      "\n",
      "# add some text for labels, title and axes ticks\n",
      "ax.set_ylabel('Accuracy ')\n",
      "ax.set_title('Working Memory vs. Passive Task Classification')\n",
      "ax.set_xticks(ind+width)\n",
      "ax.set_xticklabels( ('Left Hemisphere', 'Right Hemisphere') )\n",
      "\n",
      "ax.legend( (rects1[0], rects2[0]), ('SVC', 'Dummy') )\n",
      "\n",
      "def autolabel(rects):\n",
      "    # attach some text labels\n",
      "    for rect in rects:\n",
      "        height = rect.get_height()\n",
      "        ax.text(rect.get_x()+rect.get_width()/2., 1.05*height, '%d'%int(height),\n",
      "                ha='center', va='bottom')\n",
      "\n",
      "\n",
      "plt.show()\n",
      "\n",
      "fig.savefig('wm-passive.pdf')"
     ],
     "language": "python",
     "metadata": {},
     "outputs": [
      {
       "metadata": {},
       "output_type": "display_data",
       "png": "[encoded data removed]",
       "text": [
        "<matplotlib.figure.Figure at 0x132788150>"
       ]
      }
     ],
     "prompt_number": 107
    },
    {
     "cell_type": "heading",
     "level": 2,
     "metadata": {},
     "source": [
      "Analysis 3 - Individual Cat vs. Dog Sound"
     ]
    },
    {
     "cell_type": "raw",
     "metadata": {},
     "source": [
      "identifiers_list.extend((subj, hemi, mod_label, stim_label, task_label))\n"
     ]
    },
    {
     "cell_type": "code",
     "collapsed": false,
     "input": [
      "sound = a[a[:, 3] == 3]\n",
      "sound = np.vstack((sound, a[a[:, 3] == 4]))"
     ],
     "language": "python",
     "metadata": {},
     "outputs": [],
     "prompt_number": 109
    },
    {
     "cell_type": "code",
     "collapsed": false,
     "input": [
      "sound.shape"
     ],
     "language": "python",
     "metadata": {},
     "outputs": [
      {
       "metadata": {},
       "output_type": "pyout",
       "prompt_number": 110,
       "text": [
        "(256, 163847)"
       ]
      }
     ],
     "prompt_number": 110
    },
    {
     "cell_type": "code",
     "collapsed": false,
     "input": [
      "subjMeans_lh = []\n",
      "subjStd_lh = []\n",
      "\n",
      "dummyMeans_lh = []\n",
      "dummyStd_lh = []\n",
      "\n",
      "subjMeans_rh = []\n",
      "subjStd_rh = []\n",
      "\n",
      "dummyMeans_rh = []\n",
      "dummyStd_rh = []"
     ],
     "language": "python",
     "metadata": {},
     "outputs": [],
     "prompt_number": 111
    },
    {
     "cell_type": "code",
     "collapsed": false,
     "input": [
      "for i in range (0,8):\n",
      "    \n",
      "    subj_sound = sound[sound[:,0] == i]\n",
      "    \n",
      "    y_subj_sound = subj_sound[:,3]\n",
      "    X_subj_sound = subj_sound[:, 5:]\n",
      "    \n",
      "    scaler= StandardScaler()\n",
      "    X_subj_sound_scale = scaler.fit_transform(X_subj_sound)\n",
      "\n",
      "    svc = SVC(kernel='linear')\n",
      "    \n",
      "    # Select 500 features using ANOVA\n",
      "    feature_selection = SelectKBest(f_classif, k=30)\n",
      "\n",
      "    # pipeline performs the two operations successively:\n",
      "    anova_svc = Pipeline([('anova', feature_selection), ('svc', svc)])\n",
      "\n",
      "    cv = KFold(n=len(X_subj_sound), n_folds=5)\n",
      "    cv_scores = []\n",
      "\n",
      "    cv_scores = cross_val_score(anova_svc, X_subj_sound_scale, y_subj_sound, cv=cv)\n",
      "    \n",
      "    print '*** SCORES FOR SUBJECT ID: %d ***' %i\n",
      "    print 'CV Scores:' \n",
      "    print cv_scores\n",
      "    print cv_scores.mean()\n",
      "    print cv_scores.std()\n",
      "    \n",
      "    subjMeans_lh.append(cv_scores.mean())\n",
      "\n",
      "    null_cv_scores = cross_val_score(DummyClassifier(), X_subj_sound_scale, y_subj_sound, cv=cv)\n",
      "\n",
      "    print 'Dummy CV Scores: '\n",
      "    print null_cv_scores\n",
      "    print null_cv_scores.mean()\n",
      "    print null_cv_scores.std()\n",
      "    \n",
      "    dummyMeans_lh.append(null_cv_scores.mean())\n",
      "    \n",
      "    print ''\n",
      "    \n",
      "    \n",
      "    anova_svc.fit(X_subj_sound_scale, y_subj_sound)\n",
      "    prediction = anova_svc.predict(X_subj_sound_scale)\n",
      "    ### Look at the SVC's discriminating weights\n",
      "    coef = svc.coef_\n",
      "    # reverse feature selection\n",
      "    coef = feature_selection.inverse_transform(coef)\n",
      "    # reverse masking\n",
      "    weight_img = nifti_masker.inverse_transform(coef)\n",
      "    \n",
      "    filename = '0%d-cat_vs_dog_lh.nii'% i\n",
      "    weight_img.to_filename(filename) \n",
      "    "
     ],
     "language": "python",
     "metadata": {},
     "outputs": [
      {
       "output_type": "stream",
       "stream": "stdout",
       "text": [
        "*** SCORES FOR SUBJECT ID: 0 ***\n",
        "CV Scores:\n",
        "[ 0.85714286  1.          1.          0.33333333  0.83333333]\n",
        "0.804761904762\n",
        "0.245780721916\n",
        "Dummy CV Scores: "
       ]
      },
      {
       "output_type": "stream",
       "stream": "stdout",
       "text": [
        "\n",
        "[ 0.42857143  0.14285714  0.66666667  0.5         0.5       ]\n",
        "0.447619047619\n",
        "0.171296245225\n",
        "\n",
        "*** SCORES FOR SUBJECT ID: 1 ***"
       ]
      },
      {
       "output_type": "stream",
       "stream": "stdout",
       "text": [
        "\n",
        "CV Scores:\n",
        "[ 0.42857143  0.42857143  0.5         0.5         0.5       ]\n",
        "0.471428571429\n",
        "0.0349927106112\n",
        "Dummy CV Scores: "
       ]
      },
      {
       "output_type": "stream",
       "stream": "stdout",
       "text": [
        "\n",
        "[ 0.57142857  0.42857143  0.33333333  0.5         0.16666667]\n",
        "0.4\n",
        "0.140778528563\n",
        "\n",
        "*** SCORES FOR SUBJECT ID: 2 ***"
       ]
      },
      {
       "output_type": "stream",
       "stream": "stdout",
       "text": [
        "\n",
        "CV Scores:\n",
        "[ 0.42857143  0.71428571  0.83333333  0.5         1.        ]\n",
        "0.695238095238\n",
        "0.210495581955\n",
        "Dummy CV Scores: "
       ]
      },
      {
       "output_type": "stream",
       "stream": "stdout",
       "text": [
        "\n",
        "[ 0.42857143  0.42857143  0.16666667  0.66666667  1.        ]\n",
        "0.538095238095\n",
        "0.27994168489\n",
        "\n",
        "*** SCORES FOR SUBJECT ID: 3 ***"
       ]
      },
      {
       "output_type": "stream",
       "stream": "stdout",
       "text": [
        "\n",
        "CV Scores:\n",
        "[ 0.42857143  0.42857143  0.83333333  0.5         0.5       ]\n",
        "0.538095238095\n",
        "0.15103572883\n",
        "Dummy CV Scores: "
       ]
      },
      {
       "output_type": "stream",
       "stream": "stdout",
       "text": [
        "\n",
        "[ 0.14285714  0.28571429  0.16666667  0.33333333  0.        ]\n",
        "0.185714285714\n",
        "0.117030530738\n",
        "\n",
        "*** SCORES FOR SUBJECT ID: 4 ***"
       ]
      },
      {
       "output_type": "stream",
       "stream": "stdout",
       "text": [
        "\n",
        "CV Scores:\n",
        "[ 0.85714286  0.42857143  0.66666667  0.83333333  0.83333333]\n",
        "0.72380952381\n",
        "0.162603534085\n",
        "Dummy CV Scores: "
       ]
      },
      {
       "output_type": "stream",
       "stream": "stdout",
       "text": [
        "\n",
        "[ 0.57142857  0.28571429  0.5         0.5         0.5       ]\n",
        "0.471428571429\n",
        "0.0968904283304\n",
        "\n",
        "*** SCORES FOR SUBJECT ID: 5 ***"
       ]
      },
      {
       "output_type": "stream",
       "stream": "stdout",
       "text": [
        "\n",
        "CV Scores:\n",
        "[ 0.71428571  0.42857143  0.83333333  0.83333333  0.5       ]\n",
        "0.661904761905\n",
        "0.168627916282\n",
        "Dummy CV Scores: "
       ]
      },
      {
       "output_type": "stream",
       "stream": "stdout",
       "text": [
        "\n",
        "[ 0.14285714  0.71428571  0.33333333  0.5         0.83333333]\n",
        "0.504761904762\n",
        "0.249897938351\n",
        "\n",
        "*** SCORES FOR SUBJECT ID: 6 ***"
       ]
      },
      {
       "output_type": "stream",
       "stream": "stdout",
       "text": [
        "\n",
        "CV Scores:\n",
        "[ 0.28571429  0.85714286  0.33333333  0.66666667  0.5       ]\n",
        "0.528571428571\n",
        "0.21210530906\n",
        "Dummy CV Scores: "
       ]
      },
      {
       "output_type": "stream",
       "stream": "stdout",
       "text": [
        "\n",
        "[ 0.42857143  0.14285714  0.66666667  0.66666667  0.33333333]\n",
        "0.447619047619\n",
        "0.201130591257\n",
        "\n",
        "*** SCORES FOR SUBJECT ID: 7 ***"
       ]
      },
      {
       "output_type": "stream",
       "stream": "stdout",
       "text": [
        "\n",
        "CV Scores:\n",
        "[ 0.42857143  0.85714286  0.66666667  1.          0.83333333]\n",
        "0.757142857143\n",
        "0.195412233607\n",
        "Dummy CV Scores: "
       ]
      },
      {
       "output_type": "stream",
       "stream": "stdout",
       "text": [
        "\n",
        "[ 0.42857143  0.42857143  0.16666667  0.5         0.5       ]\n",
        "0.404761904762\n",
        "0.123258848624\n",
        "\n"
       ]
      }
     ],
     "prompt_number": 112
    },
    {
     "cell_type": "markdown",
     "metadata": {},
     "source": [
      "Right hemisphere"
     ]
    },
    {
     "cell_type": "code",
     "collapsed": false,
     "input": [
      "sound = b[b[:, 3] == 3]\n",
      "sound = np.vstack((sound, b[b[:, 3] == 4]))"
     ],
     "language": "python",
     "metadata": {},
     "outputs": [],
     "prompt_number": 113
    },
    {
     "cell_type": "code",
     "collapsed": false,
     "input": [
      "sound.shape"
     ],
     "language": "python",
     "metadata": {},
     "outputs": [
      {
       "metadata": {},
       "output_type": "pyout",
       "prompt_number": 114,
       "text": [
        "(252, 163847)"
       ]
      }
     ],
     "prompt_number": 114
    },
    {
     "cell_type": "code",
     "collapsed": false,
     "input": [
      "for i in range (0,8):\n",
      "    \n",
      "    subj_sound = sound[sound[:,0] == i]\n",
      "    \n",
      "    y_subj_sound = subj_sound[:,3]\n",
      "    X_subj_sound = subj_sound[:, 5:]\n",
      "    \n",
      "    scaler= StandardScaler()\n",
      "    X_subj_sound_scale = scaler.fit_transform(X_subj_sound)\n",
      "\n",
      "    svc = SVC(kernel='linear')\n",
      "    \n",
      "    # Select 500 features using ANOVA\n",
      "    feature_selection = SelectKBest(f_classif, k=30)\n",
      "\n",
      "    # pipeline performs the two operations successively:\n",
      "    anova_svc = Pipeline([('anova', feature_selection), ('svc', svc)])\n",
      "\n",
      "    cv = KFold(n=len(X_subj_sound), n_folds=5)\n",
      "    cv_scores = []\n",
      "\n",
      "    cv_scores = cross_val_score(anova_svc, X_subj_sound_scale, y_subj_sound, cv=cv)\n",
      "    \n",
      "    print '*** SCORES FOR SUBJECT ID: %d ***' %i\n",
      "    print 'CV Scores:' \n",
      "    print cv_scores\n",
      "    print cv_scores.mean()\n",
      "    print cv_scores.std()\n",
      "\n",
      "    subjMeans_rh.append(cv_scores.mean())\n",
      "    \n",
      "    null_cv_scores = cross_val_score(DummyClassifier(), X_subj_sound_scale, y_subj_sound, cv=cv)\n",
      "\n",
      "    print 'Dummy CV Scores: '\n",
      "    print null_cv_scores\n",
      "    print null_cv_scores.mean()\n",
      "    print null_cv_scores.std()\n",
      "    \n",
      "    dummyMeans_rh.append(null_cv_scores.mean())\n",
      "    \n",
      "    print ''\n",
      "    \n",
      "    anova_svc.fit(X_subj_sound_scale, y_subj_sound)\n",
      "    prediction = anova_svc.predict(X_subj_sound_scale)\n",
      "    ### Look at the SVC's discriminating weights\n",
      "    coef = svc.coef_\n",
      "    # reverse feature selection\n",
      "    coef = feature_selection.inverse_transform(coef)\n",
      "    # reverse masking\n",
      "    weight_img = nifti_masker.inverse_transform(coef)\n",
      "    \n",
      "    filename = '0%d-cat_vs_dog_rh.nii'% i\n",
      "    weight_img.to_filename(filename) \n",
      "    "
     ],
     "language": "python",
     "metadata": {},
     "outputs": [
      {
       "output_type": "stream",
       "stream": "stdout",
       "text": [
        "*** SCORES FOR SUBJECT ID: 0 ***\n",
        "CV Scores:\n",
        "[ 0.85714286  0.85714286  0.83333333  0.66666667  0.83333333]\n",
        "0.809523809524\n",
        "0.0722178613719\n",
        "Dummy CV Scores: "
       ]
      },
      {
       "output_type": "stream",
       "stream": "stdout",
       "text": [
        "\n",
        "[ 0.42857143  0.42857143  0.5         0.5         0.33333333]\n",
        "0.438095238095\n",
        "0.0613528510796\n",
        "\n",
        "*** SCORES FOR SUBJECT ID: 1 ***"
       ]
      },
      {
       "output_type": "stream",
       "stream": "stdout",
       "text": [
        "\n",
        "CV Scores:\n",
        "[ 0.57142857  0.42857143  0.66666667  0.66666667  0.83333333]\n",
        "0.633333333333\n",
        "0.132651316926\n",
        "Dummy CV Scores: "
       ]
      },
      {
       "output_type": "stream",
       "stream": "stdout",
       "text": [
        "\n",
        "[ 0.42857143  0.          0.33333333  0.5         0.        ]\n",
        "0.252380952381\n",
        "0.212745789559\n",
        "\n",
        "*** SCORES FOR SUBJECT ID: 2 ***"
       ]
      },
      {
       "output_type": "stream",
       "stream": "stdout",
       "text": [
        "\n",
        "CV Scores:\n",
        "[ 0.28571429  0.42857143  0.5         0.5         0.5       ]\n",
        "0.442857142857\n",
        "0.0832993127835\n",
        "Dummy CV Scores: "
       ]
      },
      {
       "output_type": "stream",
       "stream": "stdout",
       "text": [
        "\n",
        "[ 0.42857143  0.42857143  0.5         0.66666667  0.5       ]\n",
        "0.504761904762\n",
        "0.0870269851547\n",
        "\n",
        "*** SCORES FOR SUBJECT ID: 3 ***"
       ]
      },
      {
       "output_type": "stream",
       "stream": "stdout",
       "text": [
        "\n",
        "CV Scores:\n",
        "[ 0.71428571  0.71428571  1.          1.          0.83333333]\n",
        "0.852380952381\n",
        "0.128129752829\n",
        "Dummy CV Scores: "
       ]
      },
      {
       "output_type": "stream",
       "stream": "stdout",
       "text": [
        "\n",
        "[ 0.28571429  0.14285714  0.5         0.16666667  0.66666667]\n",
        "0.352380952381\n",
        "0.201693510329\n",
        "\n",
        "*** SCORES FOR SUBJECT ID: 4 ***"
       ]
      },
      {
       "output_type": "stream",
       "stream": "stdout",
       "text": [
        "\n",
        "CV Scores:\n",
        "[ 0.71428571  0.42857143  0.5         1.          0.83333333]\n",
        "0.695238095238\n",
        "0.210495581955\n",
        "Dummy CV Scores: "
       ]
      },
      {
       "output_type": "stream",
       "stream": "stdout",
       "text": [
        "\n",
        "[ 0.42857143  0.28571429  0.33333333  0.33333333  0.16666667]\n",
        "0.309523809524\n",
        "0.085183542\n",
        "\n",
        "*** SCORES FOR SUBJECT ID: 5 ***"
       ]
      },
      {
       "output_type": "stream",
       "stream": "stdout",
       "text": [
        "\n",
        "CV Scores:\n",
        "[ 0.28571429  0.42857143  0.5         0.66666667  0.83333333]\n",
        "0.542857142857\n",
        "0.190118712168\n",
        "Dummy CV Scores: "
       ]
      },
      {
       "output_type": "stream",
       "stream": "stdout",
       "text": [
        "\n",
        "[ 0.57142857  0.57142857  0.5         0.16666667  0.33333333]\n",
        "0.428571428571\n",
        "0.157214990659\n",
        "\n",
        "*** SCORES FOR SUBJECT ID: 6 ***"
       ]
      },
      {
       "output_type": "stream",
       "stream": "stdout",
       "text": [
        "\n",
        "CV Scores:\n",
        "[ 0.28571429  0.71428571  0.33333333  0.5         0.83333333]\n",
        "0.533333333333\n",
        "0.212212190049\n",
        "Dummy CV Scores: "
       ]
      },
      {
       "output_type": "stream",
       "stream": "stdout",
       "text": [
        "\n",
        "[ 0.28571429  0.14285714  0.83333333  0.16666667  0.16666667]\n",
        "0.319047619048\n",
        "0.261948048371\n",
        "\n",
        "*** SCORES FOR SUBJECT ID: 7 ***"
       ]
      },
      {
       "output_type": "stream",
       "stream": "stdout",
       "text": [
        "\n",
        "CV Scores:\n",
        "[ 0.16666667  0.83333333  0.5         0.4         0.6       ]\n",
        "0.5\n",
        "0.220100986923\n",
        "Dummy CV Scores: "
       ]
      },
      {
       "output_type": "stream",
       "stream": "stdout",
       "text": [
        "\n",
        "[ 0.66666667  0.33333333  0.33333333  0.4         0.        ]\n",
        "0.346666666667\n",
        "0.212498366007\n",
        "\n"
       ]
      }
     ],
     "prompt_number": 115
    },
    {
     "cell_type": "heading",
     "level": 3,
     "metadata": {},
     "source": [
      "Results Graph"
     ]
    },
    {
     "cell_type": "code",
     "collapsed": false,
     "input": [
      "print subjMeans_lh"
     ],
     "language": "python",
     "metadata": {},
     "outputs": [
      {
       "output_type": "stream",
       "stream": "stdout",
       "text": [
        "[0.80476190476190479, 0.47142857142857142, 0.69523809523809521, 0.53809523809523818, 0.72380952380952379, 0.661904761904762, 0.52857142857142858, 0.75714285714285712]\n"
       ]
      }
     ],
     "prompt_number": 122
    },
    {
     "cell_type": "code",
     "collapsed": false,
     "input": [
      "print subjMeans_rh"
     ],
     "language": "python",
     "metadata": {},
     "outputs": [
      {
       "output_type": "stream",
       "stream": "stdout",
       "text": [
        "[0.80952380952380953, 0.6333333333333333, 0.44285714285714289, 0.85238095238095235, 0.69523809523809521, 0.54285714285714293, 0.53333333333333333, 0.5]\n"
       ]
      }
     ],
     "prompt_number": 123
    },
    {
     "cell_type": "code",
     "collapsed": false,
     "input": [
      "subjMeans = []\n",
      "subjStd = []\n",
      "subjSte = []\n",
      "\n",
      "dummyMeans = []\n",
      "dummyStd = []\n",
      "dummySte = []\n",
      "\n",
      "for i in range(0,len(subjMeans_lh)):\n",
      "    \n",
      "    subjMeans.append( (subjMeans_lh[i] + subjMeans_rh[i]) / 2 ) \n",
      "    subjStd.append(np.array([subjMeans_lh[i], subjMeans_rh[i]]).std())\n",
      "    \n",
      "    dummyMeans.append((dummyMeans_lh[i] + dummyMeans_rh[i])/ 2)\n",
      "    dummyStd.append(np.array([dummyMeans_lh[i], dummyMeans_rh[i]]).std())\n",
      "    \n",
      "for i in range(0, len(subjMeans)):    \n",
      "    \n",
      "    subjSte.append(subjStd[i] / math.sqrt(2) )\n",
      "    dummySte.append(dummyStd[i] / math.sqrt(2))\n",
      "   "
     ],
     "language": "python",
     "metadata": {},
     "outputs": [],
     "prompt_number": 143
    },
    {
     "cell_type": "code",
     "collapsed": false,
     "input": [
      "print subjMeans\n",
      "print dummyMeans\n",
      "\n",
      "print subjStd\n",
      "print dummyStd"
     ],
     "language": "python",
     "metadata": {},
     "outputs": [
      {
       "output_type": "stream",
       "stream": "stdout",
       "text": [
        "[0.80714285714285716, 0.55238095238095242, 0.56904761904761902, 0.69523809523809521, 0.70952380952380945, 0.60238095238095246, 0.53095238095238095, 0.62857142857142856]\n",
        "[0.44285714285714289, 0.3261904761904762, 0.52142857142857135, 0.26904761904761904, 0.39047619047619042, 0.46666666666666667, 0.38333333333333336, 0.37571428571428572]\n",
        "[0.0023809523809523725, 0.080952380952380942, 0.12619047619047616, 0.15714285714285708, 0.01428571428571429, 0.059523809523809534, 0.0023809523809523725, 0.12857142857142856]\n",
        "[0.004761904761904745, 0.073809523809523825, 0.016666666666666663, 0.083333333333333315, 0.08095238095238097, 0.038095238095238099, 0.064285714285714279, 0.029047619047619044]\n"
       ]
      }
     ],
     "prompt_number": 144
    },
    {
     "cell_type": "code",
     "collapsed": false,
     "input": [
      "N = 8\n",
      "\n",
      "ind = np.arange(N)  # the x locations for the groups\n",
      "width = 0.35       # the width of the bars\n",
      "\n",
      "fig, ax = plt.subplots()\n",
      "rects1 = ax.bar(ind, subjMeans, width, color='r', yerr=subjSte)\n",
      "\n",
      "rects2 = ax.bar(ind+width, dummyMeans, width, color='b', yerr=dummySte)\n",
      "\n",
      "# add some text for labels, title and axes ticks\n",
      "ax.set_ylabel('Accuracy ')\n",
      "ax.set_title('Cat vs. Dog Sound Classification')\n",
      "ax.set_xticks(ind+width)\n",
      "ax.set_xticklabels( ('00', '01', '02', '03', '04', '05', '06', '07') ) #etc\n",
      "ax.set_xlabel('Subject ID')\n",
      "\n",
      "ax.legend( (rects1[0], rects2[0]), ('SVC', 'Dummy') )\n",
      "\n",
      "def autolabel(rects):\n",
      "    # attach some text labels\n",
      "    for rect in rects:\n",
      "        height = rect.get_height()\n",
      "        ax.text(rect.get_x()+rect.get_width()/2., 1.05*height, '%d'%int(height),\n",
      "                ha='center', va='bottom')\n",
      "\n",
      "plt.show()\n",
      "\n",
      "fig.savefig('cat-vs-dog-individual.pdf')"
     ],
     "language": "python",
     "metadata": {},
     "outputs": [
      {
       "metadata": {},
       "output_type": "display_data",
       "png": "[encoded data removed]",
       "text": [
        "<matplotlib.figure.Figure at 0x1307ed490>"
       ]
      }
     ],
     "prompt_number": 148
    },
    {
     "cell_type": "heading",
     "level": 2,
     "metadata": {},
     "source": [
      "Analysis 4 - All-subjects Cat vs. Dog Sound"
     ]
    },
    {
     "cell_type": "code",
     "collapsed": false,
     "input": [
      "sound = a[a[:, 3] == 3]\n",
      "sound = np.vstack((sound, a[a[:, 3] == 4]))\n",
      "\n",
      "X_sound = sound[:, 5:]\n",
      "#Create scaler\n",
      "scaler= StandardScaler()\n",
      "\n",
      "X_sound_scale = scaler.fit_transform(X_sound)\n",
      "y_sound = sound[:, 3]"
     ],
     "language": "python",
     "metadata": {},
     "outputs": [],
     "prompt_number": 164
    },
    {
     "cell_type": "code",
     "collapsed": false,
     "input": [
      "leftMeans = []\n",
      "leftStd = []\n",
      "rightMeans = []\n",
      "rightStd = []"
     ],
     "language": "python",
     "metadata": {},
     "outputs": [],
     "prompt_number": 165
    },
    {
     "cell_type": "code",
     "collapsed": false,
     "input": [
      "svc = SVC(kernel='linear')\n",
      "print 'svc object created'\n",
      "\n",
      "# Select 500 features using ANOVA\n",
      "feature_selection = SelectKBest(f_classif, k=200)\n",
      "\n",
      "# pipeline performs the two operations successively:\n",
      "anova_svc = Pipeline([('anova', feature_selection), ('svc', svc)])\n",
      "\n",
      "print 'anova_svc object created'\n",
      "\n",
      "cv = KFold(n=len(X_sound_scale), n_folds=5)\n",
      "cv_scores = []\n",
      "\n",
      "print 'cv object created'\n",
      "\n",
      "cv_scores = cross_val_score(anova_svc, X_sound_scale, y_sound, cv=cv)\n",
      "\n",
      "print cv_scores\n",
      "print cv_scores.mean()\n",
      "print cv_scores.std()\n",
      "\n",
      "leftMeans.append(cv_scores.mean())\n",
      "leftStd.append(cv_scores.std())\n",
      "\n",
      "null_cv_scores = cross_val_score(DummyClassifier(), X_sound_scale, y_sound, cv=cv)\n",
      "\n",
      "print null_cv_scores\n",
      "print null_cv_scores.mean()\n",
      "print null_cv_scores.std()\n",
      "\n",
      "leftMeans.append(null_cv_scores.mean())\n",
      "leftStd.append(null_cv_scores.std())\n",
      "\n",
      "anova_svc.fit(X_sound_scale, y_sound)\n",
      "\n",
      "prediction = anova_svc.predict(X_sound_scale)\n",
      "### Look at the SVC's discriminating weights\n",
      "coef = svc.coef_\n",
      "# reverse feature selection\n",
      "coef = feature_selection.inverse_transform(coef)\n",
      "# reverse masking\n",
      "weight_img = nifti_masker.inverse_transform(coef)\n",
      "\n",
      "weight_img.to_filename('allsubj-cat_vs_dog_lh.nii')\n"
     ],
     "language": "python",
     "metadata": {},
     "outputs": [
      {
       "output_type": "stream",
       "stream": "stdout",
       "text": [
        "svc object created\n",
        "anova_svc object created\n",
        "cv object created\n",
        "[ 0.5         0.39215686  0.49019608  0.39215686  0.33333333]"
       ]
      },
      {
       "output_type": "stream",
       "stream": "stdout",
       "text": [
        "\n",
        "0.421568627451\n",
        "0.0638385121416\n",
        "[ 0.42307692  0.35294118  0.47058824  0.37254902  0.39215686]"
       ]
      },
      {
       "output_type": "stream",
       "stream": "stdout",
       "text": [
        "\n",
        "0.402262443439\n",
        "0.0412777278627\n"
       ]
      },
      {
       "metadata": {},
       "output_type": "pyout",
       "prompt_number": 166,
       "text": [
        "\"\\n\\nanova_svc.fit(X_sound_scale, y_sound)\\n\\nprediction = anova_svc.predict(X_sound_scale)\\n### Look at the SVC's discriminating weights\\ncoef = svc.coef_\\n# reverse feature selection\\ncoef = feature_selection.inverse_transform(coef)\\n# reverse masking\\nweight_img = nifti_masker.inverse_transform(coef)\\n\\nweight_img.to_filename('allsubj-cat_vs_dog_lh.nii')\\n\\n\""
       ]
      }
     ],
     "prompt_number": 166
    },
    {
     "cell_type": "heading",
     "level": 3,
     "metadata": {},
     "source": [
      "Right hemisphere"
     ]
    },
    {
     "cell_type": "code",
     "collapsed": false,
     "input": [
      "sound = b[b[:, 3] == 3]\n",
      "sound = np.vstack((sound, b[b[:, 3] == 4]))\n",
      "\n",
      "X_sound = sound[:, 5:]\n",
      "#Create scaler\n",
      "scaler= StandardScaler()\n",
      "\n",
      "X_sound_scale = scaler.fit_transform(X_sound)\n",
      "y_sound = sound[:, 3]"
     ],
     "language": "python",
     "metadata": {},
     "outputs": [],
     "prompt_number": 167
    },
    {
     "cell_type": "code",
     "collapsed": false,
     "input": [
      "svc = SVC(kernel='linear')\n",
      "print 'svc object created'\n",
      "\n",
      "# Select 500 features using ANOVA\n",
      "feature_selection = SelectKBest(f_classif, k=200)\n",
      "\n",
      "# pipeline performs the two operations successively:\n",
      "anova_svc = Pipeline([('anova', feature_selection), ('svc', svc)])\n",
      "\n",
      "print 'anova_svc object created'\n",
      "\n",
      "cv = KFold(n=len(X_sound_scale), n_folds=5)\n",
      "cv_scores = []\n",
      "\n",
      "print 'cv object created'\n",
      "\n",
      "cv_scores = cross_val_score(anova_svc, X_sound_scale, y_sound, cv=cv)\n",
      "\n",
      "print cv_scores\n",
      "print cv_scores.mean()\n",
      "print cv_scores.std()\n",
      "\n",
      "rightMeans.append(cv_scores.mean())\n",
      "rightStd.append(cv_scores.std())\n",
      "\n",
      "null_cv_scores = cross_val_score(DummyClassifier(), X_sound_scale, y_sound, cv=cv)\n",
      "\n",
      "print null_cv_scores\n",
      "print null_cv_scores.mean()\n",
      "print null_cv_scores.std()\n",
      "\n",
      "rightMeans.append(null_cv_scores.mean())\n",
      "rightStd.append(null_cv_scores.std())\n",
      "\n",
      "anova_svc.fit(X_sound_scale, y_sound)\n",
      "\n",
      "prediction = anova_svc.predict(X_sound_scale)\n",
      "### Look at the SVC's discriminating weights\n",
      "coef = svc.coef_\n",
      "# reverse feature selection\n",
      "coef = feature_selection.inverse_transform(coef)\n",
      "# reverse masking\n",
      "weight_img = nifti_masker.inverse_transform(coef)\n",
      "\n",
      "weight_img.to_filename('allsubj-cat_vs_dog_rh.nii')\n"
     ],
     "language": "python",
     "metadata": {},
     "outputs": [
      {
       "output_type": "stream",
       "stream": "stdout",
       "text": [
        "svc object created\n",
        "anova_svc object created\n",
        "cv object created\n",
        "[ 0.45098039  0.52941176  0.5         0.44        0.42      ]"
       ]
      },
      {
       "output_type": "stream",
       "stream": "stdout",
       "text": [
        "\n",
        "0.468078431373\n",
        "0.0404302884927\n",
        "[ 0.41176471  0.35294118  0.56        0.34        0.42      ]"
       ]
      },
      {
       "output_type": "stream",
       "stream": "stdout",
       "text": [
        "\n",
        "0.416941176471\n",
        "0.0781254425593\n"
       ]
      },
      {
       "metadata": {},
       "output_type": "pyout",
       "prompt_number": 168,
       "text": [
        "\"\\nanova_svc.fit(X_sound_scale, y_sound)\\n\\nprediction = anova_svc.predict(X_sound_scale)\\n### Look at the SVC's discriminating weights\\ncoef = svc.coef_\\n# reverse feature selection\\ncoef = feature_selection.inverse_transform(coef)\\n# reverse masking\\nweight_img = nifti_masker.inverse_transform(coef)\\n\\nweight_img.to_filename('allsubj-cat_vs_dog_rh.nii')\\n\""
       ]
      }
     ],
     "prompt_number": 168
    },
    {
     "cell_type": "heading",
     "level": 3,
     "metadata": {},
     "source": [
      "Results Graph"
     ]
    },
    {
     "cell_type": "code",
     "collapsed": false,
     "input": [
      "leftSte = []\n",
      "rightSte = []\n",
      "\n",
      "for i in range(0, len(leftStd)):\n",
      "    leftSte.append(leftStd[i]/ math.sqrt(10))\n",
      "    rightSte.append(rightStd[i]/ math.sqrt(10))\n",
      "\n",
      "leftMeans.append(np.mean(subjMeans_lh))\n",
      "rightMeans.append(np.mean(subjMeans_rh))\n",
      "\n",
      "leftSte.append(np.std(subjMeans_lh)/ math.sqrt(8))\n",
      "rightSte.append(np.std(subjMeans_rh)/ math.sqrt(8))\n"
     ],
     "language": "python",
     "metadata": {},
     "outputs": [],
     "prompt_number": 169
    },
    {
     "cell_type": "code",
     "collapsed": false,
     "input": [
      "print leftMeans\n",
      "print rightMeans\n",
      "print leftSte\n",
      "print rightSte"
     ],
     "language": "python",
     "metadata": {},
     "outputs": [
      {
       "output_type": "stream",
       "stream": "stdout",
       "text": [
        "[0.42156862745098039, 0.40226244343891404, 0.64761904761904754]\n",
        "[0.46807843137254901, 0.41694117647058826, 0.62619047619047619]\n",
        "[0.020187510080366667, 0.013053163668265743, 0.039956396301996211]\n",
        "[0.0127851798094699, 0.02470543416960428, 0.049163928206915009]\n"
       ]
      }
     ],
     "prompt_number": 170
    },
    {
     "cell_type": "code",
     "collapsed": false,
     "input": [
      "N = 3\n",
      "\n",
      "ind = np.arange(N)  # the x locations for the groups\n",
      "width = 0.35      # the width of the bars\n",
      "\n",
      "fig, ax = plt.subplots()\n",
      "\n",
      "rects1 = ax.bar(ind, leftMeans, width, color='c', yerr= leftSte)\n",
      "\n",
      "rects2 = ax.bar(ind+width, rightMeans, width, color='m', yerr= rightSte)\n",
      "\n",
      "\n",
      "# add some text for labels, title and axes ticks\n",
      "ax.set_ylabel('Accuracy ')\n",
      "ax.set_title('Cat vs Dog Sound Classification')\n",
      "ax.set_xticks(ind+width)\n",
      "ax.set_xticklabels( ('All Subjects', 'Dummy', 'Individual Subjects') )\n",
      "\n",
      "ax.legend( (rects1[0], rects2[0]), ('LH', 'RH') )\n",
      "\n",
      "def autolabel(rects):\n",
      "    # attach some text labels\n",
      "    for rect in rects:\n",
      "        height = rect.get_height()\n",
      "        ax.text(rect.get_x()+rect.get_width()/2., 1.05*height, '%d'%int(height),\n",
      "                ha='center', va='bottom')\n",
      "\n",
      "\n",
      "plt.show()\n",
      "fig.savefig('cat-vs-dog-all.pdf')"
     ],
     "language": "python",
     "metadata": {},
     "outputs": [
      {
       "metadata": {},
       "output_type": "display_data",
       "png": "[encoded data removed]",
       "text": [
        "<matplotlib.figure.Figure at 0x109161d10>"
       ]
      }
     ],
     "prompt_number": 185
    },
    {
     "cell_type": "heading",
     "level": 2,
     "metadata": {},
     "source": [
      "Analysis 5 - Individual Male vs. Female Image"
     ]
    },
    {
     "cell_type": "code",
     "collapsed": false,
     "input": [
      "face = a[a[:, 3] == 1]\n",
      "face = np.vstack((face, a[a[:, 3] == 2]))"
     ],
     "language": "python",
     "metadata": {},
     "outputs": [],
     "prompt_number": 186
    },
    {
     "cell_type": "code",
     "collapsed": false,
     "input": [
      "subjMeans_lh = []\n",
      "subjStd_lh = []\n",
      "\n",
      "dummyMeans_lh = []\n",
      "dummyStd_lh = []\n",
      "\n",
      "subjMeans_rh = []\n",
      "subjStd_rh = []\n",
      "\n",
      "dummyMeans_rh = []\n",
      "dummyStd_rh = []\n"
     ],
     "language": "python",
     "metadata": {},
     "outputs": [],
     "prompt_number": 187
    },
    {
     "cell_type": "code",
     "collapsed": false,
     "input": [
      "for i in range (0,8):\n",
      "    \n",
      "    subj_face = face[face[:,0] == i]\n",
      "    \n",
      "    y_subj_face = subj_face[:,3]\n",
      "    X_subj_face = subj_face[:, 5:]\n",
      "    \n",
      "    scaler= StandardScaler()\n",
      "    X_subj_face_scale = scaler.fit_transform(X_subj_face)\n",
      "\n",
      "\n",
      "    svc = SVC(kernel='linear')\n",
      "    \n",
      "    # Select 500 features using ANOVA\n",
      "    feature_selection = SelectKBest(f_classif, k=30)\n",
      "\n",
      "    # pipeline performs the two operations successively:\n",
      "    anova_svc = Pipeline([('anova', feature_selection), ('svc', svc)])\n",
      "\n",
      "    cv = KFold(n=len(X_subj_face_scale), n_folds=5)\n",
      "    cv_scores = []\n",
      "\n",
      "    cv_scores = cross_val_score(anova_svc, X_subj_face_scale, y_subj_face, cv=cv)\n",
      "    \n",
      "    print '*** SCORES FOR SUBJECT ID: %d ***' %i\n",
      "    print 'CV Scores:' \n",
      "    print cv_scores\n",
      "    print cv_scores.mean()\n",
      "    print cv_scores.std()\n",
      "    subjMeans_lh.append(cv_scores.mean())\n",
      "\n",
      "    null_cv_scores = cross_val_score(DummyClassifier(), X_subj_face_scale, y_subj_face, cv=cv)\n",
      "\n",
      "    print 'Dummy CV Scores: '\n",
      "    print null_cv_scores\n",
      "    print null_cv_scores.mean()\n",
      "    print null_cv_scores.std()\n",
      "    \n",
      "    dummyMeans_lh.append(null_cv_scores.mean())\n",
      "    print ''\n",
      "    \n",
      "    anova_svc.fit(X_subj_face_scale, y_subj_face)\n",
      "    prediction = anova_svc.predict(X_subj_face_scale)\n",
      "    ### Look at the SVC's discriminating weights\n",
      "    coef = svc.coef_\n",
      "    # reverse feature selection\n",
      "    coef = feature_selection.inverse_transform(coef)\n",
      "    # reverse masking\n",
      "    weight_img = nifti_masker.inverse_transform(coef)\n",
      "    \n",
      "    filename = '0%d-male_vs_female_lh.nii'% i\n",
      "    weight_img.to_filename(filename) \n",
      "    "
     ],
     "language": "python",
     "metadata": {},
     "outputs": [
      {
       "output_type": "stream",
       "stream": "stdout",
       "text": [
        "*** SCORES FOR SUBJECT ID: 0 ***\n",
        "CV Scores:\n",
        "[ 1.          0.85714286  0.83333333  0.66666667  1.        ]\n",
        "0.871428571429\n",
        "0.12380952381\n",
        "Dummy CV Scores: "
       ]
      },
      {
       "output_type": "stream",
       "stream": "stdout",
       "text": [
        "\n",
        "[ 0.42857143  0.42857143  0.16666667  0.5         0.5       ]\n",
        "0.404761904762\n",
        "0.123258848624\n",
        "\n",
        "*** SCORES FOR SUBJECT ID: 1 ***"
       ]
      },
      {
       "output_type": "stream",
       "stream": "stdout",
       "text": [
        "\n",
        "CV Scores:\n",
        "[ 0.71428571  0.28571429  0.66666667  0.16666667  0.5       ]\n",
        "0.466666666667\n",
        "0.212212190049\n",
        "Dummy CV Scores: "
       ]
      },
      {
       "output_type": "stream",
       "stream": "stdout",
       "text": [
        "\n",
        "[ 0.          0.14285714  0.83333333  0.16666667  0.5       ]\n",
        "0.328571428571\n",
        "0.300943339225\n",
        "\n",
        "*** SCORES FOR SUBJECT ID: 2 ***"
       ]
      },
      {
       "output_type": "stream",
       "stream": "stdout",
       "text": [
        "\n",
        "CV Scores:\n",
        "[ 0.57142857  0.42857143  0.5         0.33333333  0.5       ]\n",
        "0.466666666667\n",
        "0.0805311167871\n",
        "Dummy CV Scores: "
       ]
      },
      {
       "output_type": "stream",
       "stream": "stdout",
       "text": [
        "\n",
        "[ 0.28571429  0.28571429  0.5         0.33333333  0.33333333]\n",
        "0.347619047619\n",
        "0.0791107034564\n",
        "\n",
        "*** SCORES FOR SUBJECT ID: 3 ***"
       ]
      },
      {
       "output_type": "stream",
       "stream": "stdout",
       "text": [
        "\n",
        "CV Scores:\n",
        "[ 0.14285714  0.28571429  0.66666667  0.33333333  0.66666667]\n",
        "0.419047619048\n",
        "0.211677245437\n",
        "Dummy CV Scores: "
       ]
      },
      {
       "output_type": "stream",
       "stream": "stdout",
       "text": [
        "\n",
        "[ 0.14285714  0.71428571  0.83333333  0.33333333  0.83333333]\n",
        "0.571428571429\n",
        "0.282120252259\n",
        "\n",
        "*** SCORES FOR SUBJECT ID: 4 ***"
       ]
      },
      {
       "output_type": "stream",
       "stream": "stdout",
       "text": [
        "\n",
        "CV Scores:\n",
        "[ 0.42857143  0.          0.83333333  0.66666667  0.5       ]\n",
        "0.485714285714\n",
        "0.280346400563\n",
        "Dummy CV Scores: "
       ]
      },
      {
       "output_type": "stream",
       "stream": "stdout",
       "text": [
        "\n",
        "[ 0.28571429  0.14285714  0.5         0.33333333  0.16666667]\n",
        "0.285714285714\n",
        "0.128659581772\n",
        "\n",
        "*** SCORES FOR SUBJECT ID: 5 ***"
       ]
      },
      {
       "output_type": "stream",
       "stream": "stdout",
       "text": [
        "\n",
        "CV Scores:\n",
        "[ 0.42857143  0.28571429  0.5         0.5         0.16666667]\n",
        "0.37619047619\n",
        "0.130757430645\n",
        "Dummy CV Scores: "
       ]
      },
      {
       "output_type": "stream",
       "stream": "stdout",
       "text": [
        "\n",
        "[ 0.28571429  0.28571429  0.33333333  0.33333333  0.33333333]\n",
        "0.314285714286\n",
        "0.0233284737408\n",
        "\n",
        "*** SCORES FOR SUBJECT ID: 6 ***"
       ]
      },
      {
       "output_type": "stream",
       "stream": "stdout",
       "text": [
        "\n",
        "CV Scores:\n",
        "[ 0.14285714  0.28571429  0.66666667  0.5         0.5       ]\n",
        "0.419047619048\n",
        "0.183565097785\n",
        "Dummy CV Scores: "
       ]
      },
      {
       "output_type": "stream",
       "stream": "stdout",
       "text": [
        "\n",
        "[ 0.28571429  0.28571429  0.5         0.16666667  0.16666667]\n",
        "0.280952380952\n",
        "0.121778208119\n",
        "\n",
        "*** SCORES FOR SUBJECT ID: 7 ***"
       ]
      },
      {
       "output_type": "stream",
       "stream": "stdout",
       "text": [
        "\n",
        "CV Scores:\n",
        "[ 0.57142857  0.28571429  0.5         0.5         0.66666667]\n",
        "0.504761904762\n",
        "0.125447046403\n",
        "Dummy CV Scores: "
       ]
      },
      {
       "output_type": "stream",
       "stream": "stdout",
       "text": [
        "\n",
        "[ 0.42857143  0.28571429  0.16666667  0.33333333  0.5       ]\n",
        "0.342857142857\n",
        "0.115273508923\n",
        "\n"
       ]
      }
     ],
     "prompt_number": 188
    },
    {
     "cell_type": "heading",
     "level": 3,
     "metadata": {},
     "source": [
      "Right Hemisphere"
     ]
    },
    {
     "cell_type": "code",
     "collapsed": false,
     "input": [
      "face = b[b[:, 3] == 1]\n",
      "face = np.vstack((face, b[b[:, 3] == 2]))"
     ],
     "language": "python",
     "metadata": {},
     "outputs": [],
     "prompt_number": 189
    },
    {
     "cell_type": "code",
     "collapsed": false,
     "input": [
      "for i in range (0,8):\n",
      "    \n",
      "    subj_face = face[face[:,0] == i]\n",
      "    \n",
      "    y_subj_face = subj_face[:,3]\n",
      "    X_subj_face = subj_face[:, 5:]\n",
      "    \n",
      "    scaler= StandardScaler()\n",
      "    X_subj_face_scale = scaler.fit_transform(X_subj_face)\n",
      "\n",
      "\n",
      "    svc = SVC(kernel='linear')\n",
      "    \n",
      "    # Select 500 features using ANOVA\n",
      "    feature_selection = SelectKBest(f_classif, k=30)\n",
      "\n",
      "    # pipeline performs the two operations successively:\n",
      "    anova_svc = Pipeline([('anova', feature_selection), ('svc', svc)])\n",
      "    cv = KFold(n=len(X_subj_face_scale), n_folds=5)\n",
      "    cv_scores = []\n",
      "    \n",
      "    cv_scores = cross_val_score(anova_svc, X_subj_face_scale, y_subj_face, cv=cv)\n",
      "\n",
      "    print '*** SCORES FOR SUBJECT ID: %d ***' %i\n",
      "    print 'CV Scores:' \n",
      "    print cv_scores\n",
      "    print cv_scores.mean()\n",
      "    print cv_scores.std()\n",
      "    \n",
      "    subjMeans_rh.append(cv_scores.mean())\n",
      "\n",
      "    null_cv_scores = cross_val_score(DummyClassifier(), X_subj_face_scale, y_subj_face, cv=cv)\n",
      "\n",
      "    print 'Dummy CV Scores: '\n",
      "    print null_cv_scores\n",
      "    print null_cv_scores.mean()\n",
      "    print null_cv_scores.std()\n",
      "    \n",
      "    dummyMeans_rh.append(null_cv_scores.mean())\n",
      "\n",
      "    print ''\n",
      "    \n",
      "    anova_svc.fit(X_subj_face_scale, y_subj_face)\n",
      "    prediction = anova_svc.predict(X_subj_face_scale)\n",
      "    ### Look at the SVC's discriminating weights\n",
      "    coef = svc.coef_\n",
      "    # reverse feature selection\n",
      "    coef = feature_selection.inverse_transform(coef)\n",
      "    # reverse masking\n",
      "    weight_img = nifti_masker.inverse_transform(coef)\n",
      "    \n",
      "    filename = '0%d-male_vs_female_rh.nii'% i\n",
      "    weight_img.to_filename(filename)     "
     ],
     "language": "python",
     "metadata": {},
     "outputs": [
      {
       "output_type": "stream",
       "stream": "stdout",
       "text": [
        "*** SCORES FOR SUBJECT ID: 0 ***\n",
        "CV Scores:\n",
        "[ 0.85714286  0.71428571  1.          0.66666667  0.66666667]\n",
        "0.780952380952\n",
        "0.129887444733\n",
        "Dummy CV Scores: "
       ]
      },
      {
       "output_type": "stream",
       "stream": "stdout",
       "text": [
        "\n",
        "[ 0.57142857  0.14285714  0.16666667  0.          0.5       ]\n",
        "0.27619047619\n",
        "0.220594948989\n",
        "\n",
        "*** SCORES FOR SUBJECT ID: 1 ***"
       ]
      },
      {
       "output_type": "stream",
       "stream": "stdout",
       "text": [
        "\n",
        "CV Scores:\n",
        "[ 0.57142857  0.57142857  0.66666667  0.16666667  0.16666667]\n",
        "0.428571428571\n",
        "0.216653584116\n",
        "Dummy CV Scores: "
       ]
      },
      {
       "output_type": "stream",
       "stream": "stdout",
       "text": [
        "\n",
        "[ 0.14285714  0.14285714  0.5         0.33333333  0.        ]\n",
        "0.22380952381\n",
        "0.174053970309\n",
        "\n",
        "*** SCORES FOR SUBJECT ID: 2 ***"
       ]
      },
      {
       "output_type": "stream",
       "stream": "stdout",
       "text": [
        "\n",
        "CV Scores:\n",
        "[ 0.57142857  0.71428571  0.83333333  0.66666667  0.83333333]\n",
        "0.72380952381\n",
        "0.100565295628\n",
        "Dummy CV Scores: "
       ]
      },
      {
       "output_type": "stream",
       "stream": "stdout",
       "text": [
        "\n",
        "[ 0.28571429  0.42857143  0.33333333  0.66666667  0.5       ]\n",
        "0.442857142857\n",
        "0.134349866473\n",
        "\n",
        "*** SCORES FOR SUBJECT ID: 3 ***"
       ]
      },
      {
       "output_type": "stream",
       "stream": "stdout",
       "text": [
        "\n",
        "CV Scores:\n",
        "[ 0.42857143  0.42857143  0.66666667  0.33333333  0.33333333]\n",
        "0.438095238095\n",
        "0.121964271189\n",
        "Dummy CV Scores: "
       ]
      },
      {
       "output_type": "stream",
       "stream": "stdout",
       "text": [
        "\n",
        "[ 0.28571429  0.28571429  0.5         0.5         0.33333333]\n",
        "0.380952380952\n",
        "0.0987449588254\n",
        "\n",
        "*** SCORES FOR SUBJECT ID: 4 ***"
       ]
      },
      {
       "output_type": "stream",
       "stream": "stdout",
       "text": [
        "\n",
        "CV Scores:\n",
        "[ 0.28571429  0.14285714  0.33333333  0.5         0.66666667]\n",
        "0.385714285714\n",
        "0.180952380952\n",
        "Dummy CV Scores: "
       ]
      },
      {
       "output_type": "stream",
       "stream": "stdout",
       "text": [
        "\n",
        "[ 0.28571429  0.42857143  0.66666667  0.33333333  0.5       ]\n",
        "0.442857142857\n",
        "0.134349866473\n",
        "\n",
        "*** SCORES FOR SUBJECT ID: 5 ***"
       ]
      },
      {
       "output_type": "stream",
       "stream": "stdout",
       "text": [
        "\n",
        "CV Scores:\n",
        "[ 0.71428571  0.57142857  0.33333333  0.66666667  0.33333333]\n",
        "0.52380952381\n",
        "0.162184632056\n",
        "Dummy CV Scores: "
       ]
      },
      {
       "output_type": "stream",
       "stream": "stdout",
       "text": [
        "\n",
        "[ 0.14285714  0.42857143  0.16666667  0.5         0.5       ]\n",
        "0.347619047619\n",
        "0.159790111767\n",
        "\n",
        "*** SCORES FOR SUBJECT ID: 6 ***"
       ]
      },
      {
       "output_type": "stream",
       "stream": "stdout",
       "text": [
        "\n",
        "CV Scores:\n",
        "[ 0.42857143  0.28571429  0.66666667  0.66666667  1.        ]\n",
        "0.609523809524\n",
        "0.243556416239\n",
        "Dummy CV Scores: "
       ]
      },
      {
       "output_type": "stream",
       "stream": "stdout",
       "text": [
        "\n",
        "[ 0.42857143  0.14285714  0.66666667  0.66666667  0.16666667]\n",
        "0.414285714286\n",
        "0.229165893629\n",
        "\n",
        "*** SCORES FOR SUBJECT ID: 7 ***"
       ]
      },
      {
       "output_type": "stream",
       "stream": "stdout",
       "text": [
        "\n",
        "CV Scores:\n",
        "[ 0.66666667  0.66666667  0.66666667  0.6         0.6       ]\n",
        "0.64\n",
        "0.0326598632371\n",
        "Dummy CV Scores: "
       ]
      },
      {
       "output_type": "stream",
       "stream": "stdout",
       "text": [
        "\n",
        "[ 0.66666667  0.83333333  0.5         1.          0.6       ]\n",
        "0.72\n",
        "0.177137736741\n",
        "\n"
       ]
      }
     ],
     "prompt_number": 193
    },
    {
     "cell_type": "heading",
     "level": 3,
     "metadata": {},
     "source": [
      "Graph results"
     ]
    },
    {
     "cell_type": "code",
     "collapsed": false,
     "input": [
      "subjMeans = []\n",
      "subjStd = []\n",
      "subjSte = []\n",
      "\n",
      "dummyMeans = []\n",
      "dummyStd = []\n",
      "dummySte = []\n",
      "\n",
      "for i in range(0,len(subjMeans_lh)):\n",
      "    \n",
      "    subjMeans.append( (subjMeans_lh[i] + subjMeans_rh[i]) / 2 ) \n",
      "    subjStd.append(np.array([subjMeans_lh[i], subjMeans_rh[i]]).std())\n",
      "    \n",
      "    dummyMeans.append((dummyMeans_lh[i] + dummyMeans_rh[i])/ 2)\n",
      "    dummyStd.append(np.array([dummyMeans_lh[i], dummyMeans_rh[i]]).std())\n",
      "    \n",
      "for i in range(0, len(subjMeans)):    \n",
      "    \n",
      "    subjSte.append(subjStd[i] / math.sqrt(2) )\n",
      "    dummySte.append(dummyStd[i] / math.sqrt(2))\n"
     ],
     "language": "python",
     "metadata": {},
     "outputs": [],
     "prompt_number": 194
    },
    {
     "cell_type": "code",
     "collapsed": false,
     "input": [
      "N = 8\n",
      "\n",
      "ind = np.arange(N)  # the x locations for the groups\n",
      "width = 0.35       # the width of the bars\n",
      "\n",
      "fig, ax = plt.subplots()\n",
      "rects1 = ax.bar(ind, subjMeans, width, color='r', yerr=subjSte)\n",
      "\n",
      "rects2 = ax.bar(ind+width, dummyMeans, width, color='b', yerr=dummySte)\n",
      "\n",
      "# add some text for labels, title and axes ticks\n",
      "ax.set_ylabel('Accuracy ')\n",
      "ax.set_title('Male vs. Female Face Classification')\n",
      "ax.set_xticks(ind+width)\n",
      "ax.set_xticklabels( ('00', '01', '02', '03', '04', '05', '06', '07') ) #etc\n",
      "ax.set_xlabel('Subject ID')\n",
      "\n",
      "ax.legend( (rects1[0], rects2[0]), ('SVC', 'Dummy') )\n",
      "\n",
      "def autolabel(rects):\n",
      "    # attach some text labels\n",
      "    for rect in rects:\n",
      "        height = rect.get_height()\n",
      "        ax.text(rect.get_x()+rect.get_width()/2., 1.05*height, '%d'%int(height),\n",
      "                ha='center', va='bottom')\n",
      "\n",
      "plt.show()\n",
      "\n",
      "fig.savefig('male-vs-female-individual.pdf')"
     ],
     "language": "python",
     "metadata": {},
     "outputs": [
      {
       "metadata": {},
       "output_type": "display_data",
       "png": "[encoded data removed]",
       "text": [
        "<matplotlib.figure.Figure at 0x1308d7d50>"
       ]
      }
     ],
     "prompt_number": 195
    },
    {
     "cell_type": "heading",
     "level": 2,
     "metadata": {},
     "source": [
      "Analysis 6 - All-subjects Male vs. Female Image"
     ]
    },
    {
     "cell_type": "code",
     "collapsed": false,
     "input": [
      "face = a[a[:, 3] == 1]\n",
      "face = np.vstack((face, a[a[:, 3] == 2]))"
     ],
     "language": "python",
     "metadata": {},
     "outputs": [],
     "prompt_number": 196
    },
    {
     "cell_type": "code",
     "collapsed": false,
     "input": [
      "face.shape"
     ],
     "language": "python",
     "metadata": {},
     "outputs": [
      {
       "metadata": {},
       "output_type": "pyout",
       "prompt_number": 197,
       "text": [
        "(256, 163847)"
       ]
      }
     ],
     "prompt_number": 197
    },
    {
     "cell_type": "code",
     "collapsed": false,
     "input": [
      "leftMeans = []\n",
      "leftStd = []\n",
      "rightMeans = []\n",
      "rightStd = []"
     ],
     "language": "python",
     "metadata": {},
     "outputs": [],
     "prompt_number": 198
    },
    {
     "cell_type": "code",
     "collapsed": false,
     "input": [
      "X_face = face[:, 5:]\n",
      "scaler= StandardScaler()\n",
      "\n",
      "X_face_scale = scaler.fit_transform(X_face)\n",
      "\n",
      "y_face = face[:, 3]\n",
      "\n",
      "\n",
      "svc = SVC(kernel='linear')\n",
      "print 'svc object created'\n",
      "\n",
      "# Select 500 features using ANOVA\n",
      "feature_selection = SelectKBest(f_classif, k=200)\n",
      "\n",
      "# pipeline performs the two operations successively:\n",
      "anova_svc = Pipeline([('anova', feature_selection), ('svc', svc)])\n",
      "\n",
      "print 'anova_svc object created'\n",
      "\n",
      "cv = KFold(n=len(X_face_scale), n_folds=5)\n",
      "cv_scores = []\n",
      "\n",
      "print 'cv object created'\n",
      "\n",
      "cv_scores = cross_val_score(anova_svc, X_face_scale, y_face, cv=cv)\n",
      "\n",
      "print cv_scores\n",
      "print cv_scores.mean()\n",
      "print cv_scores.std()\n",
      "\n",
      "leftMeans.append(cv_scores.mean())\n",
      "leftStd.append(cv_scores.std())\n",
      "\n",
      "null_cv_scores = cross_val_score(DummyClassifier(), X_face_scale, y_face, cv=cv)\n",
      "\n",
      "print null_cv_scores\n",
      "print null_cv_scores.mean()\n",
      "print null_cv_scores.std()\n",
      "\n",
      "leftMeans.append(null_cv_scores.mean())\n",
      "leftStd.append(null_cv_scores.std())\n",
      "\n",
      "anova_svc.fit(X_face_scale, y_face)\n",
      "\n",
      "prediction = anova_svc.predict(X_face_scale)\n",
      "### Look at the SVC's discriminating weights\n",
      "coef = svc.coef_\n",
      "# reverse feature selection\n",
      "coef = feature_selection.inverse_transform(coef)\n",
      "# reverse masking\n",
      "weight_img = nifti_masker.inverse_transform(coef)\n",
      "\n",
      "weight_img.to_filename('allsubj-male_vs_female_lh.nii')\n"
     ],
     "language": "python",
     "metadata": {},
     "outputs": [
      {
       "output_type": "stream",
       "stream": "stdout",
       "text": [
        "svc object created\n",
        "anova_svc object created\n",
        "cv object created\n",
        "[ 0.5         0.37254902  0.39215686  0.49019608  0.25490196]"
       ]
      },
      {
       "output_type": "stream",
       "stream": "stdout",
       "text": [
        "\n",
        "0.401960784314\n",
        "0.0894255235372\n",
        "[ 0.34615385  0.37254902  0.37254902  0.31372549  0.37254902]"
       ]
      },
      {
       "output_type": "stream",
       "stream": "stdout",
       "text": [
        "\n",
        "0.355505279035\n",
        "0.0232571164614\n"
       ]
      },
      {
       "metadata": {},
       "output_type": "pyout",
       "prompt_number": 199,
       "text": [
        "\"\\nanova_svc.fit(X_face_scale, y_face)\\n\\nprediction = anova_svc.predict(X_face_scale)\\n### Look at the SVC's discriminating weights\\ncoef = svc.coef_\\n# reverse feature selection\\ncoef = feature_selection.inverse_transform(coef)\\n# reverse masking\\nweight_img = nifti_masker.inverse_transform(coef)\\n\\nweight_img.to_filename('allsubj-male_vs_female_lh.nii')\\n\""
       ]
      }
     ],
     "prompt_number": 199
    },
    {
     "cell_type": "heading",
     "level": 3,
     "metadata": {},
     "source": [
      "Right hemisphere"
     ]
    },
    {
     "cell_type": "code",
     "collapsed": false,
     "input": [
      "face = b[b[:, 3] == 1]\n",
      "face = np.vstack((face, b[b[:, 3] == 2]))"
     ],
     "language": "python",
     "metadata": {},
     "outputs": [],
     "prompt_number": 200
    },
    {
     "cell_type": "code",
     "collapsed": false,
     "input": [
      "X_face = face[:, 5:]\n",
      "scaler= StandardScaler()\n",
      "\n",
      "X_face_scale = scaler.fit_transform(X_face)\n",
      "\n",
      "y_face = face[:, 3]\n",
      "\n",
      "\n",
      "svc = SVC(kernel='linear')\n",
      "print 'svc object created'\n",
      "\n",
      "# Select 500 features using ANOVA\n",
      "feature_selection = SelectKBest(f_classif, k=200)\n",
      "\n",
      "# pipeline performs the two operations successively:\n",
      "anova_svc = Pipeline([('anova', feature_selection), ('svc', svc)])\n",
      "\n",
      "print 'anova_svc object created'\n",
      "\n",
      "cv = KFold(n=len(X_face_scale), n_folds=5)\n",
      "cv_scores = []\n",
      "\n",
      "print 'cv object created'\n",
      "\n",
      "cv_scores = cross_val_score(anova_svc, X_face_scale, y_face, cv=cv)\n",
      "\n",
      "print cv_scores\n",
      "print cv_scores.mean()\n",
      "print cv_scores.std()\n",
      "\n",
      "rightMeans.append(cv_scores.mean())\n",
      "rightStd.append(cv_scores.std())\n",
      "\n",
      "null_cv_scores = cross_val_score(DummyClassifier(), X_face_scale, y_face, cv=cv)\n",
      "\n",
      "print null_cv_scores\n",
      "print null_cv_scores.mean()\n",
      "print null_cv_scores.std()\n",
      "\n",
      "rightMeans.append(null_cv_scores.mean())\n",
      "rightStd.append(null_cv_scores.std())\n",
      "\n",
      "\n",
      "anova_svc.fit(X_face_scale, y_face)\n",
      "\n",
      "prediction = anova_svc.predict(X_face_scale)\n",
      "### Look at the SVC's discriminating weights\n",
      "coef = svc.coef_\n",
      "# reverse feature selection\n",
      "coef = feature_selection.inverse_transform(coef)\n",
      "# reverse masking\n",
      "weight_img = nifti_masker.inverse_transform(coef)\n",
      "\n",
      "weight_img.to_filename('allsubj-male_vs_female_rh.nii')\n"
     ],
     "language": "python",
     "metadata": {},
     "outputs": [
      {
       "output_type": "stream",
       "stream": "stdout",
       "text": [
        "svc object created\n",
        "anova_svc object created\n",
        "cv object created\n",
        "[ 0.43137255  0.41176471  0.5         0.46        0.26      ]"
       ]
      },
      {
       "output_type": "stream",
       "stream": "stdout",
       "text": [
        "\n",
        "0.41262745098\n",
        "0.0818845315614\n",
        "[ 0.35294118  0.50980392  0.68        0.3         0.36      ]"
       ]
      },
      {
       "output_type": "stream",
       "stream": "stdout",
       "text": [
        "\n",
        "0.440549019608\n",
        "0.138600374536\n"
       ]
      },
      {
       "metadata": {},
       "output_type": "pyout",
       "prompt_number": 201,
       "text": [
        "\"\\nanova_svc.fit(X_face_scale, y_face)\\n\\nprediction = anova_svc.predict(X_face_scale)\\n### Look at the SVC's discriminating weights\\ncoef = svc.coef_\\n# reverse feature selection\\ncoef = feature_selection.inverse_transform(coef)\\n# reverse masking\\nweight_img = nifti_masker.inverse_transform(coef)\\n\\nweight_img.to_filename('allsubj-male_vs_female_rh.nii')\\n\""
       ]
      }
     ],
     "prompt_number": 201
    },
    {
     "cell_type": "heading",
     "level": 3,
     "metadata": {},
     "source": [
      "Graph Results"
     ]
    },
    {
     "cell_type": "code",
     "collapsed": false,
     "input": [
      "leftSte = []\n",
      "rightSte = []\n",
      "\n",
      "for i in range(0, len(leftStd)):\n",
      "    leftSte.append(leftStd[i]/ math.sqrt(10))\n",
      "    rightSte.append(rightStd[i]/ math.sqrt(10))\n",
      "\n",
      "leftMeans.append(np.mean(subjMeans_lh))\n",
      "rightMeans.append(np.mean(subjMeans_rh))\n",
      "\n",
      "leftSte.append(np.std(subjMeans_lh)/ math.sqrt(8))\n",
      "rightSte.append(np.std(subjMeans_rh)/ math.sqrt(8))"
     ],
     "language": "python",
     "metadata": {},
     "outputs": [],
     "prompt_number": 202
    },
    {
     "cell_type": "code",
     "collapsed": false,
     "input": [
      "N = 3\n",
      "\n",
      "ind = np.arange(N)  # the x locations for the groups\n",
      "width = 0.35      # the width of the bars\n",
      "\n",
      "fig, ax = plt.subplots()\n",
      "\n",
      "rects1 = ax.bar(ind, leftMeans, width, color='c', yerr= leftSte)\n",
      "\n",
      "rects2 = ax.bar(ind+width, rightMeans, width, color='m', yerr= rightSte)\n",
      "\n",
      "\n",
      "# add some text for labels, title and axes ticks\n",
      "ax.set_ylabel('Accuracy ')\n",
      "ax.set_title('Male vs. Female Face Classification')\n",
      "ax.set_xticks(ind+width)\n",
      "ax.set_xticklabels( ('All Subjects', 'Dummy', 'Individual Subjects') )\n",
      "\n",
      "ax.legend( (rects1[0], rects2[0]), ('LH', 'RH') )\n",
      "\n",
      "def autolabel(rects):\n",
      "    # attach some text labels\n",
      "    for rect in rects:\n",
      "        height = rect.get_height()\n",
      "        ax.text(rect.get_x()+rect.get_width()/2., 1.05*height, '%d'%int(height),\n",
      "                ha='center', va='bottom')\n",
      "\n",
      "\n",
      "plt.show()\n",
      "fig.savefig('male-vs-female-all.pdf')"
     ],
     "language": "python",
     "metadata": {},
     "outputs": [
      {
       "metadata": {},
       "output_type": "display_data",
       "png": "[encoded data removed]",
       "text": [
        "<matplotlib.figure.Figure at 0x1308b9b90>"
       ]
      }
     ],
     "prompt_number": 204
    },
    {
     "cell_type": "code",
     "collapsed": false,
     "input": [
      "# Code for setting the style of the notebook\n",
      "from IPython.core.display import HTML\n",
      "def css_styling():\n",
      "    styles = open(\"theme/custom.css\", \"r\").read()\n",
      "    return HTML(styles)\n",
      "css_styling()"
     ],
     "language": "python",
     "metadata": {},
     "outputs": [
      {
       "html": [
        "<link href='http://fonts.googleapis.com/css?family=EB+Garamond' rel='stylesheet' type='text/css'>\r\n",
        "<link href='http://fonts.googleapis.com/css?family=Alegreya+Sans:100,300,400,500,700,800,900,100italic,300italic,400italic,500italic,700italic,800italic,900italic' rel='stylesheet' type='text/css'>\r\n",
        "<link href='http://fonts.googleapis.com/css?family=Source+Code+Pro:300,400' rel='stylesheet' type='text/css'>\r\n",
        "<style>\r\n",
        "    @font-face {\r\n",
        "        font-family: \"Computer Modern\";\r\n",
        "        src: url('http://mirrors.ctan.org/fonts/cm-unicode/fonts/otf/cmunss.otf');\r\n",
        "    }\r\n",
        "    .code_cell {\r\n",
        "        width: 105ex !important ;\r\n",
        "        margin-bottom: 15px !important;\r\n",
        "    }\r\n",
        "    div.cell {\r\n",
        "        margin-left: auto;\r\n",
        "        margin-right: auto;\r\n",
        "        width: 70%;\r\n",
        "    }    \r\n",
        "    div.cell.selected {\r\n",
        "        border: thin rgba(171, 171, 171, 0.5) dashed;\r\n",
        "    }\r\n",
        "    h1 {\r\n",
        "        font-family: 'Alegreya Sans', sans-serif;\r\n",
        "    }\r\n",
        "    h2 {\r\n",
        "        font-family: 'EB Garamond', serif;\r\n",
        "    }\r\n",
        "    h3 {\r\n",
        "        font-family: 'EB Garamond', serif;\r\n",
        "        margin-top:12px;\r\n",
        "        margin-bottom: 3px;\r\n",
        "    }\r\n",
        "    h4 {\r\n",
        "        font-family: 'EB Garamond', serif;\r\n",
        "    }\r\n",
        "    h5 {\r\n",
        "        font-family: 'Alegreya Sans', sans-serif;\r\n",
        "    }\r\n",
        "    div.text_cell_render {\r\n",
        "        font-family: 'EB Garamond',Computer Modern, \"Helvetica Neue\", Arial, Helvetica, Geneva, sans-serif;\r\n",
        "        line-height: 145%;\r\n",
        "        font-size: 140%;\r\n",
        "    }\r\n",
        "    div.input_area {\r\n",
        "        border-color: rgba(0,0,0,0.10) !important;\r\n",
        "        background: #fafafa;\r\n",
        "    }\r\n",
        "    .CodeMirror {\r\n",
        "            font-family: \"Source Code Pro\";\r\n",
        "            font-size: 90%;\r\n",
        "    }\r\n",
        "    .prompt {\r\n",
        "        display: None;\r\n",
        "    }\r\n",
        "    .output {\r\n",
        "        padding-left: 50px;\r\n",
        "        padding-top: 5px;\r\n",
        "    }\r\n",
        "    .output_wrapper {\r\n",
        "        padding-left: 5px;\r\n",
        "        padding-top: inherit;\r\n",
        "    }\r\n",
        "    div.output_scroll {\r\n",
        "        width: inherit;\r\n",
        "    }\r\n",
        "    .inner_cell {\r\n",
        "        padding-left: 5px;\r\n",
        "    }\r\n",
        "    .text_cell_render h1 {\r\n",
        "        font-weight: 200;\r\n",
        "        font-size: 50pt;\r\n",
        "        line-height: 100%;\r\n",
        "        color:#CD2305;\r\n",
        "        margin-bottom: 0.5em;\r\n",
        "        margin-top: 0.5em;\r\n",
        "        display: block;\r\n",
        "    }\r\n",
        "    .text_cell_render h5 {\r\n",
        "        font-weight: 300;\r\n",
        "        font-size: 16pt;\r\n",
        "        color: #CD2305;\r\n",
        "        font-style: italic;\r\n",
        "        margin-bottom: .5em;\r\n",
        "        margin-top: 0.5em;\r\n",
        "        display: block;\r\n",
        "    }\r\n",
        "    .warning {\r\n",
        "        color: rgb( 240, 20, 20 )\r\n",
        "        }  \r\n",
        "</style>\r\n",
        "<script>\r\n",
        "    MathJax.Hub.Config({\r\n",
        "                        TeX: {\r\n",
        "                           extensions: [\"AMSmath.js\"]\r\n",
        "                           },\r\n",
        "                tex2jax: {\r\n",
        "                    inlineMath: [ ['$','$'], [\"\\\\(\",\"\\\\)\"] ],\r\n",
        "                    displayMath: [ ['$$','$$'], [\"\\\\[\",\"\\\\]\"] ]\r\n",
        "                },\r\n",
        "                displayAlign: 'center', // Change this to 'center' to center equations.\r\n",
        "                \"HTML-CSS\": {\r\n",
        "                    styles: {'.MathJax_Display': {\"margin\": 4}}\r\n",
        "                }\r\n",
        "        });\r\n",
        "</script>"
       ],
       "metadata": {},
       "output_type": "pyout",
       "prompt_number": 128,
       "text": [
        "<IPython.core.display.HTML at 0x10218f5d0>"
       ]
      }
     ],
     "prompt_number": 128
    }
   ],
   "metadata": {}
  }
 ]
}